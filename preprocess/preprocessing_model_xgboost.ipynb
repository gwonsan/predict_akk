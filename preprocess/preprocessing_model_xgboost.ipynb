{
 "cells": [
  {
   "cell_type": "code",
   "execution_count": 1,
   "metadata": {},
   "outputs": [],
   "source": [
    "import pandas as pd\n",
    "import numpy as np\n",
    "from tqdm import tqdm\n",
    "import rasterio\n",
    "from rasterio.mask import mask\n",
    "import scipy.io as sio\n",
    "import geopandas as gpd\n",
    "import matplotlib.pyplot as plt\n"
   ]
  },
  {
   "cell_type": "code",
   "execution_count": null,
   "metadata": {},
   "outputs": [],
   "source": [
    "with rasterio.open('C:\\\\Users\\\\jmt30\\\\Desktop\\\\문화재\\\\영상 데이터\\\\2023\\\\hyper\\\\02_20230616_Buso_Hyper_Subset') as src:\n",
    "    print(src.read())"
   ]
  },
  {
   "cell_type": "markdown",
   "metadata": {},
   "source": [
    "## tif과 shp파일를 csv파일로 변환"
   ]
  },
  {
   "cell_type": "code",
   "execution_count": 3,
   "metadata": {},
   "outputs": [],
   "source": [
    "## SHP file \n",
    "shp_file_path = \"F:\\\\문화재\\\\2307_Gong\\\\2307_Gong\\\\2307_hyper_akk\\\\\"\n",
    "shp_file_name = \"2307_hyper_akk.shp\"\n",
    "\n",
    "## HyperSpectral Iamge file \n",
    "hsp_img_path = 'E:\\\\Downloads\\\\2307_Gong\\\\2307_Gong\\\\'\n",
    "hsp_img_name = \"2307_4,6,8,9,10,11,12_mnf.dat\" \n",
    "hsp_img_hdr_name = \"2307_4,6,8,9,10,11,12_mnf.hdr\"\n"
   ]
  },
  {
   "cell_type": "code",
   "execution_count": 28,
   "metadata": {},
   "outputs": [],
   "source": [
    "with rasterio.open('2307_4,6,8,9,10,11,12_mnf') as src:\n",
    "    data=src.read()\n",
    "    test= data.transpose((1,2,0))\n",
    "with rasterio.open(\"E:\\\\Downloads\\\\2307_Gong\\\\2307_Gong\\\\2307_4,6,8,9,10,11,12_mnf.dat\") as src:\n",
    "    data1=src.read()\n",
    "    test1= data1.transpose((1,2,0))"
   ]
  },
  {
   "cell_type": "code",
   "execution_count": 30,
   "metadata": {},
   "outputs": [
    {
     "data": {
      "text/plain": [
       "(2786, 2558, 100)"
      ]
     },
     "execution_count": 30,
     "metadata": {},
     "output_type": "execute_result"
    }
   ],
   "source": [
    "test1.shape"
   ]
  },
  {
   "cell_type": "code",
   "execution_count": 2,
   "metadata": {},
   "outputs": [],
   "source": [
    "# 이미지에서 폴리곤에 해당하는 영역 마스킹\n",
    "def get_masked_area(src, shapes, crop=True, invert=False):\n",
    "    # 이미지에서 폴리곤에 해당하는 영역 마스킹\n",
    "    out_image, out_transform = mask(src, shapes, crop=crop, invert=invert)\n",
    "    return out_image"
   ]
  },
  {
   "cell_type": "code",
   "execution_count": 3,
   "metadata": {},
   "outputs": [],
   "source": [
    "def trans2csv(path1,path2,gt_path,save_path):\n",
    "    # 폴리곤을 GeoJSON 형태로 변환\n",
    "    shp_data = gpd.read_file(path2)\n",
    "    shapes = [feature[\"geometry\"] for _, feature in shp_data.iterrows()]\n",
    "    with rasterio.open(path1) as src:\n",
    "        #데이터 로딩\n",
    "        data1 = src.read()\n",
    "        gs =data1.transpose((1,2,0))\n",
    "        # 폴리곤 외부 영역 마스킹 (전체 이미지에서 폴리곤 제외)\n",
    "        outside_area = get_masked_area(src, shapes, crop=False, invert=False)  # 폴리곤 외부\n",
    "        gt=outside_area[1]\n",
    "        gt= np.where(gt >= 1 , 1, 0)\n",
    "        plt.imshow(gt)\n",
    "        # plt.imshow(gt)\n",
    "        # #부소산성용\n",
    "        # gt[:150, :] = 0\n",
    "        # gt[-150:, :] = 0\n",
    "\n",
    "        # # 좌우 가장자리 150픽셀씩 0으로 설정\n",
    "        # gt[:, :150] = 0\n",
    "        # gt[:, -150:] = 0\n",
    "    # gt=np.array(pd.read_csv(gt_path))    \n",
    "    print(f'gs shape: {gs.shape}')\n",
    "    print(f'gt shape: {gt.shape}')\n",
    "    df1= pd.DataFrame(gt)\n",
    "    df1.to_csv('../data/gs_2307_mnf_gt.csv',index=False)\n",
    "    gs=gs.reshape(-1,100)\n",
    "    gt=gt.reshape(-1)\n",
    "    df = pd.DataFrame(gs)\n",
    "    df.columns = [f'band {i}' for i in range(1, 101)]\n",
    "    df['target'] = gt\n",
    "    df['target'] = df['target'].astype(int)\n",
    "    # band 1~150까지의 합이 0인 행의 target을 0으로 설정\n",
    "    df.loc[df.iloc[:, :150].sum(axis=1) == 0, 'target'] = 0\n",
    "    df.to_csv(f'{save_path}.csv',encoding='utf-8',index=False)"
   ]
  },
  {
   "cell_type": "code",
   "execution_count": 6,
   "metadata": {},
   "outputs": [
    {
     "name": "stdout",
     "output_type": "stream",
     "text": [
      "gs shape: (2786, 2558, 100)\n",
      "gt shape: (2786, 2558)\n"
     ]
    },
    {
     "data": {
      "image/png": "[encoded data removed]",
      "text/plain": [
       "<Figure size 640x480 with 1 Axes>"
      ]
     },
     "metadata": {},
     "output_type": "display_data"
    }
   ],
   "source": [
    "trans2csv(hsp_img_path+hsp_img_name,shp_file_path+shp_file_name,'../data/buso_gt_2307.csv','../data/gs_2307_mnf_m1')"
   ]
  },
  {
   "cell_type": "code",
   "execution_count": 4,
   "metadata": {},
   "outputs": [],
   "source": [
    "name='../data/gs_2307_sub_m1.csv'"
   ]
  },
  {
   "cell_type": "code",
   "execution_count": 5,
   "metadata": {},
   "outputs": [],
   "source": [
    "df = pd.read_csv(name)"
   ]
  },
  {
   "cell_type": "markdown",
   "metadata": {},
   "source": [
    "## Index 생성"
   ]
  },
  {
   "cell_type": "code",
   "execution_count": 41,
   "metadata": {},
   "outputs": [
    {
     "ename": "KeyboardInterrupt",
     "evalue": "",
     "output_type": "error",
     "traceback": [
      "\u001b[1;31m---------------------------------------------------------------------------\u001b[0m",
      "\u001b[1;31mKeyboardInterrupt\u001b[0m                         Traceback (most recent call last)",
      "Cell \u001b[1;32mIn[41], line 2\u001b[0m\n\u001b[0;32m      1\u001b[0m df[\u001b[38;5;124m'\u001b[39m\u001b[38;5;124mlocation\u001b[39m\u001b[38;5;124m'\u001b[39m]\u001b[38;5;241m=\u001b[39m[i \u001b[38;5;28;01mfor\u001b[39;00m i \u001b[38;5;129;01min\u001b[39;00m \u001b[38;5;28mrange\u001b[39m(\u001b[38;5;241m1\u001b[39m,\u001b[38;5;28mlen\u001b[39m(df)\u001b[38;5;241m+\u001b[39m\u001b[38;5;241m1\u001b[39m)]\n\u001b[1;32m----> 2\u001b[0m df[\u001b[38;5;124m'\u001b[39m\u001b[38;5;124mlocation\u001b[39m\u001b[38;5;124m'\u001b[39m]\u001b[38;5;241m.\u001b[39mto_csv(\u001b[38;5;124mf\u001b[39m\u001b[38;5;124m'\u001b[39m\u001b[38;5;124m../data/gs_2307_mnf_index.csv\u001b[39m\u001b[38;5;124m'\u001b[39m,index\u001b[38;5;241m=\u001b[39m\u001b[38;5;28;01mFalse\u001b[39;00m)\n\u001b[0;32m      3\u001b[0m df[\u001b[38;5;124m'\u001b[39m\u001b[38;5;124mSum\u001b[39m\u001b[38;5;124m'\u001b[39m] \u001b[38;5;241m=\u001b[39m df\u001b[38;5;241m.\u001b[39miloc[:, :\u001b[38;5;241m150\u001b[39m]\u001b[38;5;241m.\u001b[39msum(axis\u001b[38;5;241m=\u001b[39m\u001b[38;5;241m1\u001b[39m)\n\u001b[0;32m      4\u001b[0m df \u001b[38;5;241m=\u001b[39m df[df[\u001b[38;5;124m'\u001b[39m\u001b[38;5;124mSum\u001b[39m\u001b[38;5;124m'\u001b[39m] \u001b[38;5;241m!=\u001b[39m \u001b[38;5;241m0\u001b[39m]\n",
      "File \u001b[1;32mc:\\Users\\jmt30\\anaconda3\\envs\\gs\\Lib\\site-packages\\pandas\\core\\generic.py:3902\u001b[0m, in \u001b[0;36mNDFrame.to_csv\u001b[1;34m(self, path_or_buf, sep, na_rep, float_format, columns, header, index, index_label, mode, encoding, compression, quoting, quotechar, lineterminator, chunksize, date_format, doublequote, escapechar, decimal, errors, storage_options)\u001b[0m\n\u001b[0;32m   3891\u001b[0m df \u001b[38;5;241m=\u001b[39m \u001b[38;5;28mself\u001b[39m \u001b[38;5;28;01mif\u001b[39;00m \u001b[38;5;28misinstance\u001b[39m(\u001b[38;5;28mself\u001b[39m, ABCDataFrame) \u001b[38;5;28;01melse\u001b[39;00m \u001b[38;5;28mself\u001b[39m\u001b[38;5;241m.\u001b[39mto_frame()\n\u001b[0;32m   3893\u001b[0m formatter \u001b[38;5;241m=\u001b[39m DataFrameFormatter(\n\u001b[0;32m   3894\u001b[0m     frame\u001b[38;5;241m=\u001b[39mdf,\n\u001b[0;32m   3895\u001b[0m     header\u001b[38;5;241m=\u001b[39mheader,\n\u001b[1;32m   (...)\u001b[0m\n\u001b[0;32m   3899\u001b[0m     decimal\u001b[38;5;241m=\u001b[39mdecimal,\n\u001b[0;32m   3900\u001b[0m )\n\u001b[1;32m-> 3902\u001b[0m \u001b[38;5;28;01mreturn\u001b[39;00m DataFrameRenderer(formatter)\u001b[38;5;241m.\u001b[39mto_csv(\n\u001b[0;32m   3903\u001b[0m     path_or_buf,\n\u001b[0;32m   3904\u001b[0m     lineterminator\u001b[38;5;241m=\u001b[39mlineterminator,\n\u001b[0;32m   3905\u001b[0m     sep\u001b[38;5;241m=\u001b[39msep,\n\u001b[0;32m   3906\u001b[0m     encoding\u001b[38;5;241m=\u001b[39mencoding,\n\u001b[0;32m   3907\u001b[0m     errors\u001b[38;5;241m=\u001b[39merrors,\n\u001b[0;32m   3908\u001b[0m     compression\u001b[38;5;241m=\u001b[39mcompression,\n\u001b[0;32m   3909\u001b[0m     quoting\u001b[38;5;241m=\u001b[39mquoting,\n\u001b[0;32m   3910\u001b[0m     columns\u001b[38;5;241m=\u001b[39mcolumns,\n\u001b[0;32m   3911\u001b[0m     index_label\u001b[38;5;241m=\u001b[39mindex_label,\n\u001b[0;32m   3912\u001b[0m     mode\u001b[38;5;241m=\u001b[39mmode,\n\u001b[0;32m   3913\u001b[0m     chunksize\u001b[38;5;241m=\u001b[39mchunksize,\n\u001b[0;32m   3914\u001b[0m     quotechar\u001b[38;5;241m=\u001b[39mquotechar,\n\u001b[0;32m   3915\u001b[0m     date_format\u001b[38;5;241m=\u001b[39mdate_format,\n\u001b[0;32m   3916\u001b[0m     doublequote\u001b[38;5;241m=\u001b[39mdoublequote,\n\u001b[0;32m   3917\u001b[0m     escapechar\u001b[38;5;241m=\u001b[39mescapechar,\n\u001b[0;32m   3918\u001b[0m     storage_options\u001b[38;5;241m=\u001b[39mstorage_options,\n\u001b[0;32m   3919\u001b[0m )\n",
      "File \u001b[1;32mc:\\Users\\jmt30\\anaconda3\\envs\\gs\\Lib\\site-packages\\pandas\\io\\formats\\format.py:1152\u001b[0m, in \u001b[0;36mDataFrameRenderer.to_csv\u001b[1;34m(self, path_or_buf, encoding, sep, columns, index_label, mode, compression, quoting, quotechar, lineterminator, chunksize, date_format, doublequote, escapechar, errors, storage_options)\u001b[0m\n\u001b[0;32m   1131\u001b[0m     created_buffer \u001b[38;5;241m=\u001b[39m \u001b[38;5;28;01mFalse\u001b[39;00m\n\u001b[0;32m   1133\u001b[0m csv_formatter \u001b[38;5;241m=\u001b[39m CSVFormatter(\n\u001b[0;32m   1134\u001b[0m     path_or_buf\u001b[38;5;241m=\u001b[39mpath_or_buf,\n\u001b[0;32m   1135\u001b[0m     lineterminator\u001b[38;5;241m=\u001b[39mlineterminator,\n\u001b[1;32m   (...)\u001b[0m\n\u001b[0;32m   1150\u001b[0m     formatter\u001b[38;5;241m=\u001b[39m\u001b[38;5;28mself\u001b[39m\u001b[38;5;241m.\u001b[39mfmt,\n\u001b[0;32m   1151\u001b[0m )\n\u001b[1;32m-> 1152\u001b[0m csv_formatter\u001b[38;5;241m.\u001b[39msave()\n\u001b[0;32m   1154\u001b[0m \u001b[38;5;28;01mif\u001b[39;00m created_buffer:\n\u001b[0;32m   1155\u001b[0m     \u001b[38;5;28;01massert\u001b[39;00m \u001b[38;5;28misinstance\u001b[39m(path_or_buf, StringIO)\n",
      "File \u001b[1;32mc:\\Users\\jmt30\\anaconda3\\envs\\gs\\Lib\\site-packages\\pandas\\io\\formats\\csvs.py:266\u001b[0m, in \u001b[0;36mCSVFormatter.save\u001b[1;34m(self)\u001b[0m\n\u001b[0;32m    247\u001b[0m \u001b[38;5;28;01mwith\u001b[39;00m get_handle(\n\u001b[0;32m    248\u001b[0m     \u001b[38;5;28mself\u001b[39m\u001b[38;5;241m.\u001b[39mfilepath_or_buffer,\n\u001b[0;32m    249\u001b[0m     \u001b[38;5;28mself\u001b[39m\u001b[38;5;241m.\u001b[39mmode,\n\u001b[1;32m   (...)\u001b[0m\n\u001b[0;32m    254\u001b[0m ) \u001b[38;5;28;01mas\u001b[39;00m handles:\n\u001b[0;32m    255\u001b[0m     \u001b[38;5;66;03m# Note: self.encoding is irrelevant here\u001b[39;00m\n\u001b[0;32m    256\u001b[0m     \u001b[38;5;28mself\u001b[39m\u001b[38;5;241m.\u001b[39mwriter \u001b[38;5;241m=\u001b[39m csvlib\u001b[38;5;241m.\u001b[39mwriter(\n\u001b[0;32m    257\u001b[0m         handles\u001b[38;5;241m.\u001b[39mhandle,\n\u001b[0;32m    258\u001b[0m         lineterminator\u001b[38;5;241m=\u001b[39m\u001b[38;5;28mself\u001b[39m\u001b[38;5;241m.\u001b[39mlineterminator,\n\u001b[1;32m   (...)\u001b[0m\n\u001b[0;32m    263\u001b[0m         quotechar\u001b[38;5;241m=\u001b[39m\u001b[38;5;28mself\u001b[39m\u001b[38;5;241m.\u001b[39mquotechar,\n\u001b[0;32m    264\u001b[0m     )\n\u001b[1;32m--> 266\u001b[0m     \u001b[38;5;28mself\u001b[39m\u001b[38;5;241m.\u001b[39m_save()\n",
      "File \u001b[1;32mc:\\Users\\jmt30\\anaconda3\\envs\\gs\\Lib\\site-packages\\pandas\\io\\formats\\csvs.py:271\u001b[0m, in \u001b[0;36mCSVFormatter._save\u001b[1;34m(self)\u001b[0m\n\u001b[0;32m    269\u001b[0m \u001b[38;5;28;01mif\u001b[39;00m \u001b[38;5;28mself\u001b[39m\u001b[38;5;241m.\u001b[39m_need_to_save_header:\n\u001b[0;32m    270\u001b[0m     \u001b[38;5;28mself\u001b[39m\u001b[38;5;241m.\u001b[39m_save_header()\n\u001b[1;32m--> 271\u001b[0m \u001b[38;5;28mself\u001b[39m\u001b[38;5;241m.\u001b[39m_save_body()\n",
      "File \u001b[1;32mc:\\Users\\jmt30\\anaconda3\\envs\\gs\\Lib\\site-packages\\pandas\\io\\formats\\csvs.py:309\u001b[0m, in \u001b[0;36mCSVFormatter._save_body\u001b[1;34m(self)\u001b[0m\n\u001b[0;32m    307\u001b[0m \u001b[38;5;28;01mif\u001b[39;00m start_i \u001b[38;5;241m>\u001b[39m\u001b[38;5;241m=\u001b[39m end_i:\n\u001b[0;32m    308\u001b[0m     \u001b[38;5;28;01mbreak\u001b[39;00m\n\u001b[1;32m--> 309\u001b[0m \u001b[38;5;28mself\u001b[39m\u001b[38;5;241m.\u001b[39m_save_chunk(start_i, end_i)\n",
      "File \u001b[1;32mc:\\Users\\jmt30\\anaconda3\\envs\\gs\\Lib\\site-packages\\pandas\\io\\formats\\csvs.py:320\u001b[0m, in \u001b[0;36mCSVFormatter._save_chunk\u001b[1;34m(self, start_i, end_i)\u001b[0m\n\u001b[0;32m    317\u001b[0m data \u001b[38;5;241m=\u001b[39m [res\u001b[38;5;241m.\u001b[39miget_values(i) \u001b[38;5;28;01mfor\u001b[39;00m i \u001b[38;5;129;01min\u001b[39;00m \u001b[38;5;28mrange\u001b[39m(\u001b[38;5;28mlen\u001b[39m(res\u001b[38;5;241m.\u001b[39mitems))]\n\u001b[0;32m    319\u001b[0m ix \u001b[38;5;241m=\u001b[39m \u001b[38;5;28mself\u001b[39m\u001b[38;5;241m.\u001b[39mdata_index[slicer]\u001b[38;5;241m.\u001b[39m_format_native_types(\u001b[38;5;241m*\u001b[39m\u001b[38;5;241m*\u001b[39m\u001b[38;5;28mself\u001b[39m\u001b[38;5;241m.\u001b[39m_number_format)\n\u001b[1;32m--> 320\u001b[0m libwriters\u001b[38;5;241m.\u001b[39mwrite_csv_rows(\n\u001b[0;32m    321\u001b[0m     data,\n\u001b[0;32m    322\u001b[0m     ix,\n\u001b[0;32m    323\u001b[0m     \u001b[38;5;28mself\u001b[39m\u001b[38;5;241m.\u001b[39mnlevels,\n\u001b[0;32m    324\u001b[0m     \u001b[38;5;28mself\u001b[39m\u001b[38;5;241m.\u001b[39mcols,\n\u001b[0;32m    325\u001b[0m     \u001b[38;5;28mself\u001b[39m\u001b[38;5;241m.\u001b[39mwriter,\n\u001b[0;32m    326\u001b[0m )\n",
      "File \u001b[1;32mwriters.pyx:72\u001b[0m, in \u001b[0;36mpandas._libs.writers.write_csv_rows\u001b[1;34m()\u001b[0m\n",
      "\u001b[1;31mKeyboardInterrupt\u001b[0m: "
     ]
    }
   ],
   "source": [
    "df['location']=[i for i in range(1,len(df)+1)]\n",
    "df['location'].to_csv(f'../data/gs_2307_mnf_index.csv',index=False)\n",
    "df['Sum'] = df.iloc[:, :150].sum(axis=1)\n",
    "df = df[df['Sum'] != 0]\n",
    "df=df.drop('Sum',axis=1)\n",
    "df['location'].to_csv(f'../data/gs_2307_remove_mnf_index.csv',index=False)"
   ]
  },
  {
   "cell_type": "code",
   "execution_count": 10,
   "metadata": {},
   "outputs": [
    {
     "name": "stdout",
     "output_type": "stream",
     "text": [
      "3817874\n"
     ]
    }
   ],
   "source": [
    "print(len(df))"
   ]
  },
  {
   "cell_type": "markdown",
   "metadata": {},
   "source": [
    "## 영상이 사각형이 아닌 경우 빈 공간 삭제"
   ]
  },
  {
   "cell_type": "code",
   "execution_count": 6,
   "metadata": {},
   "outputs": [],
   "source": [
    "def remove_zero(name1,name2):\n",
    "    df1= pd.read_csv(name1)\n",
    "    # df2= pd.read_csv(\"../data/buso_2307_remove_index.csv\")\n",
    "    print(len(df1))\n",
    "    # filtered_df = df1.loc[df2['location']]\n",
    "    df1['Sum'] = df1.iloc[:, :150].sum(axis=1)\n",
    "    df1 = df1[df1['Sum'] != 0]\n",
    "    df1=df1.drop('Sum',axis=1)\n",
    "    print(len(df1))\n",
    "    df1.to_csv(name2,index=False)"
   ]
  },
  {
   "cell_type": "code",
   "execution_count": 42,
   "metadata": {},
   "outputs": [
    {
     "name": "stdout",
     "output_type": "stream",
     "text": [
      "7126588\n",
      "2897277\n"
     ]
    }
   ],
   "source": [
    "remove_zero(name,'../data/remove_gs_2307_mnf_m1.csv')"
   ]
  },
  {
   "cell_type": "code",
   "execution_count": null,
   "metadata": {},
   "outputs": [],
   "source": [
    "for i in range(1,7):\n",
    "    name1= f'../data/buso_2307_sub_m{i}.csv'\n",
    "    df1= pd.read_csv(name1)\n",
    "    df1['Sum'] = df1.iloc[:, :150].sum(axis=1)\n",
    "    df1 = df1[df1['Sum'] != 0]\n",
    "    df1=df1.drop('Sum',axis=1)\n",
    "    print(len(df1))\n",
    "    df1.to_csv(f'../data/remove_buso_2307_sub_m{i}.csv',index=False)"
   ]
  },
  {
   "cell_type": "markdown",
   "metadata": {},
   "source": [
    "## M2"
   ]
  },
  {
   "cell_type": "code",
   "execution_count": 19,
   "metadata": {},
   "outputs": [],
   "source": [
    "def create_temporal_feature(dataframe,name):\n",
    "    for i in range(0, 150, 10):\n",
    "        cols_to_average = dataframe.iloc[:, i:i+10]\n",
    "        dataframe[f'average_{i//10 + 1}'] = cols_to_average.mean(axis=1)\n",
    "    dataframe.to_csv(f'{name[:-7]}_m2.csv',index=False)"
   ]
  },
  {
   "cell_type": "code",
   "execution_count": 21,
   "metadata": {},
   "outputs": [],
   "source": [
    "df = pd.read_csv(name)\n",
    "create_temporal_feature(df,name)"
   ]
  },
  {
   "cell_type": "markdown",
   "metadata": {},
   "source": [
    "## M3"
   ]
  },
  {
   "cell_type": "code",
   "execution_count": 9,
   "metadata": {},
   "outputs": [],
   "source": [
    "def create_spatial_feature1(dataframe,name,row,col):\n",
    "    tmp =np.array(dataframe).reshape(row,col,151)\n",
    "    rows = len(tmp)\n",
    "    cols = len(tmp[0])\n",
    "    result = np.zeros((rows,cols,150))\n",
    "    for i in tqdm(range(rows)):\n",
    "        for j in range(cols):\n",
    "            for b in range(150):\n",
    "                sum=0\n",
    "                cnt=0\n",
    "                if i == 0:\n",
    "                    dx=[0,1]\n",
    "                elif i == rows-1:\n",
    "                    dx=[-1,0]\n",
    "                else:\n",
    "                    dx=[-1,0,1]\n",
    "                if j == 0:\n",
    "                    dy=[0,1]\n",
    "                elif j == cols-1:\n",
    "                    dy=[-1,0]\n",
    "                else:\n",
    "                    dy=[-1,0,1]\n",
    "                for k in dx:\n",
    "                    for l in dy:\n",
    "                        if k == 0 and l == 0:\n",
    "                            continue\n",
    "                        sum += tmp[i+k,j+l,b]\n",
    "                        cnt+=1\n",
    "                result[i,j,b] = sum/cnt\n",
    "    result = pd.DataFrame(result.reshape(row*col,150),columns=[f'nx{i}'for i in range(1,151)])\n",
    "    result= pd.concat([dataframe,result],axis=1)\n",
    "    \n",
    "    result.to_csv(f'{name[:-7]}_m3.csv',index=False)\n",
    "                "
   ]
  },
  {
   "cell_type": "code",
   "execution_count": 11,
   "metadata": {},
   "outputs": [
    {
     "name": "stderr",
     "output_type": "stream",
     "text": [
      "100%|██████████| 2715/2715 [24:19<00:00,  1.86it/s]\n"
     ]
    }
   ],
   "source": [
    "df = pd.read_csv(name)\n",
    "create_spatial_feature1(df,name,2715, 1843)"
   ]
  },
  {
   "cell_type": "markdown",
   "metadata": {},
   "source": [
    "## M4"
   ]
  },
  {
   "cell_type": "code",
   "execution_count": 6,
   "metadata": {},
   "outputs": [],
   "source": [
    "def combine(dataframe1,dataframe2,name):\n",
    "    #dataframe1: m2\n",
    "    #dataframe2: m3\n",
    "    new_dataframe = pd.concat([dataframe1,dataframe2[151:-1]],axis=1)\n",
    "    new_dataframe.to_csv(f'{name[:-7]}_m4.csv',index=False)"
   ]
  },
  {
   "cell_type": "code",
   "execution_count": 7,
   "metadata": {},
   "outputs": [],
   "source": [
    "df1= pd.read_csv('../data/gs_2308_m2.csv')\n",
    "df2= pd.read_csv('../data/gs_2308_m3.csv')\n",
    "name1='../data/gs_2308_m1.csv'\n",
    "combine(df1,df2,name1)"
   ]
  },
  {
   "cell_type": "markdown",
   "metadata": {},
   "source": [
    "## spatial_temporal_interaction_feature"
   ]
  },
  {
   "cell_type": "code",
   "execution_count": 24,
   "metadata": {},
   "outputs": [],
   "source": [
    "def create_sti_feature(dataframe,name):\n",
    "    for i in range(166, 306, 10):\n",
    "        cols_to_average = dataframe.iloc[:, i:i+10]\n",
    "        dataframe[f'average_{i//10 + 1}'] = cols_to_average.mean(axis=1)\n",
    "    dataframe.to_csv(f'{name[:-7]}_m5.csv',index=False)"
   ]
  },
  {
   "cell_type": "code",
   "execution_count": 13,
   "metadata": {},
   "outputs": [
    {
     "data": {
      "text/html": [
       "<div>\n",
       "<style scoped>\n",
       "    .dataframe tbody tr th:only-of-type {\n",
       "        vertical-align: middle;\n",
       "    }\n",
       "\n",
       "    .dataframe tbody tr th {\n",
       "        vertical-align: top;\n",
       "    }\n",
       "\n",
       "    .dataframe thead th {\n",
       "        text-align: right;\n",
       "    }\n",
       "</style>\n",
       "<table border=\"1\" class=\"dataframe\">\n",
       "  <thead>\n",
       "    <tr style=\"text-align: right;\">\n",
       "      <th></th>\n",
       "      <th>band 1</th>\n",
       "      <th>band 2</th>\n",
       "      <th>band 3</th>\n",
       "      <th>band 4</th>\n",
       "      <th>band 5</th>\n",
       "      <th>band 6</th>\n",
       "      <th>band 7</th>\n",
       "      <th>band 8</th>\n",
       "      <th>band 9</th>\n",
       "      <th>band 10</th>\n",
       "      <th>...</th>\n",
       "      <th>band 142</th>\n",
       "      <th>band 143</th>\n",
       "      <th>band 144</th>\n",
       "      <th>band 145</th>\n",
       "      <th>band 146</th>\n",
       "      <th>band 147</th>\n",
       "      <th>band 148</th>\n",
       "      <th>band 149</th>\n",
       "      <th>band 150</th>\n",
       "      <th>target</th>\n",
       "    </tr>\n",
       "  </thead>\n",
       "  <tbody>\n",
       "    <tr>\n",
       "      <th>0</th>\n",
       "      <td>0</td>\n",
       "      <td>0</td>\n",
       "      <td>0</td>\n",
       "      <td>0</td>\n",
       "      <td>0</td>\n",
       "      <td>0</td>\n",
       "      <td>0</td>\n",
       "      <td>0</td>\n",
       "      <td>0</td>\n",
       "      <td>0</td>\n",
       "      <td>...</td>\n",
       "      <td>0</td>\n",
       "      <td>0</td>\n",
       "      <td>0</td>\n",
       "      <td>0</td>\n",
       "      <td>0</td>\n",
       "      <td>0</td>\n",
       "      <td>0</td>\n",
       "      <td>0</td>\n",
       "      <td>0</td>\n",
       "      <td>0</td>\n",
       "    </tr>\n",
       "    <tr>\n",
       "      <th>1</th>\n",
       "      <td>0</td>\n",
       "      <td>0</td>\n",
       "      <td>0</td>\n",
       "      <td>0</td>\n",
       "      <td>0</td>\n",
       "      <td>0</td>\n",
       "      <td>0</td>\n",
       "      <td>0</td>\n",
       "      <td>0</td>\n",
       "      <td>0</td>\n",
       "      <td>...</td>\n",
       "      <td>0</td>\n",
       "      <td>0</td>\n",
       "      <td>0</td>\n",
       "      <td>0</td>\n",
       "      <td>0</td>\n",
       "      <td>0</td>\n",
       "      <td>0</td>\n",
       "      <td>0</td>\n",
       "      <td>0</td>\n",
       "      <td>0</td>\n",
       "    </tr>\n",
       "    <tr>\n",
       "      <th>2</th>\n",
       "      <td>0</td>\n",
       "      <td>0</td>\n",
       "      <td>0</td>\n",
       "      <td>0</td>\n",
       "      <td>0</td>\n",
       "      <td>0</td>\n",
       "      <td>0</td>\n",
       "      <td>0</td>\n",
       "      <td>0</td>\n",
       "      <td>0</td>\n",
       "      <td>...</td>\n",
       "      <td>0</td>\n",
       "      <td>0</td>\n",
       "      <td>0</td>\n",
       "      <td>0</td>\n",
       "      <td>0</td>\n",
       "      <td>0</td>\n",
       "      <td>0</td>\n",
       "      <td>0</td>\n",
       "      <td>0</td>\n",
       "      <td>0</td>\n",
       "    </tr>\n",
       "    <tr>\n",
       "      <th>3</th>\n",
       "      <td>0</td>\n",
       "      <td>0</td>\n",
       "      <td>0</td>\n",
       "      <td>0</td>\n",
       "      <td>0</td>\n",
       "      <td>0</td>\n",
       "      <td>0</td>\n",
       "      <td>0</td>\n",
       "      <td>0</td>\n",
       "      <td>0</td>\n",
       "      <td>...</td>\n",
       "      <td>0</td>\n",
       "      <td>0</td>\n",
       "      <td>0</td>\n",
       "      <td>0</td>\n",
       "      <td>0</td>\n",
       "      <td>0</td>\n",
       "      <td>0</td>\n",
       "      <td>0</td>\n",
       "      <td>0</td>\n",
       "      <td>0</td>\n",
       "    </tr>\n",
       "    <tr>\n",
       "      <th>4</th>\n",
       "      <td>0</td>\n",
       "      <td>0</td>\n",
       "      <td>0</td>\n",
       "      <td>0</td>\n",
       "      <td>0</td>\n",
       "      <td>0</td>\n",
       "      <td>0</td>\n",
       "      <td>0</td>\n",
       "      <td>0</td>\n",
       "      <td>0</td>\n",
       "      <td>...</td>\n",
       "      <td>0</td>\n",
       "      <td>0</td>\n",
       "      <td>0</td>\n",
       "      <td>0</td>\n",
       "      <td>0</td>\n",
       "      <td>0</td>\n",
       "      <td>0</td>\n",
       "      <td>0</td>\n",
       "      <td>0</td>\n",
       "      <td>0</td>\n",
       "    </tr>\n",
       "    <tr>\n",
       "      <th>...</th>\n",
       "      <td>...</td>\n",
       "      <td>...</td>\n",
       "      <td>...</td>\n",
       "      <td>...</td>\n",
       "      <td>...</td>\n",
       "      <td>...</td>\n",
       "      <td>...</td>\n",
       "      <td>...</td>\n",
       "      <td>...</td>\n",
       "      <td>...</td>\n",
       "      <td>...</td>\n",
       "      <td>...</td>\n",
       "      <td>...</td>\n",
       "      <td>...</td>\n",
       "      <td>...</td>\n",
       "      <td>...</td>\n",
       "      <td>...</td>\n",
       "      <td>...</td>\n",
       "      <td>...</td>\n",
       "      <td>...</td>\n",
       "      <td>...</td>\n",
       "    </tr>\n",
       "    <tr>\n",
       "      <th>12365995</th>\n",
       "      <td>0</td>\n",
       "      <td>0</td>\n",
       "      <td>0</td>\n",
       "      <td>0</td>\n",
       "      <td>0</td>\n",
       "      <td>0</td>\n",
       "      <td>0</td>\n",
       "      <td>0</td>\n",
       "      <td>0</td>\n",
       "      <td>0</td>\n",
       "      <td>...</td>\n",
       "      <td>0</td>\n",
       "      <td>0</td>\n",
       "      <td>0</td>\n",
       "      <td>0</td>\n",
       "      <td>0</td>\n",
       "      <td>0</td>\n",
       "      <td>0</td>\n",
       "      <td>0</td>\n",
       "      <td>0</td>\n",
       "      <td>0</td>\n",
       "    </tr>\n",
       "    <tr>\n",
       "      <th>12365996</th>\n",
       "      <td>0</td>\n",
       "      <td>0</td>\n",
       "      <td>0</td>\n",
       "      <td>0</td>\n",
       "      <td>0</td>\n",
       "      <td>0</td>\n",
       "      <td>0</td>\n",
       "      <td>0</td>\n",
       "      <td>0</td>\n",
       "      <td>0</td>\n",
       "      <td>...</td>\n",
       "      <td>0</td>\n",
       "      <td>0</td>\n",
       "      <td>0</td>\n",
       "      <td>0</td>\n",
       "      <td>0</td>\n",
       "      <td>0</td>\n",
       "      <td>0</td>\n",
       "      <td>0</td>\n",
       "      <td>0</td>\n",
       "      <td>0</td>\n",
       "    </tr>\n",
       "    <tr>\n",
       "      <th>12365997</th>\n",
       "      <td>0</td>\n",
       "      <td>0</td>\n",
       "      <td>0</td>\n",
       "      <td>0</td>\n",
       "      <td>0</td>\n",
       "      <td>0</td>\n",
       "      <td>0</td>\n",
       "      <td>0</td>\n",
       "      <td>0</td>\n",
       "      <td>0</td>\n",
       "      <td>...</td>\n",
       "      <td>0</td>\n",
       "      <td>0</td>\n",
       "      <td>0</td>\n",
       "      <td>0</td>\n",
       "      <td>0</td>\n",
       "      <td>0</td>\n",
       "      <td>0</td>\n",
       "      <td>0</td>\n",
       "      <td>0</td>\n",
       "      <td>0</td>\n",
       "    </tr>\n",
       "    <tr>\n",
       "      <th>12365998</th>\n",
       "      <td>0</td>\n",
       "      <td>0</td>\n",
       "      <td>0</td>\n",
       "      <td>0</td>\n",
       "      <td>0</td>\n",
       "      <td>0</td>\n",
       "      <td>0</td>\n",
       "      <td>0</td>\n",
       "      <td>0</td>\n",
       "      <td>0</td>\n",
       "      <td>...</td>\n",
       "      <td>0</td>\n",
       "      <td>0</td>\n",
       "      <td>0</td>\n",
       "      <td>0</td>\n",
       "      <td>0</td>\n",
       "      <td>0</td>\n",
       "      <td>0</td>\n",
       "      <td>0</td>\n",
       "      <td>0</td>\n",
       "      <td>0</td>\n",
       "    </tr>\n",
       "    <tr>\n",
       "      <th>12365999</th>\n",
       "      <td>0</td>\n",
       "      <td>0</td>\n",
       "      <td>0</td>\n",
       "      <td>0</td>\n",
       "      <td>0</td>\n",
       "      <td>0</td>\n",
       "      <td>0</td>\n",
       "      <td>0</td>\n",
       "      <td>0</td>\n",
       "      <td>0</td>\n",
       "      <td>...</td>\n",
       "      <td>0</td>\n",
       "      <td>0</td>\n",
       "      <td>0</td>\n",
       "      <td>0</td>\n",
       "      <td>0</td>\n",
       "      <td>0</td>\n",
       "      <td>0</td>\n",
       "      <td>0</td>\n",
       "      <td>0</td>\n",
       "      <td>0</td>\n",
       "    </tr>\n",
       "  </tbody>\n",
       "</table>\n",
       "<p>12366000 rows × 151 columns</p>\n",
       "</div>"
      ],
      "text/plain": [
       "          band 1  band 2  band 3  band 4  band 5  band 6  band 7  band 8  \\\n",
       "0              0       0       0       0       0       0       0       0   \n",
       "1              0       0       0       0       0       0       0       0   \n",
       "2              0       0       0       0       0       0       0       0   \n",
       "3              0       0       0       0       0       0       0       0   \n",
       "4              0       0       0       0       0       0       0       0   \n",
       "...          ...     ...     ...     ...     ...     ...     ...     ...   \n",
       "12365995       0       0       0       0       0       0       0       0   \n",
       "12365996       0       0       0       0       0       0       0       0   \n",
       "12365997       0       0       0       0       0       0       0       0   \n",
       "12365998       0       0       0       0       0       0       0       0   \n",
       "12365999       0       0       0       0       0       0       0       0   \n",
       "\n",
       "          band 9  band 10  ...  band 142  band 143  band 144  band 145  \\\n",
       "0              0        0  ...         0         0         0         0   \n",
       "1              0        0  ...         0         0         0         0   \n",
       "2              0        0  ...         0         0         0         0   \n",
       "3              0        0  ...         0         0         0         0   \n",
       "4              0        0  ...         0         0         0         0   \n",
       "...          ...      ...  ...       ...       ...       ...       ...   \n",
       "12365995       0        0  ...         0         0         0         0   \n",
       "12365996       0        0  ...         0         0         0         0   \n",
       "12365997       0        0  ...         0         0         0         0   \n",
       "12365998       0        0  ...         0         0         0         0   \n",
       "12365999       0        0  ...         0         0         0         0   \n",
       "\n",
       "          band 146  band 147  band 148  band 149  band 150  target  \n",
       "0                0         0         0         0         0       0  \n",
       "1                0         0         0         0         0       0  \n",
       "2                0         0         0         0         0       0  \n",
       "3                0         0         0         0         0       0  \n",
       "4                0         0         0         0         0       0  \n",
       "...            ...       ...       ...       ...       ...     ...  \n",
       "12365995         0         0         0         0         0       0  \n",
       "12365996         0         0         0         0         0       0  \n",
       "12365997         0         0         0         0         0       0  \n",
       "12365998         0         0         0         0         0       0  \n",
       "12365999         0         0         0         0         0       0  \n",
       "\n",
       "[12366000 rows x 151 columns]"
      ]
     },
     "execution_count": 13,
     "metadata": {},
     "output_type": "execute_result"
    }
   ],
   "source": [
    "df"
   ]
  },
  {
   "cell_type": "code",
   "execution_count": 25,
   "metadata": {},
   "outputs": [],
   "source": [
    "create_sti_feature(df,name)"
   ]
  },
  {
   "cell_type": "markdown",
   "metadata": {},
   "source": [
    "## M6"
   ]
  },
  {
   "cell_type": "code",
   "execution_count": null,
   "metadata": {},
   "outputs": [],
   "source": [
    "import pandas as pd\n",
    "import numpy as np\n",
    "from tqdm import tqdm\n",
    "\n",
    "def get_neighbor_indices(i, rows, j, cols, window_size):\n",
    "    \"\"\"\n",
    "    지정된 window_size에 따라 이웃 픽셀의 인덱스 범위를 반환하는 함수\n",
    "    \"\"\"\n",
    "    # window_size는 항상 홀수라고 가정 (3, 5, 7, ...)\n",
    "    half_size = window_size // 2\n",
    "    \n",
    "    # 각 축(x, y)에 대한 시작과 끝 인덱스 계산\n",
    "    start_x = max(0, i - half_size)\n",
    "    end_x = min(rows - 1, i + half_size)\n",
    "    \n",
    "    start_y = max(0, j - half_size)\n",
    "    end_y = min(cols - 1, j + half_size)\n",
    "    \n",
    "    # 현재 위치(i, j)를 기준으로 상대적인 인덱스(dx, dy) 생성\n",
    "    dx = list(range(start_x - i, end_x - i + 1))\n",
    "    dy = list(range(start_y - j, end_y - j + 1))\n",
    "    \n",
    "    return dx, dy\n",
    "\n",
    "def calculate_neighbor_average(tmp, i, j, b, dx, dy):\n",
    "    \"\"\"이웃 픽셀들의 평균값을 계산하는 함수\"\"\"\n",
    "    values = []\n",
    "    for k in dx:\n",
    "        for l in dy:\n",
    "            # 자기 자신은 계산에서 제외\n",
    "            if k == 0 and l == 0:\n",
    "                continue\n",
    "            values.append(tmp[i + k, j + l, b])\n",
    "    \n",
    "    # 이웃이 없는 경우(자기 자신만 있는 경우) 0을 반환하여 오류 방지\n",
    "    if not values:\n",
    "        return 0\n",
    "    return np.mean(values)\n",
    "\n",
    "def create_spatial_feature(dataframe, name, row, col, window_size=5):\n",
    "    \"\"\"\n",
    "    지정된 window_size에 따라 공간적 특성을 계산하여 새로운 특성을 생성하는 함수\n",
    "    \"\"\"\n",
    "    # 3차원 배열로 변환\n",
    "    # 마지막 'target' 컬럼을 제외하기 위해 150개 채널로 가정\n",
    "    num_features = dataframe.shape[1] -1 if 'target' in dataframe.columns else dataframe.shape[1]\n",
    "    tmp = np.array(dataframe.iloc[:, :num_features]).reshape(row, col, num_features)\n",
    "    rows, cols, bands = tmp.shape\n",
    "    \n",
    "    result = np.zeros((rows, cols, bands))\n",
    "    \n",
    "    # 각 픽셀에 대해 이웃 픽셀들의 평균 계산\n",
    "    for i in tqdm(range(rows), desc=f\"Processing {window_size}x{window_size} window\"):\n",
    "        for j in range(cols):\n",
    "            # 일반화된 함수 호출\n",
    "            dx, dy = get_neighbor_indices(i, rows, j, cols, window_size)\n",
    "            for b in range(bands):\n",
    "                result[i, j, b] = calculate_neighbor_average(tmp, i, j, b, dx, dy)\n",
    "                \n",
    "    # 결과를 데이터프레임으로 변환\n",
    "    result_df = pd.DataFrame(\n",
    "        result.reshape(row * col, bands),\n",
    "        columns=[f'm{window_size}x{i+1}' for i in range(bands)]\n",
    "    )\n",
    "    \n",
    "    # 원본 데이터프레임과 결합\n",
    "    final_result = pd.concat([dataframe.reset_index(drop=True), result_df], axis=1)\n",
    "    \n",
    "    # 결과 저장 (파일명에 window_size 반영)\n",
    "    output_filename = f'{name.split(\".\")[0]}_m{window_size}.csv'\n",
    "    final_result.to_csv(output_filename, index=False)\n",
    "    print(f\"결과가 {output_filename} 파일로 저장되었습니다.\")"
   ]
  },
  {
   "cell_type": "code",
   "execution_count": 15,
   "metadata": {},
   "outputs": [
    {
     "name": "stderr",
     "output_type": "stream",
     "text": [
      "100%|██████████| 2715/2715 [1:01:51<00:00,  1.37s/it]\n"
     ]
    }
   ],
   "source": [
    "create_spatial_feature2(df,name,2715, 1843)"
   ]
  },
  {
   "cell_type": "code",
   "execution_count": 11,
   "metadata": {},
   "outputs": [],
   "source": [
    "for i in range(6,11,4):\n",
    "    name = f'../data/sample{i}_m4.csv'\n",
    "    dataframe= pd.read_csv(name)\n",
    "    create_sti_feature(dataframe,name)"
   ]
  },
  {
   "cell_type": "markdown",
   "metadata": {},
   "source": [
    "## 해상도 조절"
   ]
  },
  {
   "cell_type": "code",
   "execution_count": null,
   "metadata": {},
   "outputs": [
    {
     "name": "stdout",
     "output_type": "stream",
     "text": [
      "Rasterio 데이터 로드 완료: E:\\문화재\\영상 데이터\\2023\\hyper\\03_20230703_Gongsan_Hyper_Subset (형태: (2799, 2563, 150))\n",
      "------------------------------\n",
      "2배 다운샘플링 처리 및 저장 시작...\n"
     ]
    },
    {
     "name": "stderr",
     "output_type": "stream",
     "text": [
      "c:\\Users\\jmt30\\anaconda3\\envs\\gs\\Lib\\site-packages\\rasterio\\__init__.py:327: NotGeoreferencedWarning: Dataset has no geotransform, gcps, or rpcs. The identity matrix will be returned.\n",
      "  dataset = writer(\n"
     ]
    },
    {
     "name": "stdout",
     "output_type": "stream",
     "text": [
      "-> GeoTIFF 저장 완료: 'processed_hyper_x2'\n",
      "4배 다운샘플링 처리 및 저장 시작...\n",
      "-> GeoTIFF 저장 완료: 'processed_hyper_x4'\n",
      "8배 다운샘플링 처리 및 저장 시작...\n",
      "-> GeoTIFF 저장 완료: 'processed_hyper_x8'\n",
      "------------------------------\n",
      "모든 작업이 완료되었습니다.\n"
     ]
    }
   ],
   "source": [
    "import numpy as np\n",
    "from skimage.transform import resize\n",
    "import os\n",
    "\n",
    "try:\n",
    "    import rasterio\n",
    "except ImportError:\n",
    "    print(\"'rasterio' 라이브러리가 필요합니다. 'pip install rasterio' 명령어로 설치해주세요.\")\n",
    "    exit()\n",
    "\n",
    "# --- 1. 원본 데이터 준비 ---\n",
    "# 실제 파일 경로를 여기에 입력하세요.\n",
    "original_data_path = r\"E:\\문화재\\영상 데이터\\2023\\hyper\\03_20230703_Gongsan_Hyper_Subset\"\n",
    "# original_data_path = 'sample_raster_data.tif' \n",
    "\n",
    "try:\n",
    "    # 샘플 데이터 생성 (실제 사용 시 이 'if' 블록은 필요 없음)\n",
    "    if not os.path.exists(original_data_path):\n",
    "        print(f\"샘플 원본 데이터 '{original_data_path}'를 생성합니다.\")\n",
    "        # Rasterio는 (밴드, 높이, 너비) 순서로 데이터를 다룹니다.\n",
    "        sample_array = np.random.rand(150, 400, 400).astype(np.float32)\n",
    "        with rasterio.open(\n",
    "            original_data_path,\n",
    "            'w',\n",
    "            driver='GTiff',\n",
    "            height=sample_array.shape[1],\n",
    "            width=sample_array.shape[2],\n",
    "            count=sample_array.shape[0],\n",
    "            dtype=sample_array.dtype,\n",
    "        ) as dst:\n",
    "            dst.write(sample_array)\n",
    "\n",
    "    # Rasterio를 사용해 데이터 불러오기\n",
    "    with rasterio.open(original_data_path) as src:\n",
    "        # 데이터를 (밴드, 높이, 너비) 순서로 읽음\n",
    "        data_from_raster = src.read()\n",
    "        # 축 순서를 (높이, 너비, 밴드)로 변경\n",
    "        hyper_image_array = data_from_raster.transpose((1, 2, 0))\n",
    "    \n",
    "    print(f\"Rasterio 데이터 로드 완료: {original_data_path} (형태: {hyper_image_array.shape})\")\n",
    "    print(\"-\" * 30)\n",
    "\n",
    "except Exception as e:\n",
    "    print(f\"데이터 로드 중 오류 발생: {e}\")\n",
    "    exit()\n",
    "\n",
    "# --- 2. 설정 ---\n",
    "downsampling_factors = [2, 4, 8]\n",
    "interpolation_order = 3\n",
    "\n",
    "# --- 3. 처리 및 저장 ---\n",
    "for factor in downsampling_factors:\n",
    "    print(f\"{factor}배 다운샘플링 처리 및 저장 시작...\")\n",
    "\n",
    "    # 새로운 데이터 형태(shape) 계산\n",
    "    new_height = hyper_image_array.shape[0] // factor\n",
    "    new_width = hyper_image_array.shape[1] // factor\n",
    "    new_shape = (new_height, new_width, hyper_image_array.shape[2])\n",
    "\n",
    "    # scikit-image로 해상도 저하\n",
    "    downsampled_array = resize(\n",
    "        hyper_image_array,\n",
    "        output_shape=new_shape,\n",
    "        order=interpolation_order,\n",
    "        preserve_range=True,\n",
    "        anti_aliasing=True\n",
    "    ).astype(hyper_image_array.dtype)\n",
    "\n",
    "    # (선택) 처리된 파일을 다시 GeoTIFF 형식으로 저장\n",
    "    # c, h, w 순서로 다시 변경 필요\n",
    "    output_tiff_array = downsampled_array.transpose((2, 0, 1))\n",
    "    output_tiff_filename = original_data_path+factor\n",
    "    with rasterio.open(\n",
    "        output_tiff_filename,\n",
    "        'w',\n",
    "        driver='GTiff',\n",
    "        height=output_tiff_array.shape[1],\n",
    "        width=output_tiff_array.shape[2],\n",
    "        count=output_tiff_array.shape[0],\n",
    "        dtype=output_tiff_array.dtype,\n",
    "    ) as dst:\n",
    "        dst.write(output_tiff_array)\n",
    "    print(f\"-> GeoTIFF 저장 완료: '{output_tiff_filename}'\")\n",
    "\n",
    "\n",
    "print(\"-\" * 30)\n",
    "print(\"모든 작업이 완료되었습니다.\")"
   ]
  },
  {
   "cell_type": "code",
   "execution_count": null,
   "metadata": {},
   "outputs": [],
   "source": []
  }
 ],
 "metadata": {
  "kernelspec": {
   "display_name": "gs",
   "language": "python",
   "name": "python3"
  },
  "language_info": {
   "codemirror_mode": {
    "name": "ipython",
    "version": 3
   },
   "file_extension": ".py",
   "mimetype": "text/x-python",
   "name": "python",
   "nbconvert_exporter": "python",
   "pygments_lexer": "ipython3",
   "version": "3.11.8"
  }
 },
 "nbformat": 4,
 "nbformat_minor": 2
}
