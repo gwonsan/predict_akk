{
 "cells": [
  {
   "cell_type": "markdown",
   "id": "1faae78f-4eaa-4045-8ec8-7443b04642f0",
   "metadata": {},
   "source": [
    "## import"
   ]
  },
  {
   "cell_type": "code",
   "execution_count": 1,
   "id": "4ee55e04-97e5-4fe6-99f5-b1f97f181a78",
   "metadata": {},
   "outputs": [
    {
     "name": "stderr",
     "output_type": "stream",
     "text": [
      "/home1/jmt30269/miniconda3/lib/python3.12/site-packages/tqdm/auto.py:21: TqdmWarning: IProgress not found. Please update jupyter and ipywidgets. See https://ipywidgets.readthedocs.io/en/stable/user_install.html\n",
      "  from .autonotebook import tqdm as notebook_tqdm\n"
     ]
    }
   ],
   "source": [
    "import os\n",
    "import torch\n",
    "import argparse\n",
    "import numpy as np\n",
    "import torch.nn as nn\n",
    "import torch.utils.data\n",
    "import seaborn as sns\n",
    "import imageio\n",
    "\n",
    "from utils.dataset import load_mat_hsi, sample_gt, HSIDataset\n",
    "from utils.utils import split_info_print, metrics, show_results\n",
    "from utils.scheduler import load_scheduler\n",
    "from models.get_model import get_model\n",
    "from train import train, test\n",
    "from utils.dynamic_tanh import convert_ln_to_dyt\n",
    "import pandas as pd"
   ]
  },
  {
   "cell_type": "code",
   "execution_count": 2,
   "id": "a17375c8-2d0d-4674-812c-8aece3866c0b",
   "metadata": {},
   "outputs": [
    {
     "name": "stdout",
     "output_type": "stream",
     "text": [
      "/gpfs/home1/jmt30269/Group-Aware-Hierarchical-Transformer\n"
     ]
    }
   ],
   "source": [
    "import os\n",
    "print(os.getcwd())"
   ]
  },
  {
   "cell_type": "markdown",
   "id": "69bed360-93a7-471e-b0d7-963d4755855e",
   "metadata": {},
   "source": [
    "## argument"
   ]
  },
  {
   "cell_type": "code",
   "execution_count": 3,
   "id": "74389dbb-520c-4b88-a145-9787d73f992c",
   "metadata": {},
   "outputs": [],
   "source": [
    "parser = argparse.ArgumentParser(description=\"run patch-based HSI classification\")\n",
    "parser.add_argument(\"--model\", type=str, default='proposed')\n",
    "parser.add_argument(\"--dataset_name\", type=str, default=\"gs\")\n",
    "parser.add_argument(\"--dataset_file_name\", type=str, default=\"202407_downsampled_gongsan.h5\")\n",
    "parser.add_argument(\"--dataset_dir\", type=str, default=\"/home1/jmt30269/DSNet/data/\")\n",
    "parser.add_argument(\"--device\", type=str, default=\"0\")\n",
    "parser.add_argument(\"--patch_size\", type=int, default=7)\n",
    "parser.add_argument(\"--num_run\", type=int, default=10) \n",
    "parser.add_argument(\"--epoch\", type=int, default=200)    \n",
    "parser.add_argument(\"--bs\", type=int, default=128)  # bs = batch size  \n",
    "parser.add_argument(\"--ratio\", type=float, default=0.03)\n",
    "parser.add_argument(\"--weights\", type=str, default=\"/home1/jmt30269/Group-Aware-Hierarchical-Transformer/checkpoints/proposed/gs/0.03/7_0\")\n",
    "parser.add_argument(\"--outputs\", type=str, default=\"./results\")\n",
    "\n",
    "\n",
    "opts = parser.parse_args(args=[])"
   ]
  },
  {
   "cell_type": "markdown",
   "id": "8ae7a583-0404-4c6e-b6db-6b32adf4d593",
   "metadata": {},
   "source": [
    "## main"
   ]
  },
  {
   "cell_type": "code",
   "execution_count": 8,
   "id": "e635daad-22ca-4b93-8629-4a934bea784f",
   "metadata": {},
   "outputs": [
    {
     "name": "stdout",
     "output_type": "stream",
     "text": [
      "cuda:0\n",
      "experiments will run on GPU device 0\n",
      "model = proposed\n",
      "dataset = gs\n",
      "dataset folder = /home1/jmt30269/DSNet/data/\n",
      "patch size = 7\n",
      "batch size = 128\n",
      "total epoch = 200\n",
      "0.015 for training, 0.015 for validation and 0.97 testing\n"
     ]
    },
    {
     "ename": "NameError",
     "evalue": "name 'load_mat_hsi' is not defined",
     "output_type": "error",
     "traceback": [
      "\u001b[31m---------------------------------------------------------------------------\u001b[39m",
      "\u001b[31mNameError\u001b[39m                                 Traceback (most recent call last)",
      "\u001b[36mCell\u001b[39m\u001b[36m \u001b[39m\u001b[32mIn[8]\u001b[39m\u001b[32m, line 14\u001b[39m\n\u001b[32m     11\u001b[39m \u001b[38;5;28mprint\u001b[39m(\u001b[33m\"\u001b[39m\u001b[38;5;132;01m{}\u001b[39;00m\u001b[33m for training, \u001b[39m\u001b[38;5;132;01m{}\u001b[39;00m\u001b[33m for validation and \u001b[39m\u001b[38;5;132;01m{}\u001b[39;00m\u001b[33m testing\u001b[39m\u001b[33m\"\u001b[39m.format(opts.ratio / \u001b[32m2\u001b[39m, opts.ratio / \u001b[32m2\u001b[39m, \u001b[32m1\u001b[39m - opts.ratio))\n\u001b[32m     13\u001b[39m \u001b[38;5;66;03m# load data\u001b[39;00m\n\u001b[32m---> \u001b[39m\u001b[32m14\u001b[39m image, gt, labels = \u001b[43mload_mat_hsi\u001b[49m(opts.dataset_name, opts.dataset_dir,opts.dataset_file_name)\n\u001b[32m     16\u001b[39m num_classes = \u001b[38;5;28mlen\u001b[39m(labels)\n\u001b[32m     17\u001b[39m num_bands = image.shape[-\u001b[32m1\u001b[39m]\n",
      "\u001b[31mNameError\u001b[39m: name 'load_mat_hsi' is not defined"
     ]
    }
   ],
   "source": [
    "device = torch.device(\"cuda:{}\".format(opts.device))\n",
    "print(device)\n",
    "# print parameters\n",
    "print(\"experiments will run on GPU device {}\".format(opts.device))\n",
    "print(\"model = {}\".format(opts.model))    \n",
    "print(\"dataset = {}\".format(opts.dataset_name))\n",
    "print(\"dataset folder = {}\".format(opts.dataset_dir))\n",
    "print(\"patch size = {}\".format(opts.patch_size))\n",
    "print(\"batch size = {}\".format(opts.bs))\n",
    "print(\"total epoch = {}\".format(opts.epoch))\n",
    "print(\"{} for training, {} for validation and {} testing\".format(opts.ratio / 2, opts.ratio / 2, 1 - opts.ratio))\n",
    "\n",
    "# load data\n",
    "image, gt, labels = load_mat_hsi(opts.dataset_name, opts.dataset_dir,opts.dataset_file_name)\n",
    "\n",
    "num_classes = len(labels)\n",
    "num_bands = image.shape[-1]\n",
    "\n",
    "# random seeds\n",
    "seeds = [20250411, 20250402,20250403,20250404,20250405,20250406,20250407,20250408,20250409,20250410]"
   ]
  },
  {
   "cell_type": "markdown",
   "id": "4ce7c530-41fb-47ee-9a0b-121ddb856756",
   "metadata": {},
   "source": [
    "## train"
   ]
  },
  {
   "cell_type": "code",
   "execution_count": 4,
   "id": "a6640f95-a52f-49c6-8e91-f4acf66046b3",
   "metadata": {},
   "outputs": [
    {
     "name": "stdout",
     "output_type": "stream",
     "text": [
      "experiments will run on GPU device 0\n",
      "model = proposed\n",
      "running an experiment with the 202307_downsampled_gongsan_x2.h5 data\n",
      "run 1 / 10\n",
      "class train val test\n",
      "AKK 898 898 58077\n",
      "Background 14037 14038 907773\n",
      "model save dir : ./checkpoints/proposed/202307_downsampled_gongsan_x2.h5/0.03/7_0\n"
     ]
    },
    {
     "name": "stderr",
     "output_type": "stream",
     "text": [
      "training the network:   0%|          | 0/200 [00:02<?, ?it/s]"
     ]
    },
    {
     "name": "stdout",
     "output_type": "stream",
     "text": [
      "train at epoch 1/200, loss=0.254311\n"
     ]
    },
    {
     "name": "stderr",
     "output_type": "stream",
     "text": [
      "training the network:   0%|          | 1/200 [00:03<12:34,  3.79s/it]"
     ]
    },
    {
     "name": "stdout",
     "output_type": "stream",
     "text": [
      "epoch = 1: best validation OA = 0.9521\n"
     ]
    },
    {
     "name": "stderr",
     "output_type": "stream",
     "text": [
      "training the network:   1%|          | 2/200 [00:06<11:15,  3.41s/it]"
     ]
    },
    {
     "name": "stdout",
     "output_type": "stream",
     "text": [
      "epoch = 2: best validation OA = 0.9579\n"
     ]
    },
    {
     "name": "stderr",
     "output_type": "stream",
     "text": [
      "training the network:   2%|▏         | 3/200 [00:10<10:48,  3.29s/it]"
     ]
    },
    {
     "name": "stdout",
     "output_type": "stream",
     "text": [
      "epoch = 3: best validation OA = 0.9650\n"
     ]
    },
    {
     "name": "stderr",
     "output_type": "stream",
     "text": [
      "training the network:   4%|▍         | 8/200 [00:25<10:06,  3.16s/it]"
     ]
    },
    {
     "name": "stdout",
     "output_type": "stream",
     "text": [
      "epoch = 8: best validation OA = 0.9683\n"
     ]
    },
    {
     "name": "stderr",
     "output_type": "stream",
     "text": [
      "training the network:   4%|▍         | 9/200 [00:30<10:02,  3.15s/it]"
     ]
    },
    {
     "name": "stdout",
     "output_type": "stream",
     "text": [
      "train at epoch 10/200, loss=0.086852\n"
     ]
    },
    {
     "name": "stderr",
     "output_type": "stream",
     "text": [
      "training the network:  10%|▉         | 19/200 [01:02<09:26,  3.13s/it]"
     ]
    },
    {
     "name": "stdout",
     "output_type": "stream",
     "text": [
      "train at epoch 20/200, loss=0.077292\n"
     ]
    },
    {
     "name": "stderr",
     "output_type": "stream",
     "text": [
      "training the network:  12%|█▏        | 24/200 [01:15<09:11,  3.13s/it]"
     ]
    },
    {
     "name": "stdout",
     "output_type": "stream",
     "text": [
      "epoch = 24: best validation OA = 0.9688\n"
     ]
    },
    {
     "name": "stderr",
     "output_type": "stream",
     "text": [
      "training the network:  14%|█▎        | 27/200 [01:25<09:01,  3.13s/it]"
     ]
    },
    {
     "name": "stdout",
     "output_type": "stream",
     "text": [
      "epoch = 27: best validation OA = 0.9688\n"
     ]
    },
    {
     "name": "stderr",
     "output_type": "stream",
     "text": [
      "training the network:  14%|█▍        | 29/200 [01:33<08:55,  3.13s/it]"
     ]
    },
    {
     "name": "stdout",
     "output_type": "stream",
     "text": [
      "train at epoch 30/200, loss=0.065122\n"
     ]
    },
    {
     "name": "stderr",
     "output_type": "stream",
     "text": [
      "training the network:  15%|█▌        | 30/200 [01:34<08:53,  3.14s/it]"
     ]
    },
    {
     "name": "stdout",
     "output_type": "stream",
     "text": [
      "epoch = 30: best validation OA = 0.9712\n"
     ]
    },
    {
     "name": "stderr",
     "output_type": "stream",
     "text": [
      "training the network:  20%|█▉        | 39/200 [02:04<08:23,  3.13s/it]"
     ]
    },
    {
     "name": "stdout",
     "output_type": "stream",
     "text": [
      "train at epoch 40/200, loss=0.056957\n"
     ]
    },
    {
     "name": "stderr",
     "output_type": "stream",
     "text": [
      "training the network:  24%|██▍       | 49/200 [02:36<07:52,  3.13s/it]"
     ]
    },
    {
     "name": "stdout",
     "output_type": "stream",
     "text": [
      "train at epoch 50/200, loss=0.049553\n"
     ]
    },
    {
     "name": "stderr",
     "output_type": "stream",
     "text": [
      "training the network:  30%|██▉       | 59/200 [03:07<07:19,  3.12s/it]"
     ]
    },
    {
     "name": "stdout",
     "output_type": "stream",
     "text": [
      "train at epoch 60/200, loss=0.041860\n"
     ]
    },
    {
     "name": "stderr",
     "output_type": "stream",
     "text": [
      "training the network:  34%|███▍      | 69/200 [03:38<06:49,  3.13s/it]"
     ]
    },
    {
     "name": "stdout",
     "output_type": "stream",
     "text": [
      "train at epoch 70/200, loss=0.038751\n"
     ]
    },
    {
     "name": "stderr",
     "output_type": "stream",
     "text": [
      "training the network:  40%|███▉      | 79/200 [04:09<06:16,  3.11s/it]"
     ]
    },
    {
     "name": "stdout",
     "output_type": "stream",
     "text": [
      "train at epoch 80/200, loss=0.036588\n"
     ]
    },
    {
     "name": "stderr",
     "output_type": "stream",
     "text": [
      "training the network:  44%|████▍     | 89/200 [04:40<05:42,  3.09s/it]"
     ]
    },
    {
     "name": "stdout",
     "output_type": "stream",
     "text": [
      "train at epoch 90/200, loss=0.031384\n"
     ]
    },
    {
     "name": "stderr",
     "output_type": "stream",
     "text": [
      "training the network:  50%|████▉     | 99/200 [05:11<05:13,  3.10s/it]"
     ]
    },
    {
     "name": "stdout",
     "output_type": "stream",
     "text": [
      "train at epoch 100/200, loss=0.027727\n"
     ]
    },
    {
     "name": "stderr",
     "output_type": "stream",
     "text": [
      "training the network:  55%|█████▍    | 109/200 [05:42<04:42,  3.10s/it]"
     ]
    },
    {
     "name": "stdout",
     "output_type": "stream",
     "text": [
      "train at epoch 110/200, loss=0.023230\n"
     ]
    },
    {
     "name": "stderr",
     "output_type": "stream",
     "text": [
      "training the network:  60%|█████▉    | 119/200 [06:13<04:11,  3.10s/it]"
     ]
    },
    {
     "name": "stdout",
     "output_type": "stream",
     "text": [
      "train at epoch 120/200, loss=0.021138\n"
     ]
    },
    {
     "name": "stderr",
     "output_type": "stream",
     "text": [
      "training the network:  64%|██████▍   | 129/200 [06:44<03:40,  3.10s/it]"
     ]
    },
    {
     "name": "stdout",
     "output_type": "stream",
     "text": [
      "train at epoch 130/200, loss=0.020315\n"
     ]
    },
    {
     "name": "stderr",
     "output_type": "stream",
     "text": [
      "training the network:  70%|██████▉   | 139/200 [07:15<03:09,  3.10s/it]"
     ]
    },
    {
     "name": "stdout",
     "output_type": "stream",
     "text": [
      "train at epoch 140/200, loss=0.018390\n"
     ]
    },
    {
     "name": "stderr",
     "output_type": "stream",
     "text": [
      "training the network:  74%|███████▍  | 149/200 [07:46<02:37,  3.09s/it]"
     ]
    },
    {
     "name": "stdout",
     "output_type": "stream",
     "text": [
      "train at epoch 150/200, loss=0.016075\n"
     ]
    },
    {
     "name": "stderr",
     "output_type": "stream",
     "text": [
      "training the network:  80%|███████▉  | 159/200 [08:17<02:06,  3.08s/it]"
     ]
    },
    {
     "name": "stdout",
     "output_type": "stream",
     "text": [
      "train at epoch 160/200, loss=0.019175\n"
     ]
    },
    {
     "name": "stderr",
     "output_type": "stream",
     "text": [
      "training the network:  84%|████████▍ | 169/200 [08:48<01:35,  3.08s/it]"
     ]
    },
    {
     "name": "stdout",
     "output_type": "stream",
     "text": [
      "train at epoch 170/200, loss=0.014685\n"
     ]
    },
    {
     "name": "stderr",
     "output_type": "stream",
     "text": [
      "training the network:  90%|████████▉ | 179/200 [09:19<01:04,  3.08s/it]"
     ]
    },
    {
     "name": "stdout",
     "output_type": "stream",
     "text": [
      "train at epoch 180/200, loss=0.016116\n"
     ]
    },
    {
     "name": "stderr",
     "output_type": "stream",
     "text": [
      "training the network:  94%|█████████▍| 189/200 [09:50<00:33,  3.08s/it]"
     ]
    },
    {
     "name": "stdout",
     "output_type": "stream",
     "text": [
      "train at epoch 190/200, loss=0.015373\n"
     ]
    },
    {
     "name": "stderr",
     "output_type": "stream",
     "text": [
      "training the network: 100%|█████████▉| 199/200 [10:21<00:03,  3.08s/it]"
     ]
    },
    {
     "name": "stdout",
     "output_type": "stream",
     "text": [
      "train at epoch 200/200, loss=0.012267\n"
     ]
    },
    {
     "name": "stderr",
     "output_type": "stream",
     "text": [
      "training the network: 100%|██████████| 200/200 [10:22<00:00,  3.11s/it]\n",
      "/gpfs/home1/jmt30269/Group-Aware-Hierarchical-Transformer/train.py:58: FutureWarning: You are using `torch.load` with `weights_only=False` (the current default value), which uses the default pickle module implicitly. It is possible to construct malicious pickle data which will execute arbitrary code during unpickling (See https://github.com/pytorch/pytorch/blob/main/SECURITY.md#untrusted-models for more details). In a future release, the default value for `weights_only` will be flipped to `True`. This limits the functions that could be executed during unpickling. Arbitrary objects will no longer be allowed to be loaded via this mode unless they are explicitly allowlisted by the user via `torch.serialization.add_safe_globals`. We recommend you start setting `weights_only=True` for any use case where you don't have full control of the loaded file. Please open an issue on GitHub for any issues related to this experimental feature.\n",
      "  network.load_state_dict(torch.load(model_dir + \"/model_best.pth\"))\n",
      "inference on the HSI: 28002it [01:28, 317.21it/s]                           \n"
     ]
    },
    {
     "name": "stdout",
     "output_type": "stream",
     "text": [
      "Confusion matrix :\n",
      "[[ 41026  17051]\n",
      " [ 11698 896075]]---\n",
      "Accuracy : 97.02%\n",
      "---\n",
      "class acc :\n",
      "\tAKK: 70.64\n",
      "\tBackground: 98.71\n",
      "---\n",
      "AA: 84.68%\n",
      "Kappa: 72.48\n",
      "\n",
      "--- Run 1 finished in 626.38 seconds ---\n",
      "running an experiment with the 202307_downsampled_gongsan_x4.h5 data\n",
      "run 1 / 10\n",
      "class train val test\n",
      "AKK 224 225 14507\n",
      "Background 3502 3502 226500\n",
      "model save dir : ./checkpoints/proposed/202307_downsampled_gongsan_x4.h5/0.03/7_0\n"
     ]
    },
    {
     "name": "stderr",
     "output_type": "stream",
     "text": [
      "training the network:   0%|          | 0/200 [00:00<?, ?it/s]"
     ]
    },
    {
     "name": "stdout",
     "output_type": "stream",
     "text": [
      "train at epoch 1/200, loss=0.426334\n"
     ]
    },
    {
     "name": "stderr",
     "output_type": "stream",
     "text": [
      "training the network:   0%|          | 1/200 [00:00<02:51,  1.16it/s]"
     ]
    },
    {
     "name": "stdout",
     "output_type": "stream",
     "text": [
      "epoch = 1: best validation OA = 0.9396\n"
     ]
    },
    {
     "name": "stderr",
     "output_type": "stream",
     "text": [
      "training the network:   1%|          | 2/200 [00:01<02:43,  1.21it/s]"
     ]
    },
    {
     "name": "stdout",
     "output_type": "stream",
     "text": [
      "epoch = 2: best validation OA = 0.9407\n"
     ]
    },
    {
     "name": "stderr",
     "output_type": "stream",
     "text": [
      "training the network:   2%|▏         | 3/200 [00:02<02:40,  1.23it/s]"
     ]
    },
    {
     "name": "stdout",
     "output_type": "stream",
     "text": [
      "epoch = 3: best validation OA = 0.9463\n"
     ]
    },
    {
     "name": "stderr",
     "output_type": "stream",
     "text": [
      "training the network:   2%|▎         | 5/200 [00:04<02:36,  1.25it/s]"
     ]
    },
    {
     "name": "stdout",
     "output_type": "stream",
     "text": [
      "epoch = 5: best validation OA = 0.9533\n"
     ]
    },
    {
     "name": "stderr",
     "output_type": "stream",
     "text": [
      "training the network:   3%|▎         | 6/200 [00:04<02:35,  1.25it/s]"
     ]
    },
    {
     "name": "stdout",
     "output_type": "stream",
     "text": [
      "epoch = 6: best validation OA = 0.9533\n"
     ]
    },
    {
     "name": "stderr",
     "output_type": "stream",
     "text": [
      "training the network:   4%|▍         | 9/200 [00:07<02:31,  1.26it/s]"
     ]
    },
    {
     "name": "stdout",
     "output_type": "stream",
     "text": [
      "epoch = 9: best validation OA = 0.9549\n"
     ]
    },
    {
     "name": "stderr",
     "output_type": "stream",
     "text": [
      "training the network:   4%|▍         | 9/200 [00:07<02:31,  1.26it/s]"
     ]
    },
    {
     "name": "stdout",
     "output_type": "stream",
     "text": [
      "train at epoch 10/200, loss=0.106226\n"
     ]
    },
    {
     "name": "stderr",
     "output_type": "stream",
     "text": [
      "training the network:   6%|▋         | 13/200 [00:10<02:28,  1.26it/s]"
     ]
    },
    {
     "name": "stdout",
     "output_type": "stream",
     "text": [
      "epoch = 13: best validation OA = 0.9603\n"
     ]
    },
    {
     "name": "stderr",
     "output_type": "stream",
     "text": [
      "training the network:   8%|▊         | 15/200 [00:11<02:26,  1.26it/s]"
     ]
    },
    {
     "name": "stdout",
     "output_type": "stream",
     "text": [
      "epoch = 15: best validation OA = 0.9624\n"
     ]
    },
    {
     "name": "stderr",
     "output_type": "stream",
     "text": [
      "training the network:  10%|▉         | 19/200 [00:15<02:22,  1.27it/s]"
     ]
    },
    {
     "name": "stdout",
     "output_type": "stream",
     "text": [
      "train at epoch 20/200, loss=0.083916\n"
     ]
    },
    {
     "name": "stderr",
     "output_type": "stream",
     "text": [
      "training the network:  14%|█▎        | 27/200 [00:21<02:16,  1.26it/s]"
     ]
    },
    {
     "name": "stdout",
     "output_type": "stream",
     "text": [
      "epoch = 27: best validation OA = 0.9624\n"
     ]
    },
    {
     "name": "stderr",
     "output_type": "stream",
     "text": [
      "training the network:  14%|█▍        | 29/200 [00:23<02:15,  1.26it/s]"
     ]
    },
    {
     "name": "stdout",
     "output_type": "stream",
     "text": [
      "train at epoch 30/200, loss=0.071641\n"
     ]
    },
    {
     "name": "stderr",
     "output_type": "stream",
     "text": [
      "training the network:  16%|█▋        | 33/200 [00:26<02:12,  1.26it/s]"
     ]
    },
    {
     "name": "stdout",
     "output_type": "stream",
     "text": [
      "epoch = 33: best validation OA = 0.9638\n"
     ]
    },
    {
     "name": "stderr",
     "output_type": "stream",
     "text": [
      "training the network:  18%|█▊        | 36/200 [00:28<02:10,  1.26it/s]"
     ]
    },
    {
     "name": "stdout",
     "output_type": "stream",
     "text": [
      "epoch = 36: best validation OA = 0.9646\n"
     ]
    },
    {
     "name": "stderr",
     "output_type": "stream",
     "text": [
      "training the network:  20%|█▉        | 39/200 [00:31<02:07,  1.26it/s]"
     ]
    },
    {
     "name": "stdout",
     "output_type": "stream",
     "text": [
      "train at epoch 40/200, loss=0.063017\n"
     ]
    },
    {
     "name": "stderr",
     "output_type": "stream",
     "text": [
      "training the network:  24%|██▍       | 49/200 [00:39<01:58,  1.27it/s]"
     ]
    },
    {
     "name": "stdout",
     "output_type": "stream",
     "text": [
      "train at epoch 50/200, loss=0.057042\n"
     ]
    },
    {
     "name": "stderr",
     "output_type": "stream",
     "text": [
      "training the network:  30%|██▉       | 59/200 [00:47<01:50,  1.27it/s]"
     ]
    },
    {
     "name": "stdout",
     "output_type": "stream",
     "text": [
      "train at epoch 60/200, loss=0.052360\n"
     ]
    },
    {
     "name": "stderr",
     "output_type": "stream",
     "text": [
      "training the network:  34%|███▍      | 69/200 [00:55<01:42,  1.27it/s]"
     ]
    },
    {
     "name": "stdout",
     "output_type": "stream",
     "text": [
      "train at epoch 70/200, loss=0.049670\n"
     ]
    },
    {
     "name": "stderr",
     "output_type": "stream",
     "text": [
      "training the network:  40%|███▉      | 79/200 [01:03<01:35,  1.27it/s]"
     ]
    },
    {
     "name": "stdout",
     "output_type": "stream",
     "text": [
      "train at epoch 80/200, loss=0.044128\n"
     ]
    },
    {
     "name": "stderr",
     "output_type": "stream",
     "text": [
      "training the network:  44%|████▍     | 89/200 [01:10<01:27,  1.27it/s]"
     ]
    },
    {
     "name": "stdout",
     "output_type": "stream",
     "text": [
      "train at epoch 90/200, loss=0.031860\n"
     ]
    },
    {
     "name": "stderr",
     "output_type": "stream",
     "text": [
      "training the network:  50%|████▉     | 99/200 [01:18<01:19,  1.27it/s]"
     ]
    },
    {
     "name": "stdout",
     "output_type": "stream",
     "text": [
      "train at epoch 100/200, loss=0.032200\n"
     ]
    },
    {
     "name": "stderr",
     "output_type": "stream",
     "text": [
      "training the network:  55%|█████▍    | 109/200 [01:26<01:11,  1.27it/s]"
     ]
    },
    {
     "name": "stdout",
     "output_type": "stream",
     "text": [
      "train at epoch 110/200, loss=0.028628\n"
     ]
    },
    {
     "name": "stderr",
     "output_type": "stream",
     "text": [
      "training the network:  60%|█████▉    | 119/200 [01:34<01:03,  1.27it/s]"
     ]
    },
    {
     "name": "stdout",
     "output_type": "stream",
     "text": [
      "train at epoch 120/200, loss=0.037238\n"
     ]
    },
    {
     "name": "stderr",
     "output_type": "stream",
     "text": [
      "training the network:  64%|██████▍   | 128/200 [01:41<00:56,  1.26it/s]"
     ]
    },
    {
     "name": "stdout",
     "output_type": "stream",
     "text": [
      "epoch = 128: best validation OA = 0.9662\n"
     ]
    },
    {
     "name": "stderr",
     "output_type": "stream",
     "text": [
      "training the network:  64%|██████▍   | 129/200 [01:42<00:56,  1.27it/s]"
     ]
    },
    {
     "name": "stdout",
     "output_type": "stream",
     "text": [
      "train at epoch 130/200, loss=0.038093\n"
     ]
    },
    {
     "name": "stderr",
     "output_type": "stream",
     "text": [
      "training the network:  70%|██████▉   | 139/200 [01:50<00:48,  1.27it/s]"
     ]
    },
    {
     "name": "stdout",
     "output_type": "stream",
     "text": [
      "train at epoch 140/200, loss=0.021607\n"
     ]
    },
    {
     "name": "stderr",
     "output_type": "stream",
     "text": [
      "training the network:  74%|███████▍  | 149/200 [01:58<00:40,  1.27it/s]"
     ]
    },
    {
     "name": "stdout",
     "output_type": "stream",
     "text": [
      "train at epoch 150/200, loss=0.028707\n"
     ]
    },
    {
     "name": "stderr",
     "output_type": "stream",
     "text": [
      "training the network:  80%|███████▉  | 159/200 [02:06<00:32,  1.27it/s]"
     ]
    },
    {
     "name": "stdout",
     "output_type": "stream",
     "text": [
      "train at epoch 160/200, loss=0.020697\n"
     ]
    },
    {
     "name": "stderr",
     "output_type": "stream",
     "text": [
      "training the network:  84%|████████▍ | 169/200 [02:14<00:24,  1.27it/s]"
     ]
    },
    {
     "name": "stdout",
     "output_type": "stream",
     "text": [
      "train at epoch 170/200, loss=0.017651\n"
     ]
    },
    {
     "name": "stderr",
     "output_type": "stream",
     "text": [
      "training the network:  85%|████████▌ | 170/200 [02:14<00:23,  1.26it/s]"
     ]
    },
    {
     "name": "stdout",
     "output_type": "stream",
     "text": [
      "epoch = 170: best validation OA = 0.9662\n"
     ]
    },
    {
     "name": "stderr",
     "output_type": "stream",
     "text": [
      "training the network:  90%|████████▉ | 179/200 [02:21<00:16,  1.27it/s]"
     ]
    },
    {
     "name": "stdout",
     "output_type": "stream",
     "text": [
      "train at epoch 180/200, loss=0.010892\n"
     ]
    },
    {
     "name": "stderr",
     "output_type": "stream",
     "text": [
      "training the network:  94%|█████████▍| 189/200 [02:29<00:08,  1.27it/s]"
     ]
    },
    {
     "name": "stdout",
     "output_type": "stream",
     "text": [
      "train at epoch 190/200, loss=0.020116\n"
     ]
    },
    {
     "name": "stderr",
     "output_type": "stream",
     "text": [
      "training the network: 100%|█████████▉| 199/200 [02:37<00:00,  1.27it/s]"
     ]
    },
    {
     "name": "stdout",
     "output_type": "stream",
     "text": [
      "train at epoch 200/200, loss=0.013928\n"
     ]
    },
    {
     "name": "stderr",
     "output_type": "stream",
     "text": [
      "training the network: 100%|██████████| 200/200 [02:38<00:00,  1.27it/s]\n",
      "/gpfs/home1/jmt30269/Group-Aware-Hierarchical-Transformer/train.py:58: FutureWarning: You are using `torch.load` with `weights_only=False` (the current default value), which uses the default pickle module implicitly. It is possible to construct malicious pickle data which will execute arbitrary code during unpickling (See https://github.com/pytorch/pytorch/blob/main/SECURITY.md#untrusted-models for more details). In a future release, the default value for `weights_only` will be flipped to `True`. This limits the functions that could be executed during unpickling. Arbitrary objects will no longer be allowed to be loaded via this mode unless they are explicitly allowlisted by the user via `torch.serialization.add_safe_globals`. We recommend you start setting `weights_only=True` for any use case where you don't have full control of the loaded file. Please open an issue on GitHub for any issues related to this experimental feature.\n",
      "  network.load_state_dict(torch.load(model_dir + \"/model_best.pth\"))\n",
      "inference on the HSI: 100%|██████████| 6990/6990 [00:22<00:00, 315.88it/s]\n"
     ]
    },
    {
     "name": "stdout",
     "output_type": "stream",
     "text": [
      "Confusion matrix :\n",
      "[[  8974   5533]\n",
      " [  3384 223116]]---\n",
      "Accuracy : 96.30%\n",
      "---\n",
      "class acc :\n",
      "\tAKK: 61.86\n",
      "\tBackground: 98.51\n",
      "---\n",
      "AA: 80.18%\n",
      "Kappa: 64.86\n",
      "\n",
      "--- Run 1 finished in 158.67 seconds ---\n",
      "running an experiment with the 202307_downsampled_gongsan_x8.h5 data\n",
      "run 1 / 10\n",
      "class train val test\n",
      "AKK 55 56 3598\n",
      "Background 875 874 56571\n",
      "model save dir : ./checkpoints/proposed/202307_downsampled_gongsan_x8.h5/0.03/7_0\n"
     ]
    },
    {
     "name": "stderr",
     "output_type": "stream",
     "text": [
      "training the network:   0%|          | 1/200 [00:00<00:50,  3.95it/s]"
     ]
    },
    {
     "name": "stdout",
     "output_type": "stream",
     "text": [
      "train at epoch 1/200, loss=0.541837\n",
      "epoch = 1: best validation OA = 0.8634\n"
     ]
    },
    {
     "name": "stderr",
     "output_type": "stream",
     "text": [
      "training the network:   2%|▏         | 4/200 [00:00<00:43,  4.55it/s]"
     ]
    },
    {
     "name": "stdout",
     "output_type": "stream",
     "text": [
      "epoch = 4: best validation OA = 0.8763\n"
     ]
    },
    {
     "name": "stderr",
     "output_type": "stream",
     "text": [
      "training the network:   2%|▎         | 5/200 [00:01<00:43,  4.52it/s]"
     ]
    },
    {
     "name": "stdout",
     "output_type": "stream",
     "text": [
      "epoch = 5: best validation OA = 0.9409\n"
     ]
    },
    {
     "name": "stderr",
     "output_type": "stream",
     "text": [
      "training the network:   4%|▎         | 7/200 [00:01<00:42,  4.59it/s]"
     ]
    },
    {
     "name": "stdout",
     "output_type": "stream",
     "text": [
      "epoch = 7: best validation OA = 0.9441\n"
     ]
    },
    {
     "name": "stderr",
     "output_type": "stream",
     "text": [
      "training the network:   4%|▍         | 8/200 [00:01<00:42,  4.55it/s]"
     ]
    },
    {
     "name": "stdout",
     "output_type": "stream",
     "text": [
      "epoch = 8: best validation OA = 0.9462\n"
     ]
    },
    {
     "name": "stderr",
     "output_type": "stream",
     "text": [
      "training the network:   5%|▌         | 10/200 [00:02<00:41,  4.58it/s]"
     ]
    },
    {
     "name": "stdout",
     "output_type": "stream",
     "text": [
      "train at epoch 10/200, loss=0.140185\n",
      "epoch = 10: best validation OA = 0.9495\n"
     ]
    },
    {
     "name": "stderr",
     "output_type": "stream",
     "text": [
      "training the network:   6%|▌         | 12/200 [00:02<00:41,  4.58it/s]"
     ]
    },
    {
     "name": "stdout",
     "output_type": "stream",
     "text": [
      "epoch = 12: best validation OA = 0.9505\n"
     ]
    },
    {
     "name": "stderr",
     "output_type": "stream",
     "text": [
      "training the network:  10%|█         | 20/200 [00:04<00:38,  4.70it/s]"
     ]
    },
    {
     "name": "stdout",
     "output_type": "stream",
     "text": [
      "train at epoch 20/200, loss=0.100339\n"
     ]
    },
    {
     "name": "stderr",
     "output_type": "stream",
     "text": [
      "training the network:  10%|█         | 21/200 [00:04<00:38,  4.62it/s]"
     ]
    },
    {
     "name": "stdout",
     "output_type": "stream",
     "text": [
      "epoch = 21: best validation OA = 0.9505\n"
     ]
    },
    {
     "name": "stderr",
     "output_type": "stream",
     "text": [
      "training the network:  12%|█▏        | 23/200 [00:04<00:38,  4.61it/s]"
     ]
    },
    {
     "name": "stdout",
     "output_type": "stream",
     "text": [
      "epoch = 23: best validation OA = 0.9548\n"
     ]
    },
    {
     "name": "stderr",
     "output_type": "stream",
     "text": [
      "training the network:  12%|█▏        | 24/200 [00:05<00:38,  4.57it/s]"
     ]
    },
    {
     "name": "stdout",
     "output_type": "stream",
     "text": [
      "epoch = 24: best validation OA = 0.9559\n"
     ]
    },
    {
     "name": "stderr",
     "output_type": "stream",
     "text": [
      "training the network:  15%|█▌        | 30/200 [00:06<00:36,  4.67it/s]"
     ]
    },
    {
     "name": "stdout",
     "output_type": "stream",
     "text": [
      "train at epoch 30/200, loss=0.074424\n"
     ]
    },
    {
     "name": "stderr",
     "output_type": "stream",
     "text": [
      "training the network:  20%|██        | 40/200 [00:08<00:34,  4.68it/s]"
     ]
    },
    {
     "name": "stdout",
     "output_type": "stream",
     "text": [
      "train at epoch 40/200, loss=0.058536\n"
     ]
    },
    {
     "name": "stderr",
     "output_type": "stream",
     "text": [
      "training the network:  25%|██▌       | 50/200 [00:10<00:31,  4.71it/s]"
     ]
    },
    {
     "name": "stdout",
     "output_type": "stream",
     "text": [
      "train at epoch 50/200, loss=0.043165\n"
     ]
    },
    {
     "name": "stderr",
     "output_type": "stream",
     "text": [
      "training the network:  30%|███       | 60/200 [00:12<00:29,  4.67it/s]"
     ]
    },
    {
     "name": "stdout",
     "output_type": "stream",
     "text": [
      "train at epoch 60/200, loss=0.045382\n"
     ]
    },
    {
     "name": "stderr",
     "output_type": "stream",
     "text": [
      "training the network:  35%|███▌      | 70/200 [00:14<00:27,  4.71it/s]"
     ]
    },
    {
     "name": "stdout",
     "output_type": "stream",
     "text": [
      "train at epoch 70/200, loss=0.049493\n"
     ]
    },
    {
     "name": "stderr",
     "output_type": "stream",
     "text": [
      "training the network:  40%|████      | 80/200 [00:16<00:25,  4.67it/s]"
     ]
    },
    {
     "name": "stdout",
     "output_type": "stream",
     "text": [
      "train at epoch 80/200, loss=0.031653\n"
     ]
    },
    {
     "name": "stderr",
     "output_type": "stream",
     "text": [
      "training the network:  45%|████▌     | 90/200 [00:19<00:23,  4.67it/s]"
     ]
    },
    {
     "name": "stdout",
     "output_type": "stream",
     "text": [
      "train at epoch 90/200, loss=0.022186\n"
     ]
    },
    {
     "name": "stderr",
     "output_type": "stream",
     "text": [
      "training the network:  50%|█████     | 100/200 [00:21<00:21,  4.68it/s]"
     ]
    },
    {
     "name": "stdout",
     "output_type": "stream",
     "text": [
      "train at epoch 100/200, loss=0.015572\n"
     ]
    },
    {
     "name": "stderr",
     "output_type": "stream",
     "text": [
      "training the network:  55%|█████▌    | 110/200 [00:23<00:19,  4.72it/s]"
     ]
    },
    {
     "name": "stdout",
     "output_type": "stream",
     "text": [
      "train at epoch 110/200, loss=0.021593\n"
     ]
    },
    {
     "name": "stderr",
     "output_type": "stream",
     "text": [
      "training the network:  60%|██████    | 120/200 [00:25<00:17,  4.69it/s]"
     ]
    },
    {
     "name": "stdout",
     "output_type": "stream",
     "text": [
      "train at epoch 120/200, loss=0.011002\n"
     ]
    },
    {
     "name": "stderr",
     "output_type": "stream",
     "text": [
      "training the network:  65%|██████▌   | 130/200 [00:27<00:14,  4.69it/s]"
     ]
    },
    {
     "name": "stdout",
     "output_type": "stream",
     "text": [
      "train at epoch 130/200, loss=0.016979\n"
     ]
    },
    {
     "name": "stderr",
     "output_type": "stream",
     "text": [
      "training the network:  70%|███████   | 140/200 [00:29<00:12,  4.68it/s]"
     ]
    },
    {
     "name": "stdout",
     "output_type": "stream",
     "text": [
      "train at epoch 140/200, loss=0.013922\n"
     ]
    },
    {
     "name": "stderr",
     "output_type": "stream",
     "text": [
      "training the network:  75%|███████▌  | 150/200 [00:31<00:10,  4.68it/s]"
     ]
    },
    {
     "name": "stdout",
     "output_type": "stream",
     "text": [
      "train at epoch 150/200, loss=0.005950\n"
     ]
    },
    {
     "name": "stderr",
     "output_type": "stream",
     "text": [
      "training the network:  80%|████████  | 160/200 [00:33<00:08,  4.69it/s]"
     ]
    },
    {
     "name": "stdout",
     "output_type": "stream",
     "text": [
      "train at epoch 160/200, loss=0.018124\n"
     ]
    },
    {
     "name": "stderr",
     "output_type": "stream",
     "text": [
      "training the network:  85%|████████▌ | 170/200 [00:35<00:06,  4.72it/s]"
     ]
    },
    {
     "name": "stdout",
     "output_type": "stream",
     "text": [
      "train at epoch 170/200, loss=0.018688\n"
     ]
    },
    {
     "name": "stderr",
     "output_type": "stream",
     "text": [
      "training the network:  88%|████████▊ | 176/200 [00:37<00:05,  4.70it/s]"
     ]
    },
    {
     "name": "stdout",
     "output_type": "stream",
     "text": [
      "epoch = 176: best validation OA = 0.9559\n"
     ]
    },
    {
     "name": "stderr",
     "output_type": "stream",
     "text": [
      "training the network:  90%|█████████ | 180/200 [00:38<00:04,  4.67it/s]"
     ]
    },
    {
     "name": "stdout",
     "output_type": "stream",
     "text": [
      "train at epoch 180/200, loss=0.010735\n"
     ]
    },
    {
     "name": "stderr",
     "output_type": "stream",
     "text": [
      "training the network:  92%|█████████▏| 184/200 [00:38<00:03,  4.67it/s]"
     ]
    },
    {
     "name": "stdout",
     "output_type": "stream",
     "text": [
      "epoch = 184: best validation OA = 0.9559\n"
     ]
    },
    {
     "name": "stderr",
     "output_type": "stream",
     "text": [
      "training the network:  94%|█████████▎| 187/200 [00:39<00:02,  4.64it/s]"
     ]
    },
    {
     "name": "stdout",
     "output_type": "stream",
     "text": [
      "epoch = 187: best validation OA = 0.9559\n"
     ]
    },
    {
     "name": "stderr",
     "output_type": "stream",
     "text": [
      "training the network:  94%|█████████▍| 188/200 [00:39<00:02,  4.58it/s]"
     ]
    },
    {
     "name": "stdout",
     "output_type": "stream",
     "text": [
      "epoch = 188: best validation OA = 0.9559\n"
     ]
    },
    {
     "name": "stderr",
     "output_type": "stream",
     "text": [
      "training the network:  95%|█████████▌| 190/200 [00:40<00:02,  4.57it/s]"
     ]
    },
    {
     "name": "stdout",
     "output_type": "stream",
     "text": [
      "train at epoch 190/200, loss=0.012394\n"
     ]
    },
    {
     "name": "stderr",
     "output_type": "stream",
     "text": [
      "training the network: 100%|██████████| 200/200 [00:42<00:00,  4.73it/s]\n",
      "/gpfs/home1/jmt30269/Group-Aware-Hierarchical-Transformer/train.py:58: FutureWarning: You are using `torch.load` with `weights_only=False` (the current default value), which uses the default pickle module implicitly. It is possible to construct malicious pickle data which will execute arbitrary code during unpickling (See https://github.com/pytorch/pytorch/blob/main/SECURITY.md#untrusted-models for more details). In a future release, the default value for `weights_only` will be flipped to `True`. This limits the functions that could be executed during unpickling. Arbitrary objects will no longer be allowed to be loaded via this mode unless they are explicitly allowlisted by the user via `torch.serialization.add_safe_globals`. We recommend you start setting `weights_only=True` for any use case where you don't have full control of the loaded file. Please open an issue on GitHub for any issues related to this experimental feature.\n",
      "  network.load_state_dict(torch.load(model_dir + \"/model_best.pth\"))\n"
     ]
    },
    {
     "name": "stdout",
     "output_type": "stream",
     "text": [
      "train at epoch 200/200, loss=0.002548\n"
     ]
    },
    {
     "name": "stderr",
     "output_type": "stream",
     "text": [
      "inference on the HSI: 100%|██████████| 1745/1745 [00:05<00:00, 315.20it/s]\n"
     ]
    },
    {
     "name": "stdout",
     "output_type": "stream",
     "text": [
      "Confusion matrix :\n",
      "[[ 1393  2205]\n",
      " [  660 55911]]---\n",
      "Accuracy : 95.24%\n",
      "---\n",
      "class acc :\n",
      "\tAKK: 38.72\n",
      "\tBackground: 98.83\n",
      "---\n",
      "AA: 68.77%\n",
      "Kappa: 47.00\n",
      "\n",
      "--- Run 1 finished in 42.42 seconds ---\n",
      "running an experiment with the 202407_downsampled_gongsan_x2.h5 data\n",
      "run 1 / 10\n",
      "class train val test\n",
      "AKK 710 710 45904\n",
      "Background 14222 14223 919754\n",
      "model save dir : ./checkpoints/proposed/202407_downsampled_gongsan_x2.h5/0.03/7_0\n"
     ]
    },
    {
     "name": "stderr",
     "output_type": "stream",
     "text": [
      "training the network:   0%|          | 0/200 [00:01<?, ?it/s]"
     ]
    },
    {
     "name": "stdout",
     "output_type": "stream",
     "text": [
      "train at epoch 1/200, loss=0.245397\n"
     ]
    },
    {
     "name": "stderr",
     "output_type": "stream",
     "text": [
      "training the network:   0%|          | 1/200 [00:03<10:22,  3.13s/it]"
     ]
    },
    {
     "name": "stdout",
     "output_type": "stream",
     "text": [
      "epoch = 1: best validation OA = 0.9530\n"
     ]
    },
    {
     "name": "stderr",
     "output_type": "stream",
     "text": [
      "training the network:   1%|          | 2/200 [00:06<10:16,  3.11s/it]"
     ]
    },
    {
     "name": "stdout",
     "output_type": "stream",
     "text": [
      "epoch = 2: best validation OA = 0.9547\n"
     ]
    },
    {
     "name": "stderr",
     "output_type": "stream",
     "text": [
      "training the network:   2%|▏         | 4/200 [00:12<10:08,  3.10s/it]"
     ]
    },
    {
     "name": "stdout",
     "output_type": "stream",
     "text": [
      "epoch = 4: best validation OA = 0.9560\n"
     ]
    },
    {
     "name": "stderr",
     "output_type": "stream",
     "text": [
      "training the network:   2%|▎         | 5/200 [00:15<10:05,  3.10s/it]"
     ]
    },
    {
     "name": "stdout",
     "output_type": "stream",
     "text": [
      "epoch = 5: best validation OA = 0.9561\n"
     ]
    },
    {
     "name": "stderr",
     "output_type": "stream",
     "text": [
      "training the network:   3%|▎         | 6/200 [00:18<10:02,  3.10s/it]"
     ]
    },
    {
     "name": "stdout",
     "output_type": "stream",
     "text": [
      "epoch = 6: best validation OA = 0.9568\n"
     ]
    },
    {
     "name": "stderr",
     "output_type": "stream",
     "text": [
      "training the network:   4%|▍         | 8/200 [00:24<09:57,  3.11s/it]"
     ]
    },
    {
     "name": "stdout",
     "output_type": "stream",
     "text": [
      "epoch = 8: best validation OA = 0.9581\n"
     ]
    },
    {
     "name": "stderr",
     "output_type": "stream",
     "text": [
      "training the network:   4%|▍         | 9/200 [00:29<09:53,  3.11s/it]"
     ]
    },
    {
     "name": "stdout",
     "output_type": "stream",
     "text": [
      "train at epoch 10/200, loss=0.106912\n"
     ]
    },
    {
     "name": "stderr",
     "output_type": "stream",
     "text": [
      "training the network:   6%|▌         | 12/200 [00:37<09:43,  3.10s/it]"
     ]
    },
    {
     "name": "stdout",
     "output_type": "stream",
     "text": [
      "epoch = 12: best validation OA = 0.9598\n"
     ]
    },
    {
     "name": "stderr",
     "output_type": "stream",
     "text": [
      "training the network:   7%|▋         | 14/200 [00:43<09:36,  3.10s/it]"
     ]
    },
    {
     "name": "stdout",
     "output_type": "stream",
     "text": [
      "epoch = 14: best validation OA = 0.9600\n"
     ]
    },
    {
     "name": "stderr",
     "output_type": "stream",
     "text": [
      "training the network:   8%|▊         | 16/200 [00:49<09:30,  3.10s/it]"
     ]
    },
    {
     "name": "stdout",
     "output_type": "stream",
     "text": [
      "epoch = 16: best validation OA = 0.9616\n"
     ]
    },
    {
     "name": "stderr",
     "output_type": "stream",
     "text": [
      "training the network:  10%|▉         | 19/200 [01:00<09:19,  3.09s/it]"
     ]
    },
    {
     "name": "stdout",
     "output_type": "stream",
     "text": [
      "train at epoch 20/200, loss=0.090264\n"
     ]
    },
    {
     "name": "stderr",
     "output_type": "stream",
     "text": [
      "training the network:  10%|█         | 21/200 [01:05<09:14,  3.10s/it]"
     ]
    },
    {
     "name": "stdout",
     "output_type": "stream",
     "text": [
      "epoch = 21: best validation OA = 0.9627\n"
     ]
    },
    {
     "name": "stderr",
     "output_type": "stream",
     "text": [
      "training the network:  12%|█▏        | 23/200 [01:11<09:08,  3.10s/it]"
     ]
    },
    {
     "name": "stdout",
     "output_type": "stream",
     "text": [
      "epoch = 23: best validation OA = 0.9628\n"
     ]
    },
    {
     "name": "stderr",
     "output_type": "stream",
     "text": [
      "training the network:  14%|█▍        | 29/200 [01:31<08:48,  3.09s/it]"
     ]
    },
    {
     "name": "stdout",
     "output_type": "stream",
     "text": [
      "train at epoch 30/200, loss=0.080478\n"
     ]
    },
    {
     "name": "stderr",
     "output_type": "stream",
     "text": [
      "training the network:  18%|█▊        | 35/200 [01:48<08:30,  3.09s/it]"
     ]
    },
    {
     "name": "stdout",
     "output_type": "stream",
     "text": [
      "epoch = 35: best validation OA = 0.9628\n"
     ]
    },
    {
     "name": "stderr",
     "output_type": "stream",
     "text": [
      "training the network:  19%|█▉        | 38/200 [01:57<08:21,  3.09s/it]"
     ]
    },
    {
     "name": "stdout",
     "output_type": "stream",
     "text": [
      "epoch = 38: best validation OA = 0.9631\n"
     ]
    },
    {
     "name": "stderr",
     "output_type": "stream",
     "text": [
      "training the network:  20%|█▉        | 39/200 [02:02<08:17,  3.09s/it]"
     ]
    },
    {
     "name": "stdout",
     "output_type": "stream",
     "text": [
      "train at epoch 40/200, loss=0.070351\n"
     ]
    },
    {
     "name": "stderr",
     "output_type": "stream",
     "text": [
      "training the network:  20%|██        | 41/200 [02:06<08:12,  3.10s/it]"
     ]
    },
    {
     "name": "stdout",
     "output_type": "stream",
     "text": [
      "epoch = 41: best validation OA = 0.9645\n"
     ]
    },
    {
     "name": "stderr",
     "output_type": "stream",
     "text": [
      "training the network:  24%|██▍       | 49/200 [02:33<07:46,  3.09s/it]"
     ]
    },
    {
     "name": "stdout",
     "output_type": "stream",
     "text": [
      "train at epoch 50/200, loss=0.059836\n"
     ]
    },
    {
     "name": "stderr",
     "output_type": "stream",
     "text": [
      "training the network:  30%|██▉       | 59/200 [03:04<07:15,  3.09s/it]"
     ]
    },
    {
     "name": "stdout",
     "output_type": "stream",
     "text": [
      "train at epoch 60/200, loss=0.053855\n"
     ]
    },
    {
     "name": "stderr",
     "output_type": "stream",
     "text": [
      "training the network:  34%|███▍      | 69/200 [03:35<06:43,  3.08s/it]"
     ]
    },
    {
     "name": "stdout",
     "output_type": "stream",
     "text": [
      "train at epoch 70/200, loss=0.046692\n"
     ]
    },
    {
     "name": "stderr",
     "output_type": "stream",
     "text": [
      "training the network:  40%|███▉      | 79/200 [04:06<06:13,  3.09s/it]"
     ]
    },
    {
     "name": "stdout",
     "output_type": "stream",
     "text": [
      "train at epoch 80/200, loss=0.044902\n"
     ]
    },
    {
     "name": "stderr",
     "output_type": "stream",
     "text": [
      "training the network:  44%|████▍     | 89/200 [04:37<05:42,  3.09s/it]"
     ]
    },
    {
     "name": "stdout",
     "output_type": "stream",
     "text": [
      "train at epoch 90/200, loss=0.040403\n"
     ]
    },
    {
     "name": "stderr",
     "output_type": "stream",
     "text": [
      "training the network:  50%|████▉     | 99/200 [05:08<05:11,  3.09s/it]"
     ]
    },
    {
     "name": "stdout",
     "output_type": "stream",
     "text": [
      "train at epoch 100/200, loss=0.037667\n"
     ]
    },
    {
     "name": "stderr",
     "output_type": "stream",
     "text": [
      "training the network:  55%|█████▍    | 109/200 [05:38<04:41,  3.09s/it]"
     ]
    },
    {
     "name": "stdout",
     "output_type": "stream",
     "text": [
      "train at epoch 110/200, loss=0.034894\n"
     ]
    },
    {
     "name": "stderr",
     "output_type": "stream",
     "text": [
      "training the network:  60%|█████▉    | 119/200 [06:09<04:10,  3.09s/it]"
     ]
    },
    {
     "name": "stdout",
     "output_type": "stream",
     "text": [
      "train at epoch 120/200, loss=0.026499\n"
     ]
    },
    {
     "name": "stderr",
     "output_type": "stream",
     "text": [
      "training the network:  64%|██████▍   | 129/200 [06:40<03:39,  3.09s/it]"
     ]
    },
    {
     "name": "stdout",
     "output_type": "stream",
     "text": [
      "train at epoch 130/200, loss=0.024244\n"
     ]
    },
    {
     "name": "stderr",
     "output_type": "stream",
     "text": [
      "training the network:  70%|██████▉   | 139/200 [07:11<03:08,  3.09s/it]"
     ]
    },
    {
     "name": "stdout",
     "output_type": "stream",
     "text": [
      "train at epoch 140/200, loss=0.026038\n"
     ]
    },
    {
     "name": "stderr",
     "output_type": "stream",
     "text": [
      "training the network:  74%|███████▍  | 149/200 [07:42<02:37,  3.09s/it]"
     ]
    },
    {
     "name": "stdout",
     "output_type": "stream",
     "text": [
      "train at epoch 150/200, loss=0.023182\n"
     ]
    },
    {
     "name": "stderr",
     "output_type": "stream",
     "text": [
      "training the network:  80%|███████▉  | 159/200 [08:13<02:06,  3.09s/it]"
     ]
    },
    {
     "name": "stdout",
     "output_type": "stream",
     "text": [
      "train at epoch 160/200, loss=0.020707\n"
     ]
    },
    {
     "name": "stderr",
     "output_type": "stream",
     "text": [
      "training the network:  84%|████████▍ | 169/200 [08:44<01:35,  3.09s/it]"
     ]
    },
    {
     "name": "stdout",
     "output_type": "stream",
     "text": [
      "train at epoch 170/200, loss=0.020175\n"
     ]
    },
    {
     "name": "stderr",
     "output_type": "stream",
     "text": [
      "training the network:  90%|████████▉ | 179/200 [09:15<01:04,  3.09s/it]"
     ]
    },
    {
     "name": "stdout",
     "output_type": "stream",
     "text": [
      "train at epoch 180/200, loss=0.020424\n"
     ]
    },
    {
     "name": "stderr",
     "output_type": "stream",
     "text": [
      "training the network:  94%|█████████▍| 189/200 [09:45<00:33,  3.09s/it]"
     ]
    },
    {
     "name": "stdout",
     "output_type": "stream",
     "text": [
      "train at epoch 190/200, loss=0.016345\n"
     ]
    },
    {
     "name": "stderr",
     "output_type": "stream",
     "text": [
      "training the network: 100%|█████████▉| 199/200 [10:16<00:03,  3.09s/it]"
     ]
    },
    {
     "name": "stdout",
     "output_type": "stream",
     "text": [
      "train at epoch 200/200, loss=0.016066\n"
     ]
    },
    {
     "name": "stderr",
     "output_type": "stream",
     "text": [
      "training the network: 100%|██████████| 200/200 [10:17<00:00,  3.09s/it]\n",
      "/gpfs/home1/jmt30269/Group-Aware-Hierarchical-Transformer/train.py:58: FutureWarning: You are using `torch.load` with `weights_only=False` (the current default value), which uses the default pickle module implicitly. It is possible to construct malicious pickle data which will execute arbitrary code during unpickling (See https://github.com/pytorch/pytorch/blob/main/SECURITY.md#untrusted-models for more details). In a future release, the default value for `weights_only` will be flipped to `True`. This limits the functions that could be executed during unpickling. Arbitrary objects will no longer be allowed to be loaded via this mode unless they are explicitly allowlisted by the user via `torch.serialization.add_safe_globals`. We recommend you start setting `weights_only=True` for any use case where you don't have full control of the loaded file. Please open an issue on GitHub for any issues related to this experimental feature.\n",
      "  network.load_state_dict(torch.load(model_dir + \"/model_best.pth\"))\n",
      "inference on the HSI: 28002it [01:28, 316.79it/s]                           \n"
     ]
    },
    {
     "name": "stdout",
     "output_type": "stream",
     "text": [
      "Confusion matrix :\n",
      "[[ 18287  27617]\n",
      " [  8603 911151]]---\n",
      "Accuracy : 96.25%\n",
      "---\n",
      "class acc :\n",
      "\tAKK: 39.84\n",
      "\tBackground: 99.06\n",
      "---\n",
      "AA: 69.45%\n",
      "Kappa: 48.43\n",
      "\n",
      "--- Run 1 finished in 621.46 seconds ---\n",
      "running an experiment with the 202407_downsampled_gongsan_x4.h5 data\n",
      "run 1 / 10\n",
      "class train val test\n",
      "AKK 177 177 11443\n",
      "Background 3549 3549 229509\n",
      "model save dir : ./checkpoints/proposed/202407_downsampled_gongsan_x4.h5/0.03/7_0\n"
     ]
    },
    {
     "name": "stderr",
     "output_type": "stream",
     "text": [
      "training the network:   0%|          | 0/200 [00:00<?, ?it/s]"
     ]
    },
    {
     "name": "stdout",
     "output_type": "stream",
     "text": [
      "train at epoch 1/200, loss=0.497730\n"
     ]
    },
    {
     "name": "stderr",
     "output_type": "stream",
     "text": [
      "training the network:   0%|          | 1/200 [00:00<02:41,  1.23it/s]"
     ]
    },
    {
     "name": "stdout",
     "output_type": "stream",
     "text": [
      "epoch = 1: best validation OA = 0.9525\n"
     ]
    },
    {
     "name": "stderr",
     "output_type": "stream",
     "text": [
      "training the network:   1%|          | 2/200 [00:01<02:39,  1.24it/s]"
     ]
    },
    {
     "name": "stdout",
     "output_type": "stream",
     "text": [
      "epoch = 2: best validation OA = 0.9525\n"
     ]
    },
    {
     "name": "stderr",
     "output_type": "stream",
     "text": [
      "training the network:   2%|▏         | 3/200 [00:02<02:38,  1.24it/s]"
     ]
    },
    {
     "name": "stdout",
     "output_type": "stream",
     "text": [
      "epoch = 3: best validation OA = 0.9525\n"
     ]
    },
    {
     "name": "stderr",
     "output_type": "stream",
     "text": [
      "training the network:   2%|▏         | 4/200 [00:03<02:37,  1.24it/s]"
     ]
    },
    {
     "name": "stdout",
     "output_type": "stream",
     "text": [
      "epoch = 4: best validation OA = 0.9536\n"
     ]
    },
    {
     "name": "stderr",
     "output_type": "stream",
     "text": [
      "training the network:   2%|▎         | 5/200 [00:04<02:36,  1.24it/s]"
     ]
    },
    {
     "name": "stdout",
     "output_type": "stream",
     "text": [
      "epoch = 5: best validation OA = 0.9549\n"
     ]
    },
    {
     "name": "stderr",
     "output_type": "stream",
     "text": [
      "training the network:   3%|▎         | 6/200 [00:04<02:35,  1.24it/s]"
     ]
    },
    {
     "name": "stdout",
     "output_type": "stream",
     "text": [
      "epoch = 6: best validation OA = 0.9549\n"
     ]
    },
    {
     "name": "stderr",
     "output_type": "stream",
     "text": [
      "training the network:   4%|▎         | 7/200 [00:05<02:34,  1.25it/s]"
     ]
    },
    {
     "name": "stdout",
     "output_type": "stream",
     "text": [
      "epoch = 7: best validation OA = 0.9560\n"
     ]
    },
    {
     "name": "stderr",
     "output_type": "stream",
     "text": [
      "training the network:   4%|▍         | 9/200 [00:07<02:32,  1.25it/s]"
     ]
    },
    {
     "name": "stdout",
     "output_type": "stream",
     "text": [
      "epoch = 9: best validation OA = 0.9563\n"
     ]
    },
    {
     "name": "stderr",
     "output_type": "stream",
     "text": [
      "training the network:   4%|▍         | 9/200 [00:07<02:32,  1.25it/s]"
     ]
    },
    {
     "name": "stdout",
     "output_type": "stream",
     "text": [
      "train at epoch 10/200, loss=0.119549\n"
     ]
    },
    {
     "name": "stderr",
     "output_type": "stream",
     "text": [
      "training the network:   6%|▌         | 12/200 [00:09<02:30,  1.25it/s]"
     ]
    },
    {
     "name": "stdout",
     "output_type": "stream",
     "text": [
      "epoch = 12: best validation OA = 0.9565\n"
     ]
    },
    {
     "name": "stderr",
     "output_type": "stream",
     "text": [
      "training the network:  10%|▉         | 19/200 [00:15<02:22,  1.27it/s]"
     ]
    },
    {
     "name": "stdout",
     "output_type": "stream",
     "text": [
      "train at epoch 20/200, loss=0.093709\n"
     ]
    },
    {
     "name": "stderr",
     "output_type": "stream",
     "text": [
      "training the network:  10%|█         | 21/200 [00:16<02:22,  1.26it/s]"
     ]
    },
    {
     "name": "stdout",
     "output_type": "stream",
     "text": [
      "epoch = 21: best validation OA = 0.9571\n"
     ]
    },
    {
     "name": "stderr",
     "output_type": "stream",
     "text": [
      "training the network:  14%|█▍        | 28/200 [00:22<02:16,  1.26it/s]"
     ]
    },
    {
     "name": "stdout",
     "output_type": "stream",
     "text": [
      "epoch = 28: best validation OA = 0.9571\n"
     ]
    },
    {
     "name": "stderr",
     "output_type": "stream",
     "text": [
      "training the network:  14%|█▍        | 29/200 [00:23<02:15,  1.27it/s]"
     ]
    },
    {
     "name": "stdout",
     "output_type": "stream",
     "text": [
      "train at epoch 30/200, loss=0.077983\n"
     ]
    },
    {
     "name": "stderr",
     "output_type": "stream",
     "text": [
      "training the network:  17%|█▋        | 34/200 [00:27<02:11,  1.26it/s]"
     ]
    },
    {
     "name": "stdout",
     "output_type": "stream",
     "text": [
      "epoch = 34: best validation OA = 0.9571\n"
     ]
    },
    {
     "name": "stderr",
     "output_type": "stream",
     "text": [
      "training the network:  18%|█▊        | 37/200 [00:29<02:09,  1.26it/s]"
     ]
    },
    {
     "name": "stdout",
     "output_type": "stream",
     "text": [
      "epoch = 37: best validation OA = 0.9573\n"
     ]
    },
    {
     "name": "stderr",
     "output_type": "stream",
     "text": [
      "training the network:  20%|█▉        | 39/200 [00:31<02:07,  1.27it/s]"
     ]
    },
    {
     "name": "stdout",
     "output_type": "stream",
     "text": [
      "train at epoch 40/200, loss=0.069655\n"
     ]
    },
    {
     "name": "stderr",
     "output_type": "stream",
     "text": [
      "training the network:  22%|██▏       | 43/200 [00:34<02:04,  1.26it/s]"
     ]
    },
    {
     "name": "stdout",
     "output_type": "stream",
     "text": [
      "epoch = 43: best validation OA = 0.9573\n"
     ]
    },
    {
     "name": "stderr",
     "output_type": "stream",
     "text": [
      "training the network:  22%|██▎       | 45/200 [00:35<02:03,  1.26it/s]"
     ]
    },
    {
     "name": "stdout",
     "output_type": "stream",
     "text": [
      "epoch = 45: best validation OA = 0.9616\n"
     ]
    },
    {
     "name": "stderr",
     "output_type": "stream",
     "text": [
      "training the network:  24%|██▍       | 49/200 [00:39<01:59,  1.26it/s]"
     ]
    },
    {
     "name": "stdout",
     "output_type": "stream",
     "text": [
      "train at epoch 50/200, loss=0.052422\n"
     ]
    },
    {
     "name": "stderr",
     "output_type": "stream",
     "text": [
      "training the network:  30%|██▉       | 59/200 [00:47<01:51,  1.27it/s]"
     ]
    },
    {
     "name": "stdout",
     "output_type": "stream",
     "text": [
      "train at epoch 60/200, loss=0.040725\n"
     ]
    },
    {
     "name": "stderr",
     "output_type": "stream",
     "text": [
      "training the network:  34%|███▍      | 69/200 [00:55<01:43,  1.27it/s]"
     ]
    },
    {
     "name": "stdout",
     "output_type": "stream",
     "text": [
      "train at epoch 70/200, loss=0.045331\n"
     ]
    },
    {
     "name": "stderr",
     "output_type": "stream",
     "text": [
      "training the network:  40%|███▉      | 79/200 [01:03<01:35,  1.27it/s]"
     ]
    },
    {
     "name": "stdout",
     "output_type": "stream",
     "text": [
      "train at epoch 80/200, loss=0.048213\n"
     ]
    },
    {
     "name": "stderr",
     "output_type": "stream",
     "text": [
      "training the network:  44%|████▍     | 89/200 [01:10<01:27,  1.27it/s]"
     ]
    },
    {
     "name": "stdout",
     "output_type": "stream",
     "text": [
      "train at epoch 90/200, loss=0.032464\n"
     ]
    },
    {
     "name": "stderr",
     "output_type": "stream",
     "text": [
      "training the network:  48%|████▊     | 97/200 [01:16<01:21,  1.26it/s]"
     ]
    },
    {
     "name": "stdout",
     "output_type": "stream",
     "text": [
      "epoch = 97: best validation OA = 0.9616\n"
     ]
    },
    {
     "name": "stderr",
     "output_type": "stream",
     "text": [
      "training the network:  50%|████▉     | 99/200 [01:18<01:19,  1.27it/s]"
     ]
    },
    {
     "name": "stdout",
     "output_type": "stream",
     "text": [
      "train at epoch 100/200, loss=0.023855\n"
     ]
    },
    {
     "name": "stderr",
     "output_type": "stream",
     "text": [
      "training the network:  55%|█████▍    | 109/200 [01:26<01:11,  1.27it/s]"
     ]
    },
    {
     "name": "stdout",
     "output_type": "stream",
     "text": [
      "train at epoch 110/200, loss=0.026829\n"
     ]
    },
    {
     "name": "stderr",
     "output_type": "stream",
     "text": [
      "training the network:  56%|█████▌    | 111/200 [01:27<01:10,  1.26it/s]"
     ]
    },
    {
     "name": "stdout",
     "output_type": "stream",
     "text": [
      "epoch = 111: best validation OA = 0.9619\n"
     ]
    },
    {
     "name": "stderr",
     "output_type": "stream",
     "text": [
      "training the network:  58%|█████▊    | 117/200 [01:32<01:05,  1.26it/s]"
     ]
    },
    {
     "name": "stdout",
     "output_type": "stream",
     "text": [
      "epoch = 117: best validation OA = 0.9619\n"
     ]
    },
    {
     "name": "stderr",
     "output_type": "stream",
     "text": [
      "training the network:  60%|█████▉    | 119/200 [01:34<01:03,  1.27it/s]"
     ]
    },
    {
     "name": "stdout",
     "output_type": "stream",
     "text": [
      "train at epoch 120/200, loss=0.027449\n"
     ]
    },
    {
     "name": "stderr",
     "output_type": "stream",
     "text": [
      "training the network:  64%|██████▍   | 129/200 [01:42<00:55,  1.27it/s]"
     ]
    },
    {
     "name": "stdout",
     "output_type": "stream",
     "text": [
      "train at epoch 130/200, loss=0.049425\n"
     ]
    },
    {
     "name": "stderr",
     "output_type": "stream",
     "text": [
      "training the network:  70%|██████▉   | 139/200 [01:50<00:48,  1.27it/s]"
     ]
    },
    {
     "name": "stdout",
     "output_type": "stream",
     "text": [
      "train at epoch 140/200, loss=0.070513\n"
     ]
    },
    {
     "name": "stderr",
     "output_type": "stream",
     "text": [
      "training the network:  74%|███████▍  | 149/200 [01:58<00:40,  1.27it/s]"
     ]
    },
    {
     "name": "stdout",
     "output_type": "stream",
     "text": [
      "train at epoch 150/200, loss=0.037934\n"
     ]
    },
    {
     "name": "stderr",
     "output_type": "stream",
     "text": [
      "training the network:  80%|███████▉  | 159/200 [02:06<00:32,  1.27it/s]"
     ]
    },
    {
     "name": "stdout",
     "output_type": "stream",
     "text": [
      "train at epoch 160/200, loss=0.028786\n"
     ]
    },
    {
     "name": "stderr",
     "output_type": "stream",
     "text": [
      "training the network:  84%|████████▍ | 169/200 [02:14<00:24,  1.27it/s]"
     ]
    },
    {
     "name": "stdout",
     "output_type": "stream",
     "text": [
      "train at epoch 170/200, loss=0.016369\n"
     ]
    },
    {
     "name": "stderr",
     "output_type": "stream",
     "text": [
      "training the network:  90%|████████▉ | 179/200 [02:21<00:16,  1.27it/s]"
     ]
    },
    {
     "name": "stdout",
     "output_type": "stream",
     "text": [
      "train at epoch 180/200, loss=0.033057\n"
     ]
    },
    {
     "name": "stderr",
     "output_type": "stream",
     "text": [
      "training the network:  94%|█████████▍| 189/200 [02:29<00:08,  1.26it/s]"
     ]
    },
    {
     "name": "stdout",
     "output_type": "stream",
     "text": [
      "train at epoch 190/200, loss=0.015347\n"
     ]
    },
    {
     "name": "stderr",
     "output_type": "stream",
     "text": [
      "training the network: 100%|█████████▉| 199/200 [02:37<00:00,  1.26it/s]"
     ]
    },
    {
     "name": "stdout",
     "output_type": "stream",
     "text": [
      "train at epoch 200/200, loss=0.009811\n"
     ]
    },
    {
     "name": "stderr",
     "output_type": "stream",
     "text": [
      "training the network: 100%|██████████| 200/200 [02:38<00:00,  1.26it/s]\n",
      "/gpfs/home1/jmt30269/Group-Aware-Hierarchical-Transformer/train.py:58: FutureWarning: You are using `torch.load` with `weights_only=False` (the current default value), which uses the default pickle module implicitly. It is possible to construct malicious pickle data which will execute arbitrary code during unpickling (See https://github.com/pytorch/pytorch/blob/main/SECURITY.md#untrusted-models for more details). In a future release, the default value for `weights_only` will be flipped to `True`. This limits the functions that could be executed during unpickling. Arbitrary objects will no longer be allowed to be loaded via this mode unless they are explicitly allowlisted by the user via `torch.serialization.add_safe_globals`. We recommend you start setting `weights_only=True` for any use case where you don't have full control of the loaded file. Please open an issue on GitHub for any issues related to this experimental feature.\n",
      "  network.load_state_dict(torch.load(model_dir + \"/model_best.pth\"))\n",
      "inference on the HSI: 100%|██████████| 6990/6990 [00:22<00:00, 312.04it/s]\n"
     ]
    },
    {
     "name": "stdout",
     "output_type": "stream",
     "text": [
      "Confusion matrix :\n",
      "[[  3365   8078]\n",
      " [  2390 227119]]---\n",
      "Accuracy : 95.66%\n",
      "---\n",
      "class acc :\n",
      "\tAKK: 29.41\n",
      "\tBackground: 98.96\n",
      "---\n",
      "AA: 64.18%\n",
      "Kappa: 37.13\n",
      "\n",
      "--- Run 1 finished in 158.74 seconds ---\n",
      "running an experiment with the 202407_downsampled_gongsan_x8.h5 data\n",
      "run 1 / 10\n",
      "class train val test\n",
      "AKK 44 44 2860\n",
      "Background 886 886 57292\n",
      "model save dir : ./checkpoints/proposed/202407_downsampled_gongsan_x8.h5/0.03/7_0\n"
     ]
    },
    {
     "name": "stderr",
     "output_type": "stream",
     "text": [
      "training the network:   0%|          | 1/200 [00:00<00:47,  4.22it/s]"
     ]
    },
    {
     "name": "stdout",
     "output_type": "stream",
     "text": [
      "train at epoch 1/200, loss=0.545427\n",
      "epoch = 1: best validation OA = 0.5559\n"
     ]
    },
    {
     "name": "stderr",
     "output_type": "stream",
     "text": [
      "training the network:   1%|          | 2/200 [00:00<00:45,  4.32it/s]"
     ]
    },
    {
     "name": "stdout",
     "output_type": "stream",
     "text": [
      "epoch = 2: best validation OA = 0.9398\n"
     ]
    },
    {
     "name": "stderr",
     "output_type": "stream",
     "text": [
      "training the network:   2%|▏         | 3/200 [00:00<00:44,  4.38it/s]"
     ]
    },
    {
     "name": "stdout",
     "output_type": "stream",
     "text": [
      "epoch = 3: best validation OA = 0.9516\n"
     ]
    },
    {
     "name": "stderr",
     "output_type": "stream",
     "text": [
      "training the network:   2%|▏         | 4/200 [00:00<00:44,  4.39it/s]"
     ]
    },
    {
     "name": "stdout",
     "output_type": "stream",
     "text": [
      "epoch = 4: best validation OA = 0.9527\n"
     ]
    },
    {
     "name": "stderr",
     "output_type": "stream",
     "text": [
      "training the network:   2%|▎         | 5/200 [00:01<00:43,  4.43it/s]"
     ]
    },
    {
     "name": "stdout",
     "output_type": "stream",
     "text": [
      "epoch = 5: best validation OA = 0.9527\n"
     ]
    },
    {
     "name": "stderr",
     "output_type": "stream",
     "text": [
      "training the network:   3%|▎         | 6/200 [00:01<00:43,  4.44it/s]"
     ]
    },
    {
     "name": "stdout",
     "output_type": "stream",
     "text": [
      "epoch = 6: best validation OA = 0.9527\n"
     ]
    },
    {
     "name": "stderr",
     "output_type": "stream",
     "text": [
      "training the network:   4%|▎         | 7/200 [00:01<00:43,  4.46it/s]"
     ]
    },
    {
     "name": "stdout",
     "output_type": "stream",
     "text": [
      "epoch = 7: best validation OA = 0.9527\n"
     ]
    },
    {
     "name": "stderr",
     "output_type": "stream",
     "text": [
      "training the network:   4%|▍         | 8/200 [00:01<00:43,  4.44it/s]"
     ]
    },
    {
     "name": "stdout",
     "output_type": "stream",
     "text": [
      "epoch = 8: best validation OA = 0.9527\n"
     ]
    },
    {
     "name": "stderr",
     "output_type": "stream",
     "text": [
      "training the network:   4%|▍         | 9/200 [00:02<00:43,  4.44it/s]"
     ]
    },
    {
     "name": "stdout",
     "output_type": "stream",
     "text": [
      "epoch = 9: best validation OA = 0.9527\n",
      "train at epoch 10/200, loss=0.167033\n"
     ]
    },
    {
     "name": "stderr",
     "output_type": "stream",
     "text": [
      "training the network:   5%|▌         | 10/200 [00:02<00:42,  4.44it/s]"
     ]
    },
    {
     "name": "stdout",
     "output_type": "stream",
     "text": [
      "epoch = 10: best validation OA = 0.9527\n"
     ]
    },
    {
     "name": "stderr",
     "output_type": "stream",
     "text": [
      "training the network:   6%|▌         | 11/200 [00:02<00:42,  4.44it/s]"
     ]
    },
    {
     "name": "stdout",
     "output_type": "stream",
     "text": [
      "epoch = 11: best validation OA = 0.9527\n"
     ]
    },
    {
     "name": "stderr",
     "output_type": "stream",
     "text": [
      "training the network:   6%|▌         | 12/200 [00:02<00:42,  4.43it/s]"
     ]
    },
    {
     "name": "stdout",
     "output_type": "stream",
     "text": [
      "epoch = 12: best validation OA = 0.9527\n"
     ]
    },
    {
     "name": "stderr",
     "output_type": "stream",
     "text": [
      "training the network:   6%|▋         | 13/200 [00:02<00:42,  4.45it/s]"
     ]
    },
    {
     "name": "stdout",
     "output_type": "stream",
     "text": [
      "epoch = 13: best validation OA = 0.9527\n"
     ]
    },
    {
     "name": "stderr",
     "output_type": "stream",
     "text": [
      "training the network:   7%|▋         | 14/200 [00:03<00:41,  4.46it/s]"
     ]
    },
    {
     "name": "stdout",
     "output_type": "stream",
     "text": [
      "epoch = 14: best validation OA = 0.9527\n"
     ]
    },
    {
     "name": "stderr",
     "output_type": "stream",
     "text": [
      "training the network:   8%|▊         | 15/200 [00:03<00:41,  4.46it/s]"
     ]
    },
    {
     "name": "stdout",
     "output_type": "stream",
     "text": [
      "epoch = 15: best validation OA = 0.9527\n"
     ]
    },
    {
     "name": "stderr",
     "output_type": "stream",
     "text": [
      "training the network:   8%|▊         | 16/200 [00:03<00:41,  4.43it/s]"
     ]
    },
    {
     "name": "stdout",
     "output_type": "stream",
     "text": [
      "epoch = 16: best validation OA = 0.9527\n"
     ]
    },
    {
     "name": "stderr",
     "output_type": "stream",
     "text": [
      "training the network:   8%|▊         | 17/200 [00:03<00:41,  4.45it/s]"
     ]
    },
    {
     "name": "stdout",
     "output_type": "stream",
     "text": [
      "epoch = 17: best validation OA = 0.9548\n"
     ]
    },
    {
     "name": "stderr",
     "output_type": "stream",
     "text": [
      "training the network:  10%|█         | 20/200 [00:04<00:39,  4.56it/s]"
     ]
    },
    {
     "name": "stdout",
     "output_type": "stream",
     "text": [
      "train at epoch 20/200, loss=0.135776\n"
     ]
    },
    {
     "name": "stderr",
     "output_type": "stream",
     "text": [
      "training the network:  11%|█         | 22/200 [00:04<00:38,  4.58it/s]"
     ]
    },
    {
     "name": "stdout",
     "output_type": "stream",
     "text": [
      "epoch = 22: best validation OA = 0.9559\n"
     ]
    },
    {
     "name": "stderr",
     "output_type": "stream",
     "text": [
      "training the network:  14%|█▍        | 28/200 [00:06<00:36,  4.67it/s]"
     ]
    },
    {
     "name": "stdout",
     "output_type": "stream",
     "text": [
      "epoch = 28: best validation OA = 0.9570\n"
     ]
    },
    {
     "name": "stderr",
     "output_type": "stream",
     "text": [
      "training the network:  15%|█▌        | 30/200 [00:06<00:36,  4.65it/s]"
     ]
    },
    {
     "name": "stdout",
     "output_type": "stream",
     "text": [
      "train at epoch 30/200, loss=0.112935\n"
     ]
    },
    {
     "name": "stderr",
     "output_type": "stream",
     "text": [
      "training the network:  17%|█▋        | 34/200 [00:07<00:35,  4.65it/s]"
     ]
    },
    {
     "name": "stdout",
     "output_type": "stream",
     "text": [
      "epoch = 34: best validation OA = 0.9570\n"
     ]
    },
    {
     "name": "stderr",
     "output_type": "stream",
     "text": [
      "training the network:  18%|█▊        | 36/200 [00:07<00:35,  4.62it/s]"
     ]
    },
    {
     "name": "stdout",
     "output_type": "stream",
     "text": [
      "epoch = 36: best validation OA = 0.9570\n"
     ]
    },
    {
     "name": "stderr",
     "output_type": "stream",
     "text": [
      "training the network:  19%|█▉        | 38/200 [00:08<00:35,  4.59it/s]"
     ]
    },
    {
     "name": "stdout",
     "output_type": "stream",
     "text": [
      "epoch = 38: best validation OA = 0.9570\n"
     ]
    },
    {
     "name": "stderr",
     "output_type": "stream",
     "text": [
      "training the network:  20%|██        | 40/200 [00:08<00:34,  4.58it/s]"
     ]
    },
    {
     "name": "stdout",
     "output_type": "stream",
     "text": [
      "train at epoch 40/200, loss=0.090318\n"
     ]
    },
    {
     "name": "stderr",
     "output_type": "stream",
     "text": [
      "training the network:  22%|██▏       | 44/200 [00:09<00:33,  4.66it/s]"
     ]
    },
    {
     "name": "stdout",
     "output_type": "stream",
     "text": [
      "epoch = 44: best validation OA = 0.9581\n"
     ]
    },
    {
     "name": "stderr",
     "output_type": "stream",
     "text": [
      "training the network:  25%|██▌       | 50/200 [00:10<00:32,  4.62it/s]"
     ]
    },
    {
     "name": "stdout",
     "output_type": "stream",
     "text": [
      "train at epoch 50/200, loss=0.071383\n"
     ]
    },
    {
     "name": "stderr",
     "output_type": "stream",
     "text": [
      "training the network:  30%|███       | 60/200 [00:13<00:30,  4.64it/s]"
     ]
    },
    {
     "name": "stdout",
     "output_type": "stream",
     "text": [
      "train at epoch 60/200, loss=0.071903\n"
     ]
    },
    {
     "name": "stderr",
     "output_type": "stream",
     "text": [
      "training the network:  35%|███▌      | 70/200 [00:15<00:27,  4.68it/s]"
     ]
    },
    {
     "name": "stdout",
     "output_type": "stream",
     "text": [
      "train at epoch 70/200, loss=0.042851\n"
     ]
    },
    {
     "name": "stderr",
     "output_type": "stream",
     "text": [
      "training the network:  40%|████      | 80/200 [00:17<00:25,  4.64it/s]"
     ]
    },
    {
     "name": "stdout",
     "output_type": "stream",
     "text": [
      "train at epoch 80/200, loss=0.047026\n"
     ]
    },
    {
     "name": "stderr",
     "output_type": "stream",
     "text": [
      "training the network:  45%|████▌     | 90/200 [00:19<00:23,  4.67it/s]"
     ]
    },
    {
     "name": "stdout",
     "output_type": "stream",
     "text": [
      "train at epoch 90/200, loss=0.030124\n"
     ]
    },
    {
     "name": "stderr",
     "output_type": "stream",
     "text": [
      "training the network:  50%|█████     | 100/200 [00:21<00:21,  4.64it/s]"
     ]
    },
    {
     "name": "stdout",
     "output_type": "stream",
     "text": [
      "train at epoch 100/200, loss=0.019819\n"
     ]
    },
    {
     "name": "stderr",
     "output_type": "stream",
     "text": [
      "training the network:  55%|█████▌    | 110/200 [00:23<00:19,  4.67it/s]"
     ]
    },
    {
     "name": "stdout",
     "output_type": "stream",
     "text": [
      "train at epoch 110/200, loss=0.019292\n"
     ]
    },
    {
     "name": "stderr",
     "output_type": "stream",
     "text": [
      "training the network:  60%|██████    | 120/200 [00:25<00:17,  4.67it/s]"
     ]
    },
    {
     "name": "stdout",
     "output_type": "stream",
     "text": [
      "train at epoch 120/200, loss=0.028483\n"
     ]
    },
    {
     "name": "stderr",
     "output_type": "stream",
     "text": [
      "training the network:  65%|██████▌   | 130/200 [00:27<00:14,  4.70it/s]"
     ]
    },
    {
     "name": "stdout",
     "output_type": "stream",
     "text": [
      "train at epoch 130/200, loss=0.019089\n"
     ]
    },
    {
     "name": "stderr",
     "output_type": "stream",
     "text": [
      "training the network:  70%|███████   | 140/200 [00:29<00:12,  4.68it/s]"
     ]
    },
    {
     "name": "stdout",
     "output_type": "stream",
     "text": [
      "train at epoch 140/200, loss=0.015306\n"
     ]
    },
    {
     "name": "stderr",
     "output_type": "stream",
     "text": [
      "training the network:  75%|███████▌  | 150/200 [00:32<00:10,  4.66it/s]"
     ]
    },
    {
     "name": "stdout",
     "output_type": "stream",
     "text": [
      "train at epoch 150/200, loss=0.025299\n"
     ]
    },
    {
     "name": "stderr",
     "output_type": "stream",
     "text": [
      "training the network:  80%|████████  | 160/200 [00:34<00:08,  4.67it/s]"
     ]
    },
    {
     "name": "stdout",
     "output_type": "stream",
     "text": [
      "train at epoch 160/200, loss=0.009781\n"
     ]
    },
    {
     "name": "stderr",
     "output_type": "stream",
     "text": [
      "training the network:  85%|████████▌ | 170/200 [00:36<00:06,  4.65it/s]"
     ]
    },
    {
     "name": "stdout",
     "output_type": "stream",
     "text": [
      "train at epoch 170/200, loss=0.024599\n"
     ]
    },
    {
     "name": "stderr",
     "output_type": "stream",
     "text": [
      "training the network:  90%|█████████ | 180/200 [00:38<00:04,  4.64it/s]"
     ]
    },
    {
     "name": "stdout",
     "output_type": "stream",
     "text": [
      "train at epoch 180/200, loss=0.011587\n"
     ]
    },
    {
     "name": "stderr",
     "output_type": "stream",
     "text": [
      "training the network:  95%|█████████▌| 190/200 [00:40<00:02,  4.68it/s]"
     ]
    },
    {
     "name": "stdout",
     "output_type": "stream",
     "text": [
      "train at epoch 190/200, loss=0.014083\n"
     ]
    },
    {
     "name": "stderr",
     "output_type": "stream",
     "text": [
      "training the network: 100%|██████████| 200/200 [00:42<00:00,  4.70it/s]\n",
      "/gpfs/home1/jmt30269/Group-Aware-Hierarchical-Transformer/train.py:58: FutureWarning: You are using `torch.load` with `weights_only=False` (the current default value), which uses the default pickle module implicitly. It is possible to construct malicious pickle data which will execute arbitrary code during unpickling (See https://github.com/pytorch/pytorch/blob/main/SECURITY.md#untrusted-models for more details). In a future release, the default value for `weights_only` will be flipped to `True`. This limits the functions that could be executed during unpickling. Arbitrary objects will no longer be allowed to be loaded via this mode unless they are explicitly allowlisted by the user via `torch.serialization.add_safe_globals`. We recommend you start setting `weights_only=True` for any use case where you don't have full control of the loaded file. Please open an issue on GitHub for any issues related to this experimental feature.\n",
      "  network.load_state_dict(torch.load(model_dir + \"/model_best.pth\"))\n"
     ]
    },
    {
     "name": "stdout",
     "output_type": "stream",
     "text": [
      "train at epoch 200/200, loss=0.011779\n"
     ]
    },
    {
     "name": "stderr",
     "output_type": "stream",
     "text": [
      "inference on the HSI: 100%|██████████| 1745/1745 [00:05<00:00, 311.65it/s]"
     ]
    },
    {
     "name": "stdout",
     "output_type": "stream",
     "text": [
      "Confusion matrix :\n",
      "[[  442  2418]\n",
      " [  485 56807]]---\n",
      "Accuracy : 95.17%\n",
      "---\n",
      "class acc :\n",
      "\tAKK: 15.45\n",
      "\tBackground: 99.15\n",
      "---\n",
      "AA: 57.30%\n",
      "Kappa: 21.52\n",
      "\n",
      "--- Run 1 finished in 42.71 seconds ---\n",
      "\n",
      "Total execution time for 10 runs: 1929.32 seconds\n",
      "Agregated results :\n",
      "Confusion matrix :\n",
      "[[ 12247.83333333  10483.66666667]\n",
      " [  4536.66666667 395029.83333333]]---\n",
      "Accuracy: 95.94 +- 0.65\n",
      "---\n",
      "class acc :\n",
      "\tAKK: 42.65 +- 18.67\n",
      "\tBackground: 98.87 +- 0.22\n",
      "---\n",
      "AA: 70.76 +- 9.24\n",
      "Kappa: 48.57 +- 16.84\n",
      "\n"
     ]
    },
    {
     "name": "stderr",
     "output_type": "stream",
     "text": [
      "\n"
     ]
    }
   ],
   "source": [
    "import time\n",
    "# empty list to storing results\n",
    "data_list= ['202307_downsampled_gongsan_x2.h5','202307_downsampled_gongsan_x4.h5','202307_downsampled_gongsan_x8.h5','202407_downsampled_gongsan_x2.h5','202407_downsampled_gongsan_x4.h5','202407_downsampled_gongsan_x8.h5',]\n",
    "results = []\n",
    "total_start_time = time.time() # 전체 실행 시작 시간\n",
    "print(\"experiments will run on GPU device {}\".format(opts.device))\n",
    "print(\"model = {}\".format(opts.model))    \n",
    "for data_name in data_list:\n",
    "    device = torch.device(\"cuda:{}\".format(opts.device))\n",
    "    opts.dataset_file_name=data_name\n",
    "    \n",
    "    # load data\n",
    "    image, gt, labels = load_mat_hsi(opts.dataset_name, opts.dataset_dir,opts.dataset_file_name)\n",
    "    \n",
    "    num_classes = len(labels)\n",
    "    num_bands = image.shape[-1] \n",
    "    # random seeds\n",
    "    seeds = [20250411, 20250402,20250403,20250404,20250405,20250406,20250407,20250408,20250409,20250410]\n",
    "    run=0\n",
    "    run_start_time = time.time()\n",
    "    np.random.seed(seeds[run])\n",
    "    print(\"running an experiment with the {} data\".format(opts.dataset_file_name))\n",
    "    print(\"run {} / {}\".format(run+1, opts.num_run))\n",
    "\n",
    "    # get train_gt, val_gt and test_gt\n",
    "    trainval_gt, test_gt = sample_gt(gt, opts.ratio, seeds[run])\n",
    "    train_gt, val_gt = sample_gt(trainval_gt, 0.5, seeds[run])\n",
    "    del trainval_gt\n",
    "\n",
    "    train_set = HSIDataset(image, train_gt, patch_size=opts.patch_size, data_aug=True)\n",
    "    val_set = HSIDataset(image, val_gt, patch_size=opts.patch_size, data_aug=False)\n",
    "\n",
    "    train_loader = torch.utils.data.DataLoader(train_set, opts.bs, drop_last=False, shuffle=True)\n",
    "    val_loader = torch.utils.data.DataLoader(val_set, opts.bs, drop_last=False, shuffle=False)\n",
    "\n",
    "    # load model and loss\n",
    "    model = get_model(opts.model, opts.dataset_name, opts.patch_size)\n",
    "    if run == 0:\n",
    "        split_info_print(train_gt, val_gt, test_gt, labels)\n",
    "        # print(\"network information:\")\n",
    "        # with torch.no_grad():\n",
    "        #     summary(model, torch.zeros((1, 1, num_bands, opts.patch_size, opts.patch_size)))\n",
    "    model = model.to(device)\n",
    "    optimizer, scheduler = load_scheduler(opts.model, model)\n",
    "\n",
    "    criterion = nn.CrossEntropyLoss()\n",
    "\n",
    "    # where to save checkpoint model\n",
    "    model_dir = \"./checkpoints/\" + opts.model + '/' + opts.dataset_file_name + '/'+ str(opts.ratio)+'/' + str(opts.patch_size)+'_'+str(run)\n",
    "    # model_dir = \"./checkpoints/\" + opts.model + '/' + opts.dataset_name + '/'+ str(opts.ratio)+'/' + str(opts.patch_size)+'_'+str(run)\n",
    "    print(f'model save dir : {model_dir}')\n",
    "    try:\n",
    "        train(model, optimizer, criterion, train_loader, val_loader, opts.epoch, model_dir, device, scheduler)\n",
    "    except KeyboardInterrupt:\n",
    "        print('\"ctrl+c\" is pused, the training is over')\n",
    "\n",
    "    run_end_time = time.time() # <<< 루프 반복 종료 시간 기록\n",
    "    # test the model\n",
    "    probabilities = test(model, model_dir, image, opts.patch_size, num_classes, device)\n",
    "    \n",
    "    prediction = np.argmax(probabilities, axis=-1)\n",
    "\n",
    "    # computing metrics\n",
    "    run_results = metrics(prediction, test_gt, n_classes=num_classes)  # only for test set\n",
    "    results.append(run_results)\n",
    "    show_results(run_results, label_values=labels)\n",
    "\n",
    "    del model, train_set, train_loader, val_set, val_loader\n",
    "    run_elapsed_time = run_end_time - run_start_time # <<< 현재 반복 실행 시간 계산\n",
    "    print(f\"--- Run {run+1} finished in {run_elapsed_time:.2f} seconds ---\") # <<< 실행 시간 출력\n",
    "\n",
    "total_end_time = time.time() # 전체 실행 종료 시간\n",
    "total_elapsed_time = total_end_time - total_start_time\n",
    "print(f\"\\nTotal execution time for {opts.num_run} runs: {total_elapsed_time:.2f} seconds\")\n",
    "\n",
    "if opts.num_run > 1:\n",
    "    show_results(results, label_values=labels, agregated=True)"
   ]
  },
  {
   "cell_type": "markdown",
   "id": "63172da7-cc09-459c-9737-492870ddafd3",
   "metadata": {},
   "source": [
    "## eval"
   ]
  },
  {
   "cell_type": "code",
   "execution_count": 6,
   "id": "d04f801b-9016-4102-be84-463de3ff5cdf",
   "metadata": {},
   "outputs": [],
   "source": [
    "def color_results(arr2d, palette):\n",
    "    arr_3d = np.zeros((arr2d.shape[0], arr2d.shape[1], 3), dtype=np.uint8)\n",
    "    for c, i in palette.items():\n",
    "        m = arr2d == c\n",
    "        arr_3d[m] = i\n",
    "    return arr_3d"
   ]
  },
  {
   "cell_type": "code",
   "execution_count": 17,
   "id": "54330ed0-db92-43d4-9d75-b378cc131b7b",
   "metadata": {},
   "outputs": [
    {
     "name": "stdout",
     "output_type": "stream",
     "text": [
      "Alpha 파라미터 키들:\n",
      "['block1.0.norm1.alpha', 'block1.0.norm2.alpha', 'norm1.alpha', 'block2.0.norm1.alpha', 'block2.0.norm2.alpha', 'norm2.alpha', 'block3.0.norm1.alpha', 'block3.0.norm2.alpha', 'norm3.alpha']\n",
      "Missing keys: []\n",
      "Unexpected keys: []\n"
     ]
    },
    {
     "name": "stderr",
     "output_type": "stream",
     "text": [
      "/tmp/ipykernel_237760/531262662.py:3: FutureWarning: You are using `torch.load` with `weights_only=False` (the current default value), which uses the default pickle module implicitly. It is possible to construct malicious pickle data which will execute arbitrary code during unpickling (See https://github.com/pytorch/pytorch/blob/main/SECURITY.md#untrusted-models for more details). In a future release, the default value for `weights_only` will be flipped to `True`. This limits the functions that could be executed during unpickling. Arbitrary objects will no longer be allowed to be loaded via this mode unless they are explicitly allowlisted by the user via `torch.serialization.add_safe_globals`. We recommend you start setting `weights_only=True` for any use case where you don't have full control of the loaded file. Please open an issue on GitHub for any issues related to this experimental feature.\n",
      "  state_dict = torch.load(os.path.join(opts.weights+\"_dyt\", 'model_best.pth'))\n"
     ]
    }
   ],
   "source": [
    "\n",
    "print(\"Missing keys:\", missing_keys)\n",
    "print(\"Unexpected keys:\", unexpected_keys)"
   ]
  },
  {
   "cell_type": "code",
   "execution_count": 25,
   "id": "0a81553b-7a41-4d27-90f9-16b738d4ab67",
   "metadata": {},
   "outputs": [
    {
     "name": "stdout",
     "output_type": "stream",
     "text": [
      "loading weights from /home1/jmt30269/Group-Aware-Hierarchical-Transformer/checkpoints/proposed/gs/0.03/7_0/model_best.pth\n"
     ]
    },
    {
     "name": "stderr",
     "output_type": "stream",
     "text": [
      "inference on the HSI: 112092it [04:57, 376.91it/s]                            \n"
     ]
    },
    {
     "name": "stdout",
     "output_type": "stream",
     "text": [
      "Confusion matrix :\n",
      "[[ 168667   71059]\n",
      " [  35567 3708441]]---\n",
      "Accuracy : 97.32%\n",
      "---\n",
      "class acc :\n",
      "\tAKK: 70.36\n",
      "\tBackground: 99.05\n",
      "---\n",
      "AA: 84.70%\n",
      "Kappa: 74.58\n",
      "\n"
     ]
    }
   ],
   "source": [
    "palette = {0: (0, 0, 0)}\n",
    "for k, color in enumerate(sns.color_palette(\"hls\", num_classes + 1)):\n",
    "    palette[k + 1] = tuple(np.asarray(255 * np.array(color), dtype='uint8'))\n",
    "\n",
    "print('loading weights from %s' % opts.weights + '/model_best.pth')\n",
    "model = get_model(opts.model, opts.dataset_name, opts.patch_size)\n",
    "model = model.to(device)\n",
    "# state_dict = torch.load(os.path.join(opts.weights+\"_dyt\", 'model_best.pth'))\n",
    "# model.load_state_dict(state_dict)\n",
    "\n",
    "model.eval()\n",
    "\n",
    "# testing model: metric for the whole HSI, including train, val, and test\n",
    "probabilities = test(model, opts.weights, image, opts.patch_size, num_classes, device=device)\n",
    "prediction = np.argmax(probabilities, axis=-1)\n",
    "\n",
    "run_results = metrics(prediction, gt, n_classes=num_classes)\n",
    "\n",
    "prediction[gt < 0] = -1\n",
    "\n",
    "# color results\n",
    "colored_gt = color_results(gt+1, palette)\n",
    "colored_pred = color_results(prediction+1, palette)\n",
    "\n",
    "outfile = os.path.join(opts.outputs, opts.dataset_name,  opts.model)\n",
    "os.makedirs(outfile, exist_ok=True)\n",
    "\n",
    "# imageio.imsave(os.path.join(outfile, opts.dataset_name + '_gt.png'), colored_gt)  # eps or png\n",
    "# imageio.imsave(os.path.join(outfile, opts.dataset_name+'_' + opts.model + '_out.png'), colored_pred)  # or png\n",
    "\n",
    "prod = probabilities.reshape(-1,2)\n",
    "gtt= gt.reshape(-1)\n",
    "predd = prediction.reshape(-1)\n",
    "gtt=gtt +1\n",
    "predd=predd +1\n",
    "df = pd.DataFrame({\n",
    "    'gt': gtt,\n",
    "    'prob_akk': prod[:, 0],  # 첫 번째 열\n",
    "    'prob_back': prod[:, 1],  # 두 번째 열\n",
    "    'pred': predd\n",
    "})\n",
    "# df.to_csv(os.path.join(outfile, opts.dataset_name+'_' + opts.model+\"_result.csv\"),index=False)\n",
    "\n",
    "show_results(run_results, label_values=labels)\n",
    "del model\n"
   ]
  },
  {
   "cell_type": "markdown",
   "id": "d77e0ba6-58ea-4d85-8e5a-646d4b57288a",
   "metadata": {},
   "source": [
    "## train size test"
   ]
  },
  {
   "cell_type": "code",
   "execution_count": 3,
   "id": "c777c269-ef29-4983-a0f0-a2c36cb6c9ff",
   "metadata": {
    "scrolled": true
   },
   "outputs": [
    {
     "name": "stdout",
     "output_type": "stream",
     "text": [
      "model = proposed\n",
      "dataset = gs\n",
      "dataset folder = /home1/jmt30269/DSNet/data/\n",
      "patch size = 7\n",
      "batch size = 128\n",
      "total epoch = 200\n",
      "0.025 for training, 0.025 for validation and 0.95 testing\n",
      "running an experiment with the proposed model\n",
      "run 1 / 1\n",
      "class train val test\n",
      "AKK 5993 5993 227740\n",
      "Background 93600 93600 3556808\n",
      "model save dir : ./checkpoints/proposed/gs/0.05/7_0\n"
     ]
    },
    {
     "name": "stderr",
     "output_type": "stream",
     "text": [
      "training the network:   0%|          | 0/100 [00:13<?, ?it/s]"
     ]
    },
    {
     "name": "stdout",
     "output_type": "stream",
     "text": [
      "train at epoch 1/100, loss=0.120486\n"
     ]
    },
    {
     "name": "stderr",
     "output_type": "stream",
     "text": [
      "training the network:   1%|          | 1/100 [00:21<35:34, 21.56s/it]"
     ]
    },
    {
     "name": "stdout",
     "output_type": "stream",
     "text": [
      "epoch = 1: best validation OA = 0.9570\n"
     ]
    },
    {
     "name": "stderr",
     "output_type": "stream",
     "text": [
      "training the network:   2%|▏         | 2/100 [00:42<34:10, 20.92s/it]"
     ]
    },
    {
     "name": "stdout",
     "output_type": "stream",
     "text": [
      "epoch = 2: best validation OA = 0.9653\n"
     ]
    },
    {
     "name": "stderr",
     "output_type": "stream",
     "text": [
      "training the network:   3%|▎         | 3/100 [01:02<33:32, 20.75s/it]"
     ]
    },
    {
     "name": "stdout",
     "output_type": "stream",
     "text": [
      "epoch = 3: best validation OA = 0.9682\n"
     ]
    },
    {
     "name": "stderr",
     "output_type": "stream",
     "text": [
      "training the network:   4%|▍         | 4/100 [01:23<33:02, 20.65s/it]"
     ]
    },
    {
     "name": "stdout",
     "output_type": "stream",
     "text": [
      "epoch = 4: best validation OA = 0.9687\n"
     ]
    },
    {
     "name": "stderr",
     "output_type": "stream",
     "text": [
      "training the network:   5%|▌         | 5/100 [01:43<32:40, 20.63s/it]"
     ]
    },
    {
     "name": "stdout",
     "output_type": "stream",
     "text": [
      "epoch = 5: best validation OA = 0.9691\n"
     ]
    },
    {
     "name": "stderr",
     "output_type": "stream",
     "text": [
      "training the network:   6%|▌         | 6/100 [02:04<32:17, 20.61s/it]"
     ]
    },
    {
     "name": "stdout",
     "output_type": "stream",
     "text": [
      "epoch = 6: best validation OA = 0.9703\n"
     ]
    },
    {
     "name": "stderr",
     "output_type": "stream",
     "text": [
      "training the network:   7%|▋         | 7/100 [02:24<31:57, 20.62s/it]"
     ]
    },
    {
     "name": "stdout",
     "output_type": "stream",
     "text": [
      "epoch = 7: best validation OA = 0.9709\n"
     ]
    },
    {
     "name": "stderr",
     "output_type": "stream",
     "text": [
      "training the network:   9%|▉         | 9/100 [03:18<31:13, 20.59s/it]"
     ]
    },
    {
     "name": "stdout",
     "output_type": "stream",
     "text": [
      "train at epoch 10/100, loss=0.076366\n"
     ]
    },
    {
     "name": "stderr",
     "output_type": "stream",
     "text": [
      "training the network:  17%|█▋        | 17/100 [05:50<28:24, 20.53s/it]"
     ]
    },
    {
     "name": "stdout",
     "output_type": "stream",
     "text": [
      "epoch = 17: best validation OA = 0.9716\n"
     ]
    },
    {
     "name": "stderr",
     "output_type": "stream",
     "text": [
      "training the network:  19%|█▉        | 19/100 [06:44<27:42, 20.53s/it]"
     ]
    },
    {
     "name": "stdout",
     "output_type": "stream",
     "text": [
      "train at epoch 20/100, loss=0.068909\n"
     ]
    },
    {
     "name": "stderr",
     "output_type": "stream",
     "text": [
      "training the network:  20%|██        | 20/100 [06:51<27:21, 20.52s/it]"
     ]
    },
    {
     "name": "stdout",
     "output_type": "stream",
     "text": [
      "epoch = 20: best validation OA = 0.9717\n"
     ]
    },
    {
     "name": "stderr",
     "output_type": "stream",
     "text": [
      "training the network:  28%|██▊       | 28/100 [09:34<24:20, 20.29s/it]"
     ]
    },
    {
     "name": "stdout",
     "output_type": "stream",
     "text": [
      "epoch = 28: best validation OA = 0.9723\n"
     ]
    },
    {
     "name": "stderr",
     "output_type": "stream",
     "text": [
      "training the network:  29%|██▉       | 29/100 [09:54<24:01, 20.30s/it]"
     ]
    },
    {
     "name": "stdout",
     "output_type": "stream",
     "text": [
      "epoch = 29: best validation OA = 0.9727\n"
     ]
    },
    {
     "name": "stderr",
     "output_type": "stream",
     "text": [
      "training the network:  29%|██▉       | 29/100 [10:07<24:01, 20.30s/it]"
     ]
    },
    {
     "name": "stdout",
     "output_type": "stream",
     "text": [
      "train at epoch 30/100, loss=0.061393\n"
     ]
    },
    {
     "name": "stderr",
     "output_type": "stream",
     "text": [
      "training the network:  34%|███▍      | 34/100 [11:36<22:20, 20.31s/it]"
     ]
    },
    {
     "name": "stdout",
     "output_type": "stream",
     "text": [
      "epoch = 34: best validation OA = 0.9728\n"
     ]
    },
    {
     "name": "stderr",
     "output_type": "stream",
     "text": [
      "training the network:  38%|███▊      | 38/100 [12:57<20:56, 20.26s/it]"
     ]
    },
    {
     "name": "stdout",
     "output_type": "stream",
     "text": [
      "epoch = 38: best validation OA = 0.9729\n"
     ]
    },
    {
     "name": "stderr",
     "output_type": "stream",
     "text": [
      "training the network:  39%|███▉      | 39/100 [13:30<20:34, 20.24s/it]"
     ]
    },
    {
     "name": "stdout",
     "output_type": "stream",
     "text": [
      "train at epoch 40/100, loss=0.055996\n"
     ]
    },
    {
     "name": "stderr",
     "output_type": "stream",
     "text": [
      "training the network:  46%|████▌     | 46/100 [15:39<18:14, 20.27s/it]"
     ]
    },
    {
     "name": "stdout",
     "output_type": "stream",
     "text": [
      "epoch = 46: best validation OA = 0.9740\n"
     ]
    },
    {
     "name": "stderr",
     "output_type": "stream",
     "text": [
      "training the network:  49%|████▉     | 49/100 [16:52<17:12, 20.24s/it]"
     ]
    },
    {
     "name": "stdout",
     "output_type": "stream",
     "text": [
      "train at epoch 50/100, loss=0.050134\n"
     ]
    },
    {
     "name": "stderr",
     "output_type": "stream",
     "text": [
      "training the network:  53%|█████▎    | 53/100 [18:01<15:52, 20.27s/it]"
     ]
    },
    {
     "name": "stdout",
     "output_type": "stream",
     "text": [
      "epoch = 53: best validation OA = 0.9742\n"
     ]
    },
    {
     "name": "stderr",
     "output_type": "stream",
     "text": [
      "training the network:  55%|█████▌    | 55/100 [18:41<15:12, 20.29s/it]"
     ]
    },
    {
     "name": "stdout",
     "output_type": "stream",
     "text": [
      "epoch = 55: best validation OA = 0.9743\n"
     ]
    },
    {
     "name": "stderr",
     "output_type": "stream",
     "text": [
      "training the network:  59%|█████▉    | 59/100 [20:15<13:50, 20.25s/it]"
     ]
    },
    {
     "name": "stdout",
     "output_type": "stream",
     "text": [
      "train at epoch 60/100, loss=0.045525\n"
     ]
    },
    {
     "name": "stderr",
     "output_type": "stream",
     "text": [
      "training the network:  67%|██████▋   | 67/100 [22:44<11:08, 20.26s/it]"
     ]
    },
    {
     "name": "stdout",
     "output_type": "stream",
     "text": [
      "epoch = 67: best validation OA = 0.9746\n"
     ]
    },
    {
     "name": "stderr",
     "output_type": "stream",
     "text": [
      "training the network:  69%|██████▉   | 69/100 [23:38<10:27, 20.25s/it]"
     ]
    },
    {
     "name": "stdout",
     "output_type": "stream",
     "text": [
      "train at epoch 70/100, loss=0.041027\n"
     ]
    },
    {
     "name": "stderr",
     "output_type": "stream",
     "text": [
      "training the network:  73%|███████▎  | 73/100 [24:46<09:06, 20.24s/it]"
     ]
    },
    {
     "name": "stdout",
     "output_type": "stream",
     "text": [
      "epoch = 73: best validation OA = 0.9747\n"
     ]
    },
    {
     "name": "stderr",
     "output_type": "stream",
     "text": [
      "training the network:  79%|███████▉  | 79/100 [27:00<07:05, 20.27s/it]"
     ]
    },
    {
     "name": "stdout",
     "output_type": "stream",
     "text": [
      "train at epoch 80/100, loss=0.038848\n"
     ]
    },
    {
     "name": "stderr",
     "output_type": "stream",
     "text": [
      "training the network:  80%|████████  | 80/100 [27:08<06:45, 20.28s/it]"
     ]
    },
    {
     "name": "stdout",
     "output_type": "stream",
     "text": [
      "epoch = 80: best validation OA = 0.9754\n"
     ]
    },
    {
     "name": "stderr",
     "output_type": "stream",
     "text": [
      "training the network:  89%|████████▉ | 89/100 [30:23<03:42, 20.26s/it]"
     ]
    },
    {
     "name": "stdout",
     "output_type": "stream",
     "text": [
      "train at epoch 90/100, loss=0.034983\n"
     ]
    },
    {
     "name": "stderr",
     "output_type": "stream",
     "text": [
      "training the network:  99%|█████████▉| 99/100 [33:45<00:20, 20.25s/it]"
     ]
    },
    {
     "name": "stdout",
     "output_type": "stream",
     "text": [
      "train at epoch 100/100, loss=0.034391\n"
     ]
    },
    {
     "name": "stderr",
     "output_type": "stream",
     "text": [
      "training the network: 100%|██████████| 100/100 [33:53<00:00, 20.33s/it]\n",
      "/gpfs/home1/jmt30269/Group-Aware-Hierarchical-Transformer/train.py:58: FutureWarning: You are using `torch.load` with `weights_only=False` (the current default value), which uses the default pickle module implicitly. It is possible to construct malicious pickle data which will execute arbitrary code during unpickling (See https://github.com/pytorch/pytorch/blob/main/SECURITY.md#untrusted-models for more details). In a future release, the default value for `weights_only` will be flipped to `True`. This limits the functions that could be executed during unpickling. Arbitrary objects will no longer be allowed to be loaded via this mode unless they are explicitly allowlisted by the user via `torch.serialization.add_safe_globals`. We recommend you start setting `weights_only=True` for any use case where you don't have full control of the loaded file. Please open an issue on GitHub for any issues related to this experimental feature.\n",
      "  network.load_state_dict(torch.load(model_dir + \"/model_best.pth\"))\n",
      "inference on the HSI: 112092it [05:56, 314.25it/s]                            \n"
     ]
    },
    {
     "name": "stdout",
     "output_type": "stream",
     "text": [
      "Confusion matrix :\n",
      "[[ 174760   52980]\n",
      " [  40372 3516436]]---\n",
      "Accuracy : 97.53%\n",
      "---\n",
      "class acc :\n",
      "\tAKK: 76.74\n",
      "\tBackground: 98.86\n",
      "---\n",
      "AA: 87.80%\n",
      "Kappa: 77.61\n",
      "\n",
      "0.035 for training, 0.035 for validation and 0.9299999999999999 testing\n",
      "running an experiment with the proposed model\n",
      "run 1 / 1\n",
      "class train val test\n",
      "AKK 8390 8391 222945\n",
      "Background 131040 131040 3481928\n",
      "model save dir : ./checkpoints/proposed/gs/0.07/7_0\n"
     ]
    },
    {
     "name": "stderr",
     "output_type": "stream",
     "text": [
      "training the network:   0%|          | 0/100 [00:17<?, ?it/s]"
     ]
    },
    {
     "name": "stdout",
     "output_type": "stream",
     "text": [
      "train at epoch 1/100, loss=0.118227\n"
     ]
    },
    {
     "name": "stderr",
     "output_type": "stream",
     "text": [
      "training the network:   1%|          | 1/100 [00:28<46:41, 28.30s/it]"
     ]
    },
    {
     "name": "stdout",
     "output_type": "stream",
     "text": [
      "epoch = 1: best validation OA = 0.9619\n"
     ]
    },
    {
     "name": "stderr",
     "output_type": "stream",
     "text": [
      "training the network:   2%|▏         | 2/100 [00:56<46:16, 28.33s/it]"
     ]
    },
    {
     "name": "stdout",
     "output_type": "stream",
     "text": [
      "epoch = 2: best validation OA = 0.9690\n"
     ]
    },
    {
     "name": "stderr",
     "output_type": "stream",
     "text": [
      "training the network:   4%|▍         | 4/100 [01:53<45:16, 28.30s/it]"
     ]
    },
    {
     "name": "stdout",
     "output_type": "stream",
     "text": [
      "epoch = 4: best validation OA = 0.9703\n"
     ]
    },
    {
     "name": "stderr",
     "output_type": "stream",
     "text": [
      "training the network:   5%|▌         | 5/100 [02:21<44:48, 28.30s/it]"
     ]
    },
    {
     "name": "stdout",
     "output_type": "stream",
     "text": [
      "epoch = 5: best validation OA = 0.9703\n"
     ]
    },
    {
     "name": "stderr",
     "output_type": "stream",
     "text": [
      "training the network:   8%|▊         | 8/100 [03:46<43:31, 28.39s/it]"
     ]
    },
    {
     "name": "stdout",
     "output_type": "stream",
     "text": [
      "epoch = 8: best validation OA = 0.9707\n"
     ]
    },
    {
     "name": "stderr",
     "output_type": "stream",
     "text": [
      "training the network:   9%|▉         | 9/100 [04:35<44:18, 29.21s/it]"
     ]
    },
    {
     "name": "stdout",
     "output_type": "stream",
     "text": [
      "train at epoch 10/100, loss=0.075546\n"
     ]
    },
    {
     "name": "stderr",
     "output_type": "stream",
     "text": [
      "training the network:  13%|█▎        | 13/100 [06:12<41:43, 28.78s/it]"
     ]
    },
    {
     "name": "stdout",
     "output_type": "stream",
     "text": [
      "epoch = 13: best validation OA = 0.9712\n"
     ]
    },
    {
     "name": "stderr",
     "output_type": "stream",
     "text": [
      "training the network:  14%|█▍        | 14/100 [06:40<41:11, 28.74s/it]"
     ]
    },
    {
     "name": "stdout",
     "output_type": "stream",
     "text": [
      "epoch = 14: best validation OA = 0.9718\n"
     ]
    },
    {
     "name": "stderr",
     "output_type": "stream",
     "text": [
      "training the network:  15%|█▌        | 15/100 [07:09<40:41, 28.72s/it]"
     ]
    },
    {
     "name": "stdout",
     "output_type": "stream",
     "text": [
      "epoch = 15: best validation OA = 0.9724\n"
     ]
    },
    {
     "name": "stderr",
     "output_type": "stream",
     "text": [
      "training the network:  19%|█▉        | 19/100 [09:04<38:50, 28.77s/it]"
     ]
    },
    {
     "name": "stdout",
     "output_type": "stream",
     "text": [
      "epoch = 19: best validation OA = 0.9728\n"
     ]
    },
    {
     "name": "stderr",
     "output_type": "stream",
     "text": [
      "training the network:  19%|█▉        | 19/100 [09:22<38:50, 28.77s/it]"
     ]
    },
    {
     "name": "stdout",
     "output_type": "stream",
     "text": [
      "train at epoch 20/100, loss=0.067322\n"
     ]
    },
    {
     "name": "stderr",
     "output_type": "stream",
     "text": [
      "training the network:  25%|██▌       | 25/100 [11:57<36:07, 28.90s/it]"
     ]
    },
    {
     "name": "stdout",
     "output_type": "stream",
     "text": [
      "epoch = 25: best validation OA = 0.9733\n"
     ]
    },
    {
     "name": "stderr",
     "output_type": "stream",
     "text": [
      "training the network:  26%|██▌       | 26/100 [12:26<35:32, 28.82s/it]"
     ]
    },
    {
     "name": "stdout",
     "output_type": "stream",
     "text": [
      "epoch = 26: best validation OA = 0.9734\n"
     ]
    },
    {
     "name": "stderr",
     "output_type": "stream",
     "text": [
      "training the network:  29%|██▉       | 29/100 [14:18<35:50, 30.28s/it]"
     ]
    },
    {
     "name": "stdout",
     "output_type": "stream",
     "text": [
      "train at epoch 30/100, loss=0.059716\n"
     ]
    },
    {
     "name": "stderr",
     "output_type": "stream",
     "text": [
      "training the network:  30%|███       | 30/100 [14:29<35:16, 30.24s/it]"
     ]
    },
    {
     "name": "stdout",
     "output_type": "stream",
     "text": [
      "epoch = 30: best validation OA = 0.9742\n"
     ]
    },
    {
     "name": "stderr",
     "output_type": "stream",
     "text": [
      "training the network:  31%|███       | 31/100 [15:00<34:47, 30.26s/it]"
     ]
    },
    {
     "name": "stdout",
     "output_type": "stream",
     "text": [
      "epoch = 31: best validation OA = 0.9747\n"
     ]
    },
    {
     "name": "stderr",
     "output_type": "stream",
     "text": [
      "training the network:  36%|███▌      | 36/100 [17:33<32:34, 30.54s/it]"
     ]
    },
    {
     "name": "stdout",
     "output_type": "stream",
     "text": [
      "epoch = 36: best validation OA = 0.9750\n"
     ]
    },
    {
     "name": "stderr",
     "output_type": "stream",
     "text": [
      "training the network:  38%|███▊      | 38/100 [18:33<31:24, 30.39s/it]"
     ]
    },
    {
     "name": "stdout",
     "output_type": "stream",
     "text": [
      "epoch = 38: best validation OA = 0.9751\n"
     ]
    },
    {
     "name": "stderr",
     "output_type": "stream",
     "text": [
      "training the network:  39%|███▉      | 39/100 [19:24<31:13, 30.71s/it]"
     ]
    },
    {
     "name": "stdout",
     "output_type": "stream",
     "text": [
      "train at epoch 40/100, loss=0.054057\n"
     ]
    },
    {
     "name": "stderr",
     "output_type": "stream",
     "text": [
      "training the network:  49%|████▉     | 49/100 [24:30<25:59, 30.58s/it]"
     ]
    },
    {
     "name": "stdout",
     "output_type": "stream",
     "text": [
      "train at epoch 50/100, loss=0.047794\n"
     ]
    },
    {
     "name": "stderr",
     "output_type": "stream",
     "text": [
      "training the network:  50%|█████     | 50/100 [24:41<25:25, 30.51s/it]"
     ]
    },
    {
     "name": "stdout",
     "output_type": "stream",
     "text": [
      "epoch = 50: best validation OA = 0.9755\n"
     ]
    },
    {
     "name": "stderr",
     "output_type": "stream",
     "text": [
      "training the network:  53%|█████▎    | 53/100 [26:14<23:59, 30.64s/it]"
     ]
    },
    {
     "name": "stdout",
     "output_type": "stream",
     "text": [
      "epoch = 53: best validation OA = 0.9758\n"
     ]
    },
    {
     "name": "stderr",
     "output_type": "stream",
     "text": [
      "training the network:  57%|█████▋    | 57/100 [28:16<22:06, 30.84s/it]"
     ]
    },
    {
     "name": "stdout",
     "output_type": "stream",
     "text": [
      "epoch = 57: best validation OA = 0.9761\n"
     ]
    },
    {
     "name": "stderr",
     "output_type": "stream",
     "text": [
      "training the network:  59%|█████▉    | 59/100 [29:37<21:06, 30.90s/it]"
     ]
    },
    {
     "name": "stdout",
     "output_type": "stream",
     "text": [
      "train at epoch 60/100, loss=0.043663\n"
     ]
    },
    {
     "name": "stderr",
     "output_type": "stream",
     "text": [
      "training the network:  64%|██████▍   | 64/100 [31:53<18:47, 31.31s/it]"
     ]
    },
    {
     "name": "stdout",
     "output_type": "stream",
     "text": [
      "epoch = 64: best validation OA = 0.9765\n"
     ]
    },
    {
     "name": "stderr",
     "output_type": "stream",
     "text": [
      "training the network:  65%|██████▌   | 65/100 [32:23<18:05, 31.00s/it]"
     ]
    },
    {
     "name": "stdout",
     "output_type": "stream",
     "text": [
      "epoch = 65: best validation OA = 0.9771\n"
     ]
    },
    {
     "name": "stderr",
     "output_type": "stream",
     "text": [
      "training the network:  69%|██████▉   | 69/100 [34:43<15:44, 30.47s/it]"
     ]
    },
    {
     "name": "stdout",
     "output_type": "stream",
     "text": [
      "train at epoch 70/100, loss=0.039379\n"
     ]
    },
    {
     "name": "stderr",
     "output_type": "stream",
     "text": [
      "training the network:  78%|███████▊  | 78/100 [39:00<11:13, 30.59s/it]"
     ]
    },
    {
     "name": "stdout",
     "output_type": "stream",
     "text": [
      "epoch = 78: best validation OA = 0.9773\n"
     ]
    },
    {
     "name": "stderr",
     "output_type": "stream",
     "text": [
      "training the network:  79%|███████▉  | 79/100 [39:49<10:40, 30.49s/it]"
     ]
    },
    {
     "name": "stdout",
     "output_type": "stream",
     "text": [
      "train at epoch 80/100, loss=0.036162\n"
     ]
    },
    {
     "name": "stderr",
     "output_type": "stream",
     "text": [
      "training the network:  89%|████████▉ | 89/100 [44:57<05:36, 30.60s/it]"
     ]
    },
    {
     "name": "stdout",
     "output_type": "stream",
     "text": [
      "train at epoch 90/100, loss=0.033198\n"
     ]
    },
    {
     "name": "stderr",
     "output_type": "stream",
     "text": [
      "training the network:  90%|█████████ | 90/100 [45:08<05:05, 30.51s/it]"
     ]
    },
    {
     "name": "stdout",
     "output_type": "stream",
     "text": [
      "epoch = 90: best validation OA = 0.9774\n"
     ]
    },
    {
     "name": "stderr",
     "output_type": "stream",
     "text": [
      "training the network:  98%|█████████▊| 98/100 [49:13<01:00, 30.46s/it]"
     ]
    },
    {
     "name": "stdout",
     "output_type": "stream",
     "text": [
      "epoch = 98: best validation OA = 0.9774\n"
     ]
    },
    {
     "name": "stderr",
     "output_type": "stream",
     "text": [
      "training the network:  99%|█████████▉| 99/100 [50:02<00:30, 30.39s/it]"
     ]
    },
    {
     "name": "stdout",
     "output_type": "stream",
     "text": [
      "train at epoch 100/100, loss=0.031461\n"
     ]
    },
    {
     "name": "stderr",
     "output_type": "stream",
     "text": [
      "training the network: 100%|██████████| 100/100 [50:14<00:00, 30.14s/it]\n",
      "/gpfs/home1/jmt30269/Group-Aware-Hierarchical-Transformer/train.py:58: FutureWarning: You are using `torch.load` with `weights_only=False` (the current default value), which uses the default pickle module implicitly. It is possible to construct malicious pickle data which will execute arbitrary code during unpickling (See https://github.com/pytorch/pytorch/blob/main/SECURITY.md#untrusted-models for more details). In a future release, the default value for `weights_only` will be flipped to `True`. This limits the functions that could be executed during unpickling. Arbitrary objects will no longer be allowed to be loaded via this mode unless they are explicitly allowlisted by the user via `torch.serialization.add_safe_globals`. We recommend you start setting `weights_only=True` for any use case where you don't have full control of the loaded file. Please open an issue on GitHub for any issues related to this experimental feature.\n",
      "  network.load_state_dict(torch.load(model_dir + \"/model_best.pth\"))\n",
      "inference on the HSI: 112092it [06:00, 311.11it/s]                            \n"
     ]
    },
    {
     "name": "stdout",
     "output_type": "stream",
     "text": [
      "Confusion matrix :\n",
      "[[ 179125   43820]\n",
      " [  39579 3442349]]---\n",
      "Accuracy : 97.75%\n",
      "---\n",
      "class acc :\n",
      "\tAKK: 80.34\n",
      "\tBackground: 98.86\n",
      "---\n",
      "AA: 89.60%\n",
      "Kappa: 79.92\n",
      "\n",
      "0.045000000000000005 for training, 0.045000000000000005 for validation and 0.91 testing\n",
      "running an experiment with the proposed model\n",
      "run 1 / 1\n",
      "class train val test\n",
      "AKK 10788 10787 218151\n",
      "Background 168480 168481 3407047\n",
      "model save dir : ./checkpoints/proposed/gs/0.09000000000000001/7_0\n"
     ]
    },
    {
     "name": "stderr",
     "output_type": "stream",
     "text": [
      "training the network:   0%|          | 0/100 [00:24<?, ?it/s]"
     ]
    },
    {
     "name": "stdout",
     "output_type": "stream",
     "text": [
      "train at epoch 1/100, loss=0.109516\n"
     ]
    },
    {
     "name": "stderr",
     "output_type": "stream",
     "text": [
      "training the network:   1%|          | 1/100 [00:39<1:04:23, 39.02s/it]"
     ]
    },
    {
     "name": "stdout",
     "output_type": "stream",
     "text": [
      "epoch = 1: best validation OA = 0.9422\n"
     ]
    },
    {
     "name": "stderr",
     "output_type": "stream",
     "text": [
      "training the network:   2%|▏         | 2/100 [01:19<1:05:05, 39.85s/it]"
     ]
    },
    {
     "name": "stdout",
     "output_type": "stream",
     "text": [
      "epoch = 2: best validation OA = 0.9701\n"
     ]
    },
    {
     "name": "stderr",
     "output_type": "stream",
     "text": [
      "training the network:   6%|▌         | 6/100 [03:56<1:02:01, 39.59s/it]"
     ]
    },
    {
     "name": "stdout",
     "output_type": "stream",
     "text": [
      "epoch = 6: best validation OA = 0.9703\n"
     ]
    },
    {
     "name": "stderr",
     "output_type": "stream",
     "text": [
      "training the network:   7%|▋         | 7/100 [04:35<1:00:59, 39.35s/it]"
     ]
    },
    {
     "name": "stdout",
     "output_type": "stream",
     "text": [
      "epoch = 7: best validation OA = 0.9705\n"
     ]
    },
    {
     "name": "stderr",
     "output_type": "stream",
     "text": [
      "training the network:   9%|▉         | 9/100 [06:17<59:19, 39.12s/it]  "
     ]
    },
    {
     "name": "stdout",
     "output_type": "stream",
     "text": [
      "train at epoch 10/100, loss=0.074324\n"
     ]
    },
    {
     "name": "stderr",
     "output_type": "stream",
     "text": [
      "training the network:  10%|█         | 10/100 [06:33<59:09, 39.44s/it]"
     ]
    },
    {
     "name": "stdout",
     "output_type": "stream",
     "text": [
      "epoch = 10: best validation OA = 0.9725\n"
     ]
    },
    {
     "name": "stderr",
     "output_type": "stream",
     "text": [
      "training the network:  11%|█         | 11/100 [07:14<59:01, 39.79s/it]"
     ]
    },
    {
     "name": "stdout",
     "output_type": "stream",
     "text": [
      "epoch = 11: best validation OA = 0.9727\n"
     ]
    },
    {
     "name": "stderr",
     "output_type": "stream",
     "text": [
      "training the network:  14%|█▍        | 14/100 [09:12<56:32, 39.45s/it]"
     ]
    },
    {
     "name": "stdout",
     "output_type": "stream",
     "text": [
      "epoch = 14: best validation OA = 0.9734\n"
     ]
    },
    {
     "name": "stderr",
     "output_type": "stream",
     "text": [
      "training the network:  18%|█▊        | 18/100 [11:50<53:50, 39.39s/it]"
     ]
    },
    {
     "name": "stdout",
     "output_type": "stream",
     "text": [
      "epoch = 18: best validation OA = 0.9737\n"
     ]
    },
    {
     "name": "stderr",
     "output_type": "stream",
     "text": [
      "training the network:  19%|█▉        | 19/100 [12:54<53:05, 39.32s/it]"
     ]
    },
    {
     "name": "stdout",
     "output_type": "stream",
     "text": [
      "train at epoch 20/100, loss=0.065472\n"
     ]
    },
    {
     "name": "stderr",
     "output_type": "stream",
     "text": [
      "training the network:  20%|██        | 20/100 [13:10<53:17, 39.97s/it]"
     ]
    },
    {
     "name": "stdout",
     "output_type": "stream",
     "text": [
      "epoch = 20: best validation OA = 0.9744\n"
     ]
    },
    {
     "name": "stderr",
     "output_type": "stream",
     "text": [
      "training the network:  23%|██▎       | 23/100 [15:09<51:05, 39.81s/it]"
     ]
    },
    {
     "name": "stdout",
     "output_type": "stream",
     "text": [
      "epoch = 23: best validation OA = 0.9744\n"
     ]
    },
    {
     "name": "stderr",
     "output_type": "stream",
     "text": [
      "training the network:  27%|██▋       | 27/100 [17:47<48:06, 39.53s/it]"
     ]
    },
    {
     "name": "stdout",
     "output_type": "stream",
     "text": [
      "epoch = 27: best validation OA = 0.9751\n"
     ]
    },
    {
     "name": "stderr",
     "output_type": "stream",
     "text": [
      "training the network:  29%|██▉       | 29/100 [19:07<47:08, 39.84s/it]"
     ]
    },
    {
     "name": "stdout",
     "output_type": "stream",
     "text": [
      "epoch = 29: best validation OA = 0.9753\n"
     ]
    },
    {
     "name": "stderr",
     "output_type": "stream",
     "text": [
      "training the network:  29%|██▉       | 29/100 [19:32<47:08, 39.84s/it]"
     ]
    },
    {
     "name": "stdout",
     "output_type": "stream",
     "text": [
      "train at epoch 30/100, loss=0.058317\n"
     ]
    },
    {
     "name": "stderr",
     "output_type": "stream",
     "text": [
      "training the network:  35%|███▌      | 35/100 [23:05<43:07, 39.82s/it]"
     ]
    },
    {
     "name": "stdout",
     "output_type": "stream",
     "text": [
      "epoch = 35: best validation OA = 0.9754\n"
     ]
    },
    {
     "name": "stderr",
     "output_type": "stream",
     "text": [
      "training the network:  36%|███▌      | 36/100 [23:44<42:10, 39.54s/it]"
     ]
    },
    {
     "name": "stdout",
     "output_type": "stream",
     "text": [
      "epoch = 36: best validation OA = 0.9755\n"
     ]
    },
    {
     "name": "stderr",
     "output_type": "stream",
     "text": [
      "training the network:  38%|███▊      | 38/100 [25:03<40:53, 39.58s/it]"
     ]
    },
    {
     "name": "stdout",
     "output_type": "stream",
     "text": [
      "epoch = 38: best validation OA = 0.9758\n"
     ]
    },
    {
     "name": "stderr",
     "output_type": "stream",
     "text": [
      "training the network:  39%|███▉      | 39/100 [25:43<40:19, 39.67s/it]"
     ]
    },
    {
     "name": "stdout",
     "output_type": "stream",
     "text": [
      "epoch = 39: best validation OA = 0.9764\n"
     ]
    },
    {
     "name": "stderr",
     "output_type": "stream",
     "text": [
      "training the network:  39%|███▉      | 39/100 [26:07<40:19, 39.67s/it]"
     ]
    },
    {
     "name": "stdout",
     "output_type": "stream",
     "text": [
      "train at epoch 40/100, loss=0.052341\n"
     ]
    },
    {
     "name": "stderr",
     "output_type": "stream",
     "text": [
      "training the network:  42%|████▏     | 42/100 [27:41<38:06, 39.42s/it]"
     ]
    },
    {
     "name": "stdout",
     "output_type": "stream",
     "text": [
      "epoch = 42: best validation OA = 0.9767\n"
     ]
    },
    {
     "name": "stderr",
     "output_type": "stream",
     "text": [
      "training the network:  45%|████▌     | 45/100 [29:40<36:15, 39.55s/it]"
     ]
    },
    {
     "name": "stdout",
     "output_type": "stream",
     "text": [
      "epoch = 45: best validation OA = 0.9768\n"
     ]
    },
    {
     "name": "stderr",
     "output_type": "stream",
     "text": [
      "training the network:  48%|████▊     | 48/100 [31:39<34:21, 39.65s/it]"
     ]
    },
    {
     "name": "stdout",
     "output_type": "stream",
     "text": [
      "epoch = 48: best validation OA = 0.9768\n"
     ]
    },
    {
     "name": "stderr",
     "output_type": "stream",
     "text": [
      "training the network:  49%|████▉     | 49/100 [32:19<33:53, 39.88s/it]"
     ]
    },
    {
     "name": "stdout",
     "output_type": "stream",
     "text": [
      "epoch = 49: best validation OA = 0.9773\n"
     ]
    },
    {
     "name": "stderr",
     "output_type": "stream",
     "text": [
      "training the network:  49%|████▉     | 49/100 [32:43<33:53, 39.88s/it]"
     ]
    },
    {
     "name": "stdout",
     "output_type": "stream",
     "text": [
      "train at epoch 50/100, loss=0.048267\n"
     ]
    },
    {
     "name": "stderr",
     "output_type": "stream",
     "text": [
      "training the network:  57%|█████▋    | 57/100 [37:33<28:28, 39.74s/it]"
     ]
    },
    {
     "name": "stdout",
     "output_type": "stream",
     "text": [
      "epoch = 57: best validation OA = 0.9780\n"
     ]
    },
    {
     "name": "stderr",
     "output_type": "stream",
     "text": [
      "training the network:  59%|█████▉    | 59/100 [39:16<26:58, 39.47s/it]"
     ]
    },
    {
     "name": "stdout",
     "output_type": "stream",
     "text": [
      "train at epoch 60/100, loss=0.043359\n"
     ]
    },
    {
     "name": "stderr",
     "output_type": "stream",
     "text": [
      "training the network:  66%|██████▌   | 66/100 [43:29<22:24, 39.53s/it]"
     ]
    },
    {
     "name": "stdout",
     "output_type": "stream",
     "text": [
      "epoch = 66: best validation OA = 0.9784\n"
     ]
    },
    {
     "name": "stderr",
     "output_type": "stream",
     "text": [
      "training the network:  69%|██████▉   | 69/100 [45:51<20:18, 39.31s/it]"
     ]
    },
    {
     "name": "stdout",
     "output_type": "stream",
     "text": [
      "train at epoch 70/100, loss=0.038941\n"
     ]
    },
    {
     "name": "stderr",
     "output_type": "stream",
     "text": [
      "training the network:  79%|███████▉  | 79/100 [52:26<13:50, 39.55s/it]"
     ]
    },
    {
     "name": "stdout",
     "output_type": "stream",
     "text": [
      "train at epoch 80/100, loss=0.036195\n"
     ]
    },
    {
     "name": "stderr",
     "output_type": "stream",
     "text": [
      "training the network:  87%|████████▋ | 87/100 [57:18<08:34, 39.55s/it]"
     ]
    },
    {
     "name": "stdout",
     "output_type": "stream",
     "text": [
      "epoch = 87: best validation OA = 0.9787\n"
     ]
    },
    {
     "name": "stderr",
     "output_type": "stream",
     "text": [
      "training the network:  89%|████████▉ | 89/100 [59:01<07:14, 39.53s/it]"
     ]
    },
    {
     "name": "stdout",
     "output_type": "stream",
     "text": [
      "train at epoch 90/100, loss=0.033030\n"
     ]
    },
    {
     "name": "stderr",
     "output_type": "stream",
     "text": [
      "training the network:  90%|█████████ | 90/100 [59:15<06:33, 39.38s/it]"
     ]
    },
    {
     "name": "stdout",
     "output_type": "stream",
     "text": [
      "epoch = 90: best validation OA = 0.9788\n"
     ]
    },
    {
     "name": "stderr",
     "output_type": "stream",
     "text": [
      "training the network:  91%|█████████ | 91/100 [59:55<05:55, 39.46s/it]"
     ]
    },
    {
     "name": "stdout",
     "output_type": "stream",
     "text": [
      "epoch = 91: best validation OA = 0.9789\n"
     ]
    },
    {
     "name": "stderr",
     "output_type": "stream",
     "text": [
      "training the network:  95%|█████████▌| 95/100 [1:02:33<03:17, 39.45s/it]"
     ]
    },
    {
     "name": "stdout",
     "output_type": "stream",
     "text": [
      "epoch = 95: best validation OA = 0.9790\n"
     ]
    },
    {
     "name": "stderr",
     "output_type": "stream",
     "text": [
      "training the network:  99%|█████████▉| 99/100 [1:05:11<00:39, 39.74s/it]"
     ]
    },
    {
     "name": "stdout",
     "output_type": "stream",
     "text": [
      "epoch = 99: best validation OA = 0.9796\n"
     ]
    },
    {
     "name": "stderr",
     "output_type": "stream",
     "text": [
      "training the network:  99%|█████████▉| 99/100 [1:05:36<00:39, 39.74s/it]"
     ]
    },
    {
     "name": "stdout",
     "output_type": "stream",
     "text": [
      "train at epoch 100/100, loss=0.030563\n"
     ]
    },
    {
     "name": "stderr",
     "output_type": "stream",
     "text": [
      "training the network: 100%|██████████| 100/100 [1:05:51<00:00, 39.51s/it]\n",
      "/gpfs/home1/jmt30269/Group-Aware-Hierarchical-Transformer/train.py:58: FutureWarning: You are using `torch.load` with `weights_only=False` (the current default value), which uses the default pickle module implicitly. It is possible to construct malicious pickle data which will execute arbitrary code during unpickling (See https://github.com/pytorch/pytorch/blob/main/SECURITY.md#untrusted-models for more details). In a future release, the default value for `weights_only` will be flipped to `True`. This limits the functions that could be executed during unpickling. Arbitrary objects will no longer be allowed to be loaded via this mode unless they are explicitly allowlisted by the user via `torch.serialization.add_safe_globals`. We recommend you start setting `weights_only=True` for any use case where you don't have full control of the loaded file. Please open an issue on GitHub for any issues related to this experimental feature.\n",
      "  network.load_state_dict(torch.load(model_dir + \"/model_best.pth\"))\n",
      "inference on the HSI: 112092it [06:01, 310.31it/s]                            \n"
     ]
    },
    {
     "name": "stdout",
     "output_type": "stream",
     "text": [
      "Confusion matrix :\n",
      "[[ 178320   39831]\n",
      " [  33805 3373242]]---\n",
      "Accuracy : 97.97%\n",
      "---\n",
      "class acc :\n",
      "\tAKK: 81.74\n",
      "\tBackground: 99.01\n",
      "---\n",
      "AA: 90.37%\n",
      "Kappa: 81.81\n",
      "\n",
      "0.05500000000000001 for training, 0.05500000000000001 for validation and 0.89 testing\n",
      "running an experiment with the proposed model\n",
      "run 1 / 1\n",
      "class train val test\n",
      "AKK 13185 13185 213356\n",
      "Background 205920 205920 3332168\n",
      "model save dir : ./checkpoints/proposed/gs/0.11000000000000001/7_0\n"
     ]
    },
    {
     "name": "stderr",
     "output_type": "stream",
     "text": [
      "training the network:   0%|          | 0/100 [00:30<?, ?it/s]"
     ]
    },
    {
     "name": "stdout",
     "output_type": "stream",
     "text": [
      "train at epoch 1/100, loss=0.108413\n"
     ]
    },
    {
     "name": "stderr",
     "output_type": "stream",
     "text": [
      "training the network:   1%|          | 1/100 [00:48<1:20:06, 48.55s/it]"
     ]
    },
    {
     "name": "stdout",
     "output_type": "stream",
     "text": [
      "epoch = 1: best validation OA = 0.9622\n"
     ]
    },
    {
     "name": "stderr",
     "output_type": "stream",
     "text": [
      "training the network:   2%|▏         | 2/100 [01:37<1:19:20, 48.58s/it]"
     ]
    },
    {
     "name": "stdout",
     "output_type": "stream",
     "text": [
      "epoch = 2: best validation OA = 0.9690\n"
     ]
    },
    {
     "name": "stderr",
     "output_type": "stream",
     "text": [
      "training the network:   4%|▍         | 4/100 [03:13<1:17:17, 48.31s/it]"
     ]
    },
    {
     "name": "stdout",
     "output_type": "stream",
     "text": [
      "epoch = 4: best validation OA = 0.9715\n"
     ]
    },
    {
     "name": "stderr",
     "output_type": "stream",
     "text": [
      "training the network:   6%|▌         | 6/100 [04:49<1:15:30, 48.20s/it]"
     ]
    },
    {
     "name": "stdout",
     "output_type": "stream",
     "text": [
      "epoch = 6: best validation OA = 0.9724\n"
     ]
    },
    {
     "name": "stderr",
     "output_type": "stream",
     "text": [
      "training the network:   8%|▊         | 8/100 [06:26<1:14:18, 48.46s/it]"
     ]
    },
    {
     "name": "stdout",
     "output_type": "stream",
     "text": [
      "epoch = 8: best validation OA = 0.9728\n"
     ]
    },
    {
     "name": "stderr",
     "output_type": "stream",
     "text": [
      "training the network:   9%|▉         | 9/100 [07:46<1:13:43, 48.61s/it]"
     ]
    },
    {
     "name": "stdout",
     "output_type": "stream",
     "text": [
      "train at epoch 10/100, loss=0.071283\n"
     ]
    },
    {
     "name": "stderr",
     "output_type": "stream",
     "text": [
      "training the network:  10%|█         | 10/100 [08:04<1:12:49, 48.55s/it]"
     ]
    },
    {
     "name": "stdout",
     "output_type": "stream",
     "text": [
      "epoch = 10: best validation OA = 0.9728\n"
     ]
    },
    {
     "name": "stderr",
     "output_type": "stream",
     "text": [
      "training the network:  11%|█         | 11/100 [08:52<1:11:44, 48.36s/it]"
     ]
    },
    {
     "name": "stdout",
     "output_type": "stream",
     "text": [
      "epoch = 11: best validation OA = 0.9729\n"
     ]
    },
    {
     "name": "stderr",
     "output_type": "stream",
     "text": [
      "training the network:  13%|█▎        | 13/100 [10:28<1:10:08, 48.37s/it]"
     ]
    },
    {
     "name": "stdout",
     "output_type": "stream",
     "text": [
      "epoch = 13: best validation OA = 0.9736\n"
     ]
    },
    {
     "name": "stderr",
     "output_type": "stream",
     "text": [
      "training the network:  17%|█▋        | 17/100 [13:43<1:07:20, 48.68s/it]"
     ]
    },
    {
     "name": "stdout",
     "output_type": "stream",
     "text": [
      "epoch = 17: best validation OA = 0.9739\n"
     ]
    },
    {
     "name": "stderr",
     "output_type": "stream",
     "text": [
      "training the network:  19%|█▉        | 19/100 [15:19<1:05:21, 48.41s/it]"
     ]
    },
    {
     "name": "stdout",
     "output_type": "stream",
     "text": [
      "epoch = 19: best validation OA = 0.9741\n"
     ]
    },
    {
     "name": "stderr",
     "output_type": "stream",
     "text": [
      "training the network:  19%|█▉        | 19/100 [15:49<1:05:21, 48.41s/it]"
     ]
    },
    {
     "name": "stdout",
     "output_type": "stream",
     "text": [
      "train at epoch 20/100, loss=0.062229\n"
     ]
    },
    {
     "name": "stderr",
     "output_type": "stream",
     "text": [
      "training the network:  20%|██        | 20/100 [16:07<1:04:25, 48.32s/it]"
     ]
    },
    {
     "name": "stdout",
     "output_type": "stream",
     "text": [
      "epoch = 20: best validation OA = 0.9742\n"
     ]
    },
    {
     "name": "stderr",
     "output_type": "stream",
     "text": [
      "training the network:  21%|██        | 21/100 [16:56<1:03:48, 48.47s/it]"
     ]
    },
    {
     "name": "stdout",
     "output_type": "stream",
     "text": [
      "epoch = 21: best validation OA = 0.9750\n"
     ]
    },
    {
     "name": "stderr",
     "output_type": "stream",
     "text": [
      "training the network:  26%|██▌       | 26/100 [20:57<59:26, 48.20s/it]  "
     ]
    },
    {
     "name": "stdout",
     "output_type": "stream",
     "text": [
      "epoch = 26: best validation OA = 0.9753\n"
     ]
    },
    {
     "name": "stderr",
     "output_type": "stream",
     "text": [
      "training the network:  29%|██▉       | 29/100 [23:53<57:25, 48.53s/it]"
     ]
    },
    {
     "name": "stdout",
     "output_type": "stream",
     "text": [
      "train at epoch 30/100, loss=0.055860\n"
     ]
    },
    {
     "name": "stderr",
     "output_type": "stream",
     "text": [
      "training the network:  31%|███       | 31/100 [25:00<55:52, 48.59s/it]"
     ]
    },
    {
     "name": "stdout",
     "output_type": "stream",
     "text": [
      "epoch = 31: best validation OA = 0.9758\n"
     ]
    },
    {
     "name": "stderr",
     "output_type": "stream",
     "text": [
      "training the network:  33%|███▎      | 33/100 [26:37<54:12, 48.55s/it]"
     ]
    },
    {
     "name": "stdout",
     "output_type": "stream",
     "text": [
      "epoch = 33: best validation OA = 0.9765\n"
     ]
    },
    {
     "name": "stderr",
     "output_type": "stream",
     "text": [
      "training the network:  35%|███▌      | 35/100 [28:13<52:22, 48.35s/it]"
     ]
    },
    {
     "name": "stdout",
     "output_type": "stream",
     "text": [
      "epoch = 35: best validation OA = 0.9768\n"
     ]
    },
    {
     "name": "stderr",
     "output_type": "stream",
     "text": [
      "training the network:  38%|███▊      | 38/100 [30:38<49:59, 48.38s/it]"
     ]
    },
    {
     "name": "stdout",
     "output_type": "stream",
     "text": [
      "epoch = 38: best validation OA = 0.9773\n"
     ]
    },
    {
     "name": "stderr",
     "output_type": "stream",
     "text": [
      "training the network:  39%|███▉      | 39/100 [31:26<48:58, 48.18s/it]"
     ]
    },
    {
     "name": "stdout",
     "output_type": "stream",
     "text": [
      "epoch = 39: best validation OA = 0.9779\n"
     ]
    },
    {
     "name": "stderr",
     "output_type": "stream",
     "text": [
      "training the network:  39%|███▉      | 39/100 [31:56<48:58, 48.18s/it]"
     ]
    },
    {
     "name": "stdout",
     "output_type": "stream",
     "text": [
      "train at epoch 40/100, loss=0.049930\n"
     ]
    },
    {
     "name": "stderr",
     "output_type": "stream",
     "text": [
      "training the network:  43%|████▎     | 43/100 [34:39<45:41, 48.10s/it]"
     ]
    },
    {
     "name": "stdout",
     "output_type": "stream",
     "text": [
      "epoch = 43: best validation OA = 0.9779\n"
     ]
    },
    {
     "name": "stderr",
     "output_type": "stream",
     "text": [
      "training the network:  47%|████▋     | 47/100 [37:54<43:01, 48.72s/it]"
     ]
    },
    {
     "name": "stdout",
     "output_type": "stream",
     "text": [
      "epoch = 47: best validation OA = 0.9785\n"
     ]
    },
    {
     "name": "stderr",
     "output_type": "stream",
     "text": [
      "training the network:  49%|████▉     | 49/100 [40:02<41:20, 48.63s/it]"
     ]
    },
    {
     "name": "stdout",
     "output_type": "stream",
     "text": [
      "train at epoch 50/100, loss=0.045631\n"
     ]
    },
    {
     "name": "stderr",
     "output_type": "stream",
     "text": [
      "training the network:  56%|█████▌    | 56/100 [45:12<35:35, 48.54s/it]"
     ]
    },
    {
     "name": "stdout",
     "output_type": "stream",
     "text": [
      "epoch = 56: best validation OA = 0.9786\n"
     ]
    },
    {
     "name": "stderr",
     "output_type": "stream",
     "text": [
      "training the network:  57%|█████▋    | 57/100 [46:00<34:48, 48.58s/it]"
     ]
    },
    {
     "name": "stdout",
     "output_type": "stream",
     "text": [
      "epoch = 57: best validation OA = 0.9790\n"
     ]
    },
    {
     "name": "stderr",
     "output_type": "stream",
     "text": [
      "training the network:  59%|█████▉    | 59/100 [48:07<33:05, 48.42s/it]"
     ]
    },
    {
     "name": "stdout",
     "output_type": "stream",
     "text": [
      "train at epoch 60/100, loss=0.041031\n"
     ]
    },
    {
     "name": "stderr",
     "output_type": "stream",
     "text": [
      "training the network:  64%|██████▍   | 64/100 [51:41<29:29, 49.15s/it]"
     ]
    },
    {
     "name": "stdout",
     "output_type": "stream",
     "text": [
      "epoch = 64: best validation OA = 0.9790\n"
     ]
    },
    {
     "name": "stderr",
     "output_type": "stream",
     "text": [
      "training the network:  65%|██████▌   | 65/100 [52:33<29:06, 49.90s/it]"
     ]
    },
    {
     "name": "stdout",
     "output_type": "stream",
     "text": [
      "epoch = 65: best validation OA = 0.9798\n"
     ]
    },
    {
     "name": "stderr",
     "output_type": "stream",
     "text": [
      "training the network:  69%|██████▉   | 69/100 [56:27<26:00, 50.35s/it]"
     ]
    },
    {
     "name": "stdout",
     "output_type": "stream",
     "text": [
      "train at epoch 70/100, loss=0.037741\n"
     ]
    },
    {
     "name": "stderr",
     "output_type": "stream",
     "text": [
      "training the network:  79%|███████▉  | 79/100 [1:04:52<17:37, 50.36s/it]"
     ]
    },
    {
     "name": "stdout",
     "output_type": "stream",
     "text": [
      "train at epoch 80/100, loss=0.034372\n"
     ]
    },
    {
     "name": "stderr",
     "output_type": "stream",
     "text": [
      "training the network:  83%|████████▎ | 83/100 [1:07:43<14:22, 50.75s/it]"
     ]
    },
    {
     "name": "stdout",
     "output_type": "stream",
     "text": [
      "epoch = 83: best validation OA = 0.9802\n"
     ]
    },
    {
     "name": "stderr",
     "output_type": "stream",
     "text": [
      "training the network:  84%|████████▍ | 84/100 [1:08:33<13:29, 50.57s/it]"
     ]
    },
    {
     "name": "stdout",
     "output_type": "stream",
     "text": [
      "epoch = 84: best validation OA = 0.9802\n"
     ]
    },
    {
     "name": "stderr",
     "output_type": "stream",
     "text": [
      "training the network:  89%|████████▉ | 89/100 [1:12:46<09:14, 50.39s/it]"
     ]
    },
    {
     "name": "stdout",
     "output_type": "stream",
     "text": [
      "epoch = 89: best validation OA = 0.9803\n"
     ]
    },
    {
     "name": "stderr",
     "output_type": "stream",
     "text": [
      "training the network:  89%|████████▉ | 89/100 [1:13:17<09:14, 50.39s/it]"
     ]
    },
    {
     "name": "stdout",
     "output_type": "stream",
     "text": [
      "train at epoch 90/100, loss=0.031390\n"
     ]
    },
    {
     "name": "stderr",
     "output_type": "stream",
     "text": [
      "training the network:  91%|█████████ | 91/100 [1:14:26<07:33, 50.35s/it]"
     ]
    },
    {
     "name": "stdout",
     "output_type": "stream",
     "text": [
      "epoch = 91: best validation OA = 0.9804\n"
     ]
    },
    {
     "name": "stderr",
     "output_type": "stream",
     "text": [
      "training the network:  96%|█████████▌| 96/100 [1:18:39<03:22, 50.52s/it]"
     ]
    },
    {
     "name": "stdout",
     "output_type": "stream",
     "text": [
      "epoch = 96: best validation OA = 0.9805\n"
     ]
    },
    {
     "name": "stderr",
     "output_type": "stream",
     "text": [
      "training the network:  99%|█████████▉| 99/100 [1:21:43<00:50, 50.71s/it]"
     ]
    },
    {
     "name": "stdout",
     "output_type": "stream",
     "text": [
      "train at epoch 100/100, loss=0.028787\n"
     ]
    },
    {
     "name": "stderr",
     "output_type": "stream",
     "text": [
      "training the network: 100%|██████████| 100/100 [1:22:02<00:00, 49.22s/it]\n",
      "/gpfs/home1/jmt30269/Group-Aware-Hierarchical-Transformer/train.py:58: FutureWarning: You are using `torch.load` with `weights_only=False` (the current default value), which uses the default pickle module implicitly. It is possible to construct malicious pickle data which will execute arbitrary code during unpickling (See https://github.com/pytorch/pytorch/blob/main/SECURITY.md#untrusted-models for more details). In a future release, the default value for `weights_only` will be flipped to `True`. This limits the functions that could be executed during unpickling. Arbitrary objects will no longer be allowed to be loaded via this mode unless they are explicitly allowlisted by the user via `torch.serialization.add_safe_globals`. We recommend you start setting `weights_only=True` for any use case where you don't have full control of the loaded file. Please open an issue on GitHub for any issues related to this experimental feature.\n",
      "  network.load_state_dict(torch.load(model_dir + \"/model_best.pth\"))\n"
     ]
    },
    {
     "name": "stdout",
     "output_type": "stream",
     "text": [
      "epoch = 100: best validation OA = 0.9807\n"
     ]
    },
    {
     "name": "stderr",
     "output_type": "stream",
     "text": [
      "inference on the HSI: 112092it [06:02, 309.23it/s]                            \n"
     ]
    },
    {
     "name": "stdout",
     "output_type": "stream",
     "text": [
      "Confusion matrix :\n",
      "[[ 176798   36558]\n",
      " [  31164 3301004]]---\n",
      "Accuracy : 98.09%\n",
      "---\n",
      "class acc :\n",
      "\tAKK: 82.87\n",
      "\tBackground: 99.06\n",
      "---\n",
      "AA: 90.97%\n",
      "Kappa: 82.91\n",
      "\n",
      "0.065 for training, 0.065 for validation and 0.87 testing\n",
      "running an experiment with the proposed model\n",
      "run 1 / 1\n",
      "class train val test\n",
      "AKK 15582 15582 208562\n",
      "Background 243360 243361 3257287\n",
      "model save dir : ./checkpoints/proposed/gs/0.13/7_0\n"
     ]
    },
    {
     "name": "stderr",
     "output_type": "stream",
     "text": [
      "training the network:   0%|          | 0/100 [00:36<?, ?it/s]"
     ]
    },
    {
     "name": "stdout",
     "output_type": "stream",
     "text": [
      "train at epoch 1/100, loss=0.108127\n"
     ]
    },
    {
     "name": "stderr",
     "output_type": "stream",
     "text": [
      "training the network:   1%|          | 1/100 [00:58<1:36:41, 58.60s/it]"
     ]
    },
    {
     "name": "stdout",
     "output_type": "stream",
     "text": [
      "epoch = 1: best validation OA = 0.9704\n"
     ]
    },
    {
     "name": "stderr",
     "output_type": "stream",
     "text": [
      "training the network:   2%|▏         | 2/100 [01:57<1:36:20, 58.98s/it]"
     ]
    },
    {
     "name": "stdout",
     "output_type": "stream",
     "text": [
      "epoch = 2: best validation OA = 0.9713\n"
     ]
    },
    {
     "name": "stderr",
     "output_type": "stream",
     "text": [
      "training the network:   5%|▌         | 5/100 [04:56<1:34:00, 59.38s/it]"
     ]
    },
    {
     "name": "stdout",
     "output_type": "stream",
     "text": [
      "epoch = 5: best validation OA = 0.9727\n"
     ]
    },
    {
     "name": "stderr",
     "output_type": "stream",
     "text": [
      "training the network:   8%|▊         | 8/100 [07:56<1:31:24, 59.62s/it]"
     ]
    },
    {
     "name": "stdout",
     "output_type": "stream",
     "text": [
      "epoch = 8: best validation OA = 0.9735\n"
     ]
    },
    {
     "name": "stderr",
     "output_type": "stream",
     "text": [
      "training the network:   9%|▉         | 9/100 [08:56<1:30:48, 59.88s/it]"
     ]
    },
    {
     "name": "stdout",
     "output_type": "stream",
     "text": [
      "epoch = 9: best validation OA = 0.9740\n"
     ]
    },
    {
     "name": "stderr",
     "output_type": "stream",
     "text": [
      "training the network:   9%|▉         | 9/100 [09:34<1:30:48, 59.88s/it]"
     ]
    },
    {
     "name": "stdout",
     "output_type": "stream",
     "text": [
      "train at epoch 10/100, loss=0.071143\n"
     ]
    },
    {
     "name": "stderr",
     "output_type": "stream",
     "text": [
      "training the network:  11%|█         | 11/100 [10:55<1:28:16, 59.51s/it]"
     ]
    },
    {
     "name": "stdout",
     "output_type": "stream",
     "text": [
      "epoch = 11: best validation OA = 0.9746\n"
     ]
    },
    {
     "name": "stderr",
     "output_type": "stream",
     "text": [
      "training the network:  14%|█▍        | 14/100 [13:53<1:25:09, 59.41s/it]"
     ]
    },
    {
     "name": "stdout",
     "output_type": "stream",
     "text": [
      "epoch = 14: best validation OA = 0.9752\n"
     ]
    },
    {
     "name": "stderr",
     "output_type": "stream",
     "text": [
      "training the network:  18%|█▊        | 18/100 [17:52<1:21:16, 59.47s/it]"
     ]
    },
    {
     "name": "stdout",
     "output_type": "stream",
     "text": [
      "epoch = 18: best validation OA = 0.9759\n"
     ]
    },
    {
     "name": "stderr",
     "output_type": "stream",
     "text": [
      "training the network:  19%|█▉        | 19/100 [18:53<1:21:01, 60.02s/it]"
     ]
    },
    {
     "name": "stdout",
     "output_type": "stream",
     "text": [
      "epoch = 19: best validation OA = 0.9762\n"
     ]
    },
    {
     "name": "stderr",
     "output_type": "stream",
     "text": [
      "training the network:  19%|█▉        | 19/100 [19:30<1:21:01, 60.02s/it]"
     ]
    },
    {
     "name": "stdout",
     "output_type": "stream",
     "text": [
      "train at epoch 20/100, loss=0.061553\n"
     ]
    },
    {
     "name": "stderr",
     "output_type": "stream",
     "text": [
      "training the network:  26%|██▌       | 26/100 [25:51<1:13:44, 59.78s/it]"
     ]
    },
    {
     "name": "stdout",
     "output_type": "stream",
     "text": [
      "epoch = 26: best validation OA = 0.9768\n"
     ]
    },
    {
     "name": "stderr",
     "output_type": "stream",
     "text": [
      "training the network:  28%|██▊       | 28/100 [27:52<1:12:31, 60.44s/it]"
     ]
    },
    {
     "name": "stdout",
     "output_type": "stream",
     "text": [
      "epoch = 28: best validation OA = 0.9769\n"
     ]
    },
    {
     "name": "stderr",
     "output_type": "stream",
     "text": [
      "training the network:  29%|██▉       | 29/100 [29:28<1:11:07, 60.11s/it]"
     ]
    },
    {
     "name": "stdout",
     "output_type": "stream",
     "text": [
      "train at epoch 30/100, loss=0.055313\n"
     ]
    },
    {
     "name": "stderr",
     "output_type": "stream",
     "text": [
      "training the network:  31%|███       | 31/100 [30:50<1:08:36, 59.66s/it]"
     ]
    },
    {
     "name": "stdout",
     "output_type": "stream",
     "text": [
      "epoch = 31: best validation OA = 0.9770\n"
     ]
    },
    {
     "name": "stderr",
     "output_type": "stream",
     "text": [
      "training the network:  32%|███▏      | 32/100 [31:50<1:07:45, 59.79s/it]"
     ]
    },
    {
     "name": "stdout",
     "output_type": "stream",
     "text": [
      "epoch = 32: best validation OA = 0.9775\n"
     ]
    },
    {
     "name": "stderr",
     "output_type": "stream",
     "text": [
      "training the network:  34%|███▍      | 34/100 [33:50<1:06:02, 60.04s/it]"
     ]
    },
    {
     "name": "stdout",
     "output_type": "stream",
     "text": [
      "epoch = 34: best validation OA = 0.9777\n"
     ]
    },
    {
     "name": "stderr",
     "output_type": "stream",
     "text": [
      "training the network:  37%|███▋      | 37/100 [36:50<1:03:03, 60.05s/it]"
     ]
    },
    {
     "name": "stdout",
     "output_type": "stream",
     "text": [
      "epoch = 37: best validation OA = 0.9780\n"
     ]
    },
    {
     "name": "stderr",
     "output_type": "stream",
     "text": [
      "training the network:  38%|███▊      | 38/100 [37:51<1:02:13, 60.22s/it]"
     ]
    },
    {
     "name": "stdout",
     "output_type": "stream",
     "text": [
      "epoch = 38: best validation OA = 0.9783\n"
     ]
    },
    {
     "name": "stderr",
     "output_type": "stream",
     "text": [
      "training the network:  39%|███▉      | 39/100 [38:50<1:01:00, 60.02s/it]"
     ]
    },
    {
     "name": "stdout",
     "output_type": "stream",
     "text": [
      "epoch = 39: best validation OA = 0.9788\n"
     ]
    },
    {
     "name": "stderr",
     "output_type": "stream",
     "text": [
      "training the network:  39%|███▉      | 39/100 [39:27<1:01:00, 60.02s/it]"
     ]
    },
    {
     "name": "stdout",
     "output_type": "stream",
     "text": [
      "train at epoch 40/100, loss=0.048696\n"
     ]
    },
    {
     "name": "stderr",
     "output_type": "stream",
     "text": [
      "training the network:  44%|████▍     | 44/100 [43:49<55:56, 59.93s/it]  "
     ]
    },
    {
     "name": "stdout",
     "output_type": "stream",
     "text": [
      "epoch = 44: best validation OA = 0.9794\n"
     ]
    },
    {
     "name": "stderr",
     "output_type": "stream",
     "text": [
      "training the network:  49%|████▉     | 49/100 [49:25<50:40, 59.62s/it]"
     ]
    },
    {
     "name": "stdout",
     "output_type": "stream",
     "text": [
      "train at epoch 50/100, loss=0.044069\n"
     ]
    },
    {
     "name": "stderr",
     "output_type": "stream",
     "text": [
      "training the network:  52%|█████▏    | 52/100 [51:45<47:30, 59.38s/it]"
     ]
    },
    {
     "name": "stdout",
     "output_type": "stream",
     "text": [
      "epoch = 52: best validation OA = 0.9799\n"
     ]
    },
    {
     "name": "stderr",
     "output_type": "stream",
     "text": [
      "training the network:  58%|█████▊    | 58/100 [57:44<41:42, 59.59s/it]"
     ]
    },
    {
     "name": "stdout",
     "output_type": "stream",
     "text": [
      "epoch = 58: best validation OA = 0.9800\n"
     ]
    },
    {
     "name": "stderr",
     "output_type": "stream",
     "text": [
      "training the network:  59%|█████▉    | 59/100 [59:20<40:37, 59.46s/it]"
     ]
    },
    {
     "name": "stdout",
     "output_type": "stream",
     "text": [
      "train at epoch 60/100, loss=0.039811\n"
     ]
    },
    {
     "name": "stderr",
     "output_type": "stream",
     "text": [
      "training the network:  66%|██████▌   | 66/100 [1:05:40<33:57, 59.93s/it]"
     ]
    },
    {
     "name": "stdout",
     "output_type": "stream",
     "text": [
      "epoch = 66: best validation OA = 0.9807\n"
     ]
    },
    {
     "name": "stderr",
     "output_type": "stream",
     "text": [
      "training the network:  69%|██████▉   | 69/100 [1:09:16<30:44, 59.48s/it]"
     ]
    },
    {
     "name": "stdout",
     "output_type": "stream",
     "text": [
      "train at epoch 70/100, loss=0.036370\n"
     ]
    },
    {
     "name": "stderr",
     "output_type": "stream",
     "text": [
      "training the network:  79%|███████▉  | 79/100 [1:19:12<20:51, 59.61s/it]"
     ]
    },
    {
     "name": "stdout",
     "output_type": "stream",
     "text": [
      "train at epoch 80/100, loss=0.033426\n"
     ]
    },
    {
     "name": "stderr",
     "output_type": "stream",
     "text": [
      "training the network:  81%|████████  | 81/100 [1:20:35<19:00, 60.02s/it]"
     ]
    },
    {
     "name": "stdout",
     "output_type": "stream",
     "text": [
      "epoch = 81: best validation OA = 0.9815\n"
     ]
    },
    {
     "name": "stderr",
     "output_type": "stream",
     "text": [
      "training the network:  86%|████████▌ | 86/100 [1:25:33<13:55, 59.67s/it]"
     ]
    },
    {
     "name": "stdout",
     "output_type": "stream",
     "text": [
      "epoch = 86: best validation OA = 0.9818\n"
     ]
    },
    {
     "name": "stderr",
     "output_type": "stream",
     "text": [
      "training the network:  88%|████████▊ | 88/100 [1:27:32<11:54, 59.54s/it]"
     ]
    },
    {
     "name": "stdout",
     "output_type": "stream",
     "text": [
      "epoch = 88: best validation OA = 0.9818\n"
     ]
    },
    {
     "name": "stderr",
     "output_type": "stream",
     "text": [
      "training the network:  89%|████████▉ | 89/100 [1:29:08<10:54, 59.53s/it]"
     ]
    },
    {
     "name": "stdout",
     "output_type": "stream",
     "text": [
      "train at epoch 90/100, loss=0.030860\n"
     ]
    },
    {
     "name": "stderr",
     "output_type": "stream",
     "text": [
      "training the network:  98%|█████████▊| 98/100 [1:37:28<01:59, 59.50s/it]"
     ]
    },
    {
     "name": "stdout",
     "output_type": "stream",
     "text": [
      "epoch = 98: best validation OA = 0.9818\n"
     ]
    },
    {
     "name": "stderr",
     "output_type": "stream",
     "text": [
      "training the network:  99%|█████████▉| 99/100 [1:39:05<00:59, 59.64s/it]"
     ]
    },
    {
     "name": "stdout",
     "output_type": "stream",
     "text": [
      "train at epoch 100/100, loss=0.028003\n"
     ]
    },
    {
     "name": "stderr",
     "output_type": "stream",
     "text": [
      "training the network: 100%|██████████| 100/100 [1:39:26<00:00, 59.67s/it]\n",
      "/gpfs/home1/jmt30269/Group-Aware-Hierarchical-Transformer/train.py:58: FutureWarning: You are using `torch.load` with `weights_only=False` (the current default value), which uses the default pickle module implicitly. It is possible to construct malicious pickle data which will execute arbitrary code during unpickling (See https://github.com/pytorch/pytorch/blob/main/SECURITY.md#untrusted-models for more details). In a future release, the default value for `weights_only` will be flipped to `True`. This limits the functions that could be executed during unpickling. Arbitrary objects will no longer be allowed to be loaded via this mode unless they are explicitly allowlisted by the user via `torch.serialization.add_safe_globals`. We recommend you start setting `weights_only=True` for any use case where you don't have full control of the loaded file. Please open an issue on GitHub for any issues related to this experimental feature.\n",
      "  network.load_state_dict(torch.load(model_dir + \"/model_best.pth\"))\n",
      "inference on the HSI: 112092it [05:59, 311.86it/s]                            \n"
     ]
    },
    {
     "name": "stdout",
     "output_type": "stream",
     "text": [
      "Confusion matrix :\n",
      "[[ 174391   34171]\n",
      " [  29750 3227537]]---\n",
      "Accuracy : 98.16%\n",
      "---\n",
      "class acc :\n",
      "\tAKK: 83.62\n",
      "\tBackground: 99.09\n",
      "---\n",
      "AA: 91.35%\n",
      "Kappa: 83.53\n",
      "\n",
      "0.07500000000000001 for training, 0.07500000000000001 for validation and 0.85 testing\n",
      "running an experiment with the proposed model\n",
      "run 1 / 1\n",
      "class train val test\n",
      "AKK 17980 17979 203767\n",
      "Background 280800 280801 3182407\n",
      "model save dir : ./checkpoints/proposed/gs/0.15000000000000002/7_0\n"
     ]
    },
    {
     "name": "stderr",
     "output_type": "stream",
     "text": [
      "training the network:   0%|          | 0/100 [00:39<?, ?it/s]"
     ]
    },
    {
     "name": "stdout",
     "output_type": "stream",
     "text": [
      "train at epoch 1/100, loss=0.102904\n"
     ]
    },
    {
     "name": "stderr",
     "output_type": "stream",
     "text": [
      "training the network:   1%|          | 1/100 [01:03<1:44:07, 63.11s/it]"
     ]
    },
    {
     "name": "stdout",
     "output_type": "stream",
     "text": [
      "epoch = 1: best validation OA = 0.9659\n"
     ]
    },
    {
     "name": "stderr",
     "output_type": "stream",
     "text": [
      "training the network:   2%|▏         | 2/100 [02:06<1:43:01, 63.07s/it]"
     ]
    },
    {
     "name": "stdout",
     "output_type": "stream",
     "text": [
      "epoch = 2: best validation OA = 0.9676\n"
     ]
    },
    {
     "name": "stderr",
     "output_type": "stream",
     "text": [
      "training the network:   3%|▎         | 3/100 [03:09<1:42:02, 63.12s/it]"
     ]
    },
    {
     "name": "stdout",
     "output_type": "stream",
     "text": [
      "epoch = 3: best validation OA = 0.9707\n"
     ]
    },
    {
     "name": "stderr",
     "output_type": "stream",
     "text": [
      "training the network:   6%|▌         | 6/100 [06:19<1:39:01, 63.21s/it]"
     ]
    },
    {
     "name": "stdout",
     "output_type": "stream",
     "text": [
      "epoch = 6: best validation OA = 0.9730\n"
     ]
    },
    {
     "name": "stderr",
     "output_type": "stream",
     "text": [
      "training the network:   7%|▋         | 7/100 [07:22<1:38:00, 63.23s/it]"
     ]
    },
    {
     "name": "stdout",
     "output_type": "stream",
     "text": [
      "epoch = 7: best validation OA = 0.9733\n"
     ]
    },
    {
     "name": "stderr",
     "output_type": "stream",
     "text": [
      "training the network:   9%|▉         | 9/100 [09:28<1:35:57, 63.27s/it]"
     ]
    },
    {
     "name": "stdout",
     "output_type": "stream",
     "text": [
      "epoch = 9: best validation OA = 0.9737\n"
     ]
    },
    {
     "name": "stderr",
     "output_type": "stream",
     "text": [
      "training the network:   9%|▉         | 9/100 [10:08<1:35:57, 63.27s/it]"
     ]
    },
    {
     "name": "stdout",
     "output_type": "stream",
     "text": [
      "train at epoch 10/100, loss=0.069609\n"
     ]
    },
    {
     "name": "stderr",
     "output_type": "stream",
     "text": [
      "training the network:  12%|█▏        | 12/100 [12:38<1:32:44, 63.23s/it]"
     ]
    },
    {
     "name": "stdout",
     "output_type": "stream",
     "text": [
      "epoch = 12: best validation OA = 0.9745\n"
     ]
    },
    {
     "name": "stderr",
     "output_type": "stream",
     "text": [
      "training the network:  17%|█▋        | 17/100 [17:53<1:27:16, 63.10s/it]"
     ]
    },
    {
     "name": "stdout",
     "output_type": "stream",
     "text": [
      "epoch = 17: best validation OA = 0.9756\n"
     ]
    },
    {
     "name": "stderr",
     "output_type": "stream",
     "text": [
      "training the network:  19%|█▉        | 19/100 [20:00<1:25:16, 63.16s/it]"
     ]
    },
    {
     "name": "stdout",
     "output_type": "stream",
     "text": [
      "epoch = 19: best validation OA = 0.9757\n"
     ]
    },
    {
     "name": "stderr",
     "output_type": "stream",
     "text": [
      "training the network:  19%|█▉        | 19/100 [20:40<1:25:16, 63.16s/it]"
     ]
    },
    {
     "name": "stdout",
     "output_type": "stream",
     "text": [
      "train at epoch 20/100, loss=0.060037\n"
     ]
    },
    {
     "name": "stderr",
     "output_type": "stream",
     "text": [
      "training the network:  20%|██        | 20/100 [21:03<1:24:15, 63.19s/it]"
     ]
    },
    {
     "name": "stdout",
     "output_type": "stream",
     "text": [
      "epoch = 20: best validation OA = 0.9758\n"
     ]
    },
    {
     "name": "stderr",
     "output_type": "stream",
     "text": [
      "training the network:  25%|██▌       | 25/100 [26:19<1:19:01, 63.22s/it]"
     ]
    },
    {
     "name": "stdout",
     "output_type": "stream",
     "text": [
      "epoch = 25: best validation OA = 0.9772\n"
     ]
    },
    {
     "name": "stderr",
     "output_type": "stream",
     "text": [
      "training the network:  29%|██▉       | 29/100 [31:11<1:14:45, 63.17s/it]"
     ]
    },
    {
     "name": "stdout",
     "output_type": "stream",
     "text": [
      "train at epoch 30/100, loss=0.052755\n"
     ]
    },
    {
     "name": "stderr",
     "output_type": "stream",
     "text": [
      "training the network:  31%|███       | 31/100 [32:38<1:12:39, 63.19s/it]"
     ]
    },
    {
     "name": "stdout",
     "output_type": "stream",
     "text": [
      "epoch = 31: best validation OA = 0.9777\n"
     ]
    },
    {
     "name": "stderr",
     "output_type": "stream",
     "text": [
      "training the network:  33%|███▎      | 33/100 [34:45<1:10:37, 63.25s/it]"
     ]
    },
    {
     "name": "stdout",
     "output_type": "stream",
     "text": [
      "epoch = 33: best validation OA = 0.9779\n"
     ]
    },
    {
     "name": "stderr",
     "output_type": "stream",
     "text": [
      "training the network:  38%|███▊      | 38/100 [40:01<1:05:21, 63.25s/it]"
     ]
    },
    {
     "name": "stdout",
     "output_type": "stream",
     "text": [
      "epoch = 38: best validation OA = 0.9782\n"
     ]
    },
    {
     "name": "stderr",
     "output_type": "stream",
     "text": [
      "training the network:  39%|███▉      | 39/100 [41:04<1:04:18, 63.25s/it]"
     ]
    },
    {
     "name": "stdout",
     "output_type": "stream",
     "text": [
      "epoch = 39: best validation OA = 0.9785\n"
     ]
    },
    {
     "name": "stderr",
     "output_type": "stream",
     "text": [
      "training the network:  39%|███▉      | 39/100 [41:44<1:04:18, 63.25s/it]"
     ]
    },
    {
     "name": "stdout",
     "output_type": "stream",
     "text": [
      "train at epoch 40/100, loss=0.047040\n"
     ]
    },
    {
     "name": "stderr",
     "output_type": "stream",
     "text": [
      "training the network:  42%|████▏     | 42/100 [44:14<1:01:13, 63.34s/it]"
     ]
    },
    {
     "name": "stdout",
     "output_type": "stream",
     "text": [
      "epoch = 42: best validation OA = 0.9790\n"
     ]
    },
    {
     "name": "stderr",
     "output_type": "stream",
     "text": [
      "training the network:  47%|████▋     | 47/100 [49:31<55:52, 63.26s/it]  "
     ]
    },
    {
     "name": "stdout",
     "output_type": "stream",
     "text": [
      "epoch = 47: best validation OA = 0.9794\n"
     ]
    },
    {
     "name": "stderr",
     "output_type": "stream",
     "text": [
      "training the network:  48%|████▊     | 48/100 [50:34<54:52, 63.31s/it]"
     ]
    },
    {
     "name": "stdout",
     "output_type": "stream",
     "text": [
      "epoch = 48: best validation OA = 0.9795\n"
     ]
    },
    {
     "name": "stderr",
     "output_type": "stream",
     "text": [
      "training the network:  49%|████▉     | 49/100 [52:17<53:47, 63.29s/it]"
     ]
    },
    {
     "name": "stdout",
     "output_type": "stream",
     "text": [
      "train at epoch 50/100, loss=0.042930\n"
     ]
    },
    {
     "name": "stderr",
     "output_type": "stream",
     "text": [
      "training the network:  50%|█████     | 50/100 [52:41<52:44, 63.30s/it]"
     ]
    },
    {
     "name": "stdout",
     "output_type": "stream",
     "text": [
      "epoch = 50: best validation OA = 0.9797\n"
     ]
    },
    {
     "name": "stderr",
     "output_type": "stream",
     "text": [
      "training the network:  57%|█████▋    | 57/100 [1:00:05<45:30, 63.50s/it]"
     ]
    },
    {
     "name": "stdout",
     "output_type": "stream",
     "text": [
      "epoch = 57: best validation OA = 0.9801\n"
     ]
    },
    {
     "name": "stderr",
     "output_type": "stream",
     "text": [
      "training the network:  59%|█████▉    | 59/100 [1:02:52<43:27, 63.59s/it]"
     ]
    },
    {
     "name": "stdout",
     "output_type": "stream",
     "text": [
      "train at epoch 60/100, loss=0.038766\n"
     ]
    },
    {
     "name": "stderr",
     "output_type": "stream",
     "text": [
      "training the network:  60%|██████    | 60/100 [1:03:16<42:21, 63.53s/it]"
     ]
    },
    {
     "name": "stdout",
     "output_type": "stream",
     "text": [
      "epoch = 60: best validation OA = 0.9804\n"
     ]
    },
    {
     "name": "stderr",
     "output_type": "stream",
     "text": [
      "training the network:  62%|██████▏   | 62/100 [1:05:23<40:14, 63.53s/it]"
     ]
    },
    {
     "name": "stdout",
     "output_type": "stream",
     "text": [
      "epoch = 62: best validation OA = 0.9813\n"
     ]
    },
    {
     "name": "stderr",
     "output_type": "stream",
     "text": [
      "training the network:  69%|██████▉   | 69/100 [1:13:26<32:43, 63.33s/it]"
     ]
    },
    {
     "name": "stdout",
     "output_type": "stream",
     "text": [
      "train at epoch 70/100, loss=0.035811\n"
     ]
    },
    {
     "name": "stderr",
     "output_type": "stream",
     "text": [
      "training the network:  75%|███████▌  | 75/100 [1:19:06<26:23, 63.34s/it]"
     ]
    },
    {
     "name": "stdout",
     "output_type": "stream",
     "text": [
      "epoch = 75: best validation OA = 0.9814\n"
     ]
    },
    {
     "name": "stderr",
     "output_type": "stream",
     "text": [
      "training the network:  76%|███████▌  | 76/100 [1:20:09<25:19, 63.31s/it]"
     ]
    },
    {
     "name": "stdout",
     "output_type": "stream",
     "text": [
      "epoch = 76: best validation OA = 0.9815\n"
     ]
    },
    {
     "name": "stderr",
     "output_type": "stream",
     "text": [
      "training the network:  78%|███████▊  | 78/100 [1:22:16<23:10, 63.23s/it]"
     ]
    },
    {
     "name": "stdout",
     "output_type": "stream",
     "text": [
      "epoch = 78: best validation OA = 0.9816\n"
     ]
    },
    {
     "name": "stderr",
     "output_type": "stream",
     "text": [
      "training the network:  79%|███████▉  | 79/100 [1:23:19<22:08, 63.26s/it]"
     ]
    },
    {
     "name": "stdout",
     "output_type": "stream",
     "text": [
      "epoch = 79: best validation OA = 0.9818\n"
     ]
    },
    {
     "name": "stderr",
     "output_type": "stream",
     "text": [
      "training the network:  79%|███████▉  | 79/100 [1:23:59<22:08, 63.26s/it]"
     ]
    },
    {
     "name": "stdout",
     "output_type": "stream",
     "text": [
      "train at epoch 80/100, loss=0.032473\n"
     ]
    },
    {
     "name": "stderr",
     "output_type": "stream",
     "text": [
      "training the network:  83%|████████▎ | 83/100 [1:27:33<17:57, 63.39s/it]"
     ]
    },
    {
     "name": "stdout",
     "output_type": "stream",
     "text": [
      "epoch = 83: best validation OA = 0.9820\n"
     ]
    },
    {
     "name": "stderr",
     "output_type": "stream",
     "text": [
      "training the network:  89%|████████▉ | 89/100 [1:33:52<11:36, 63.28s/it]"
     ]
    },
    {
     "name": "stdout",
     "output_type": "stream",
     "text": [
      "epoch = 89: best validation OA = 0.9821\n"
     ]
    },
    {
     "name": "stderr",
     "output_type": "stream",
     "text": [
      "training the network:  89%|████████▉ | 89/100 [1:34:32<11:36, 63.28s/it]"
     ]
    },
    {
     "name": "stdout",
     "output_type": "stream",
     "text": [
      "train at epoch 90/100, loss=0.030579\n"
     ]
    },
    {
     "name": "stderr",
     "output_type": "stream",
     "text": [
      "training the network:  93%|█████████▎| 93/100 [1:38:06<07:23, 63.37s/it]"
     ]
    },
    {
     "name": "stdout",
     "output_type": "stream",
     "text": [
      "epoch = 93: best validation OA = 0.9826\n"
     ]
    },
    {
     "name": "stderr",
     "output_type": "stream",
     "text": [
      "training the network:  96%|█████████▌| 96/100 [1:41:15<04:13, 63.30s/it]"
     ]
    },
    {
     "name": "stdout",
     "output_type": "stream",
     "text": [
      "epoch = 96: best validation OA = 0.9826\n"
     ]
    },
    {
     "name": "stderr",
     "output_type": "stream",
     "text": [
      "training the network:  99%|█████████▉| 99/100 [1:45:05<01:03, 63.35s/it]"
     ]
    },
    {
     "name": "stdout",
     "output_type": "stream",
     "text": [
      "train at epoch 100/100, loss=0.027554\n"
     ]
    },
    {
     "name": "stderr",
     "output_type": "stream",
     "text": [
      "training the network: 100%|██████████| 100/100 [1:45:29<00:00, 63.30s/it]\n",
      "/gpfs/home1/jmt30269/Group-Aware-Hierarchical-Transformer/train.py:58: FutureWarning: You are using `torch.load` with `weights_only=False` (the current default value), which uses the default pickle module implicitly. It is possible to construct malicious pickle data which will execute arbitrary code during unpickling (See https://github.com/pytorch/pytorch/blob/main/SECURITY.md#untrusted-models for more details). In a future release, the default value for `weights_only` will be flipped to `True`. This limits the functions that could be executed during unpickling. Arbitrary objects will no longer be allowed to be loaded via this mode unless they are explicitly allowlisted by the user via `torch.serialization.add_safe_globals`. We recommend you start setting `weights_only=True` for any use case where you don't have full control of the loaded file. Please open an issue on GitHub for any issues related to this experimental feature.\n",
      "  network.load_state_dict(torch.load(model_dir + \"/model_best.pth\"))\n",
      "inference on the HSI: 112092it [05:58, 312.81it/s]                            \n"
     ]
    },
    {
     "name": "stdout",
     "output_type": "stream",
     "text": [
      "Confusion matrix :\n",
      "[[ 170246   33521]\n",
      " [  25430 3156977]]---\n",
      "Accuracy : 98.26%\n",
      "---\n",
      "class acc :\n",
      "\tAKK: 83.55\n",
      "\tBackground: 99.20\n",
      "---\n",
      "AA: 91.38%\n",
      "Kappa: 84.32\n",
      "\n",
      "0.08500000000000002 for training, 0.08500000000000002 for validation and 0.83 testing\n",
      "running an experiment with the proposed model\n",
      "run 1 / 1\n",
      "class train val test\n",
      "AKK 20377 20376 198973\n",
      "Background 318240 318241 3107527\n",
      "model save dir : ./checkpoints/proposed/gs/0.17000000000000004/7_0\n"
     ]
    },
    {
     "name": "stderr",
     "output_type": "stream",
     "text": [
      "training the network:   0%|          | 0/100 [00:44<?, ?it/s]"
     ]
    },
    {
     "name": "stdout",
     "output_type": "stream",
     "text": [
      "train at epoch 1/100, loss=0.101997\n"
     ]
    },
    {
     "name": "stderr",
     "output_type": "stream",
     "text": [
      "training the network:   1%|          | 1/100 [01:12<1:58:48, 72.00s/it]"
     ]
    },
    {
     "name": "stdout",
     "output_type": "stream",
     "text": [
      "epoch = 1: best validation OA = 0.9691\n"
     ]
    },
    {
     "name": "stderr",
     "output_type": "stream",
     "text": [
      "training the network:   4%|▍         | 4/100 [04:47<1:55:08, 71.96s/it]"
     ]
    },
    {
     "name": "stdout",
     "output_type": "stream",
     "text": [
      "epoch = 4: best validation OA = 0.9718\n"
     ]
    },
    {
     "name": "stderr",
     "output_type": "stream",
     "text": [
      "training the network:   7%|▋         | 7/100 [08:23<1:51:23, 71.86s/it]"
     ]
    },
    {
     "name": "stdout",
     "output_type": "stream",
     "text": [
      "epoch = 7: best validation OA = 0.9732\n"
     ]
    },
    {
     "name": "stderr",
     "output_type": "stream",
     "text": [
      "training the network:   9%|▉         | 9/100 [10:46<1:48:51, 71.77s/it]"
     ]
    },
    {
     "name": "stdout",
     "output_type": "stream",
     "text": [
      "epoch = 9: best validation OA = 0.9732\n"
     ]
    },
    {
     "name": "stderr",
     "output_type": "stream",
     "text": [
      "training the network:   9%|▉         | 9/100 [11:31<1:48:51, 71.77s/it]"
     ]
    },
    {
     "name": "stdout",
     "output_type": "stream",
     "text": [
      "train at epoch 10/100, loss=0.068435\n"
     ]
    },
    {
     "name": "stderr",
     "output_type": "stream",
     "text": [
      "training the network:  10%|█         | 10/100 [11:58<1:47:38, 71.77s/it]"
     ]
    },
    {
     "name": "stdout",
     "output_type": "stream",
     "text": [
      "epoch = 10: best validation OA = 0.9740\n"
     ]
    },
    {
     "name": "stderr",
     "output_type": "stream",
     "text": [
      "training the network:  12%|█▏        | 12/100 [14:21<1:45:16, 71.77s/it]"
     ]
    },
    {
     "name": "stdout",
     "output_type": "stream",
     "text": [
      "epoch = 12: best validation OA = 0.9747\n"
     ]
    },
    {
     "name": "stderr",
     "output_type": "stream",
     "text": [
      "training the network:  14%|█▍        | 14/100 [16:45<1:42:51, 71.77s/it]"
     ]
    },
    {
     "name": "stdout",
     "output_type": "stream",
     "text": [
      "epoch = 14: best validation OA = 0.9749\n"
     ]
    },
    {
     "name": "stderr",
     "output_type": "stream",
     "text": [
      "training the network:  16%|█▌        | 16/100 [19:08<1:40:25, 71.74s/it]"
     ]
    },
    {
     "name": "stdout",
     "output_type": "stream",
     "text": [
      "epoch = 16: best validation OA = 0.9755\n"
     ]
    },
    {
     "name": "stderr",
     "output_type": "stream",
     "text": [
      "training the network:  18%|█▊        | 18/100 [21:32<1:38:01, 71.73s/it]"
     ]
    },
    {
     "name": "stdout",
     "output_type": "stream",
     "text": [
      "epoch = 18: best validation OA = 0.9758\n"
     ]
    },
    {
     "name": "stderr",
     "output_type": "stream",
     "text": [
      "training the network:  19%|█▉        | 19/100 [23:28<1:36:48, 71.71s/it]"
     ]
    },
    {
     "name": "stdout",
     "output_type": "stream",
     "text": [
      "train at epoch 20/100, loss=0.058804\n"
     ]
    },
    {
     "name": "stderr",
     "output_type": "stream",
     "text": [
      "training the network:  22%|██▏       | 22/100 [26:18<1:33:06, 71.63s/it]"
     ]
    },
    {
     "name": "stdout",
     "output_type": "stream",
     "text": [
      "epoch = 22: best validation OA = 0.9765\n"
     ]
    },
    {
     "name": "stderr",
     "output_type": "stream",
     "text": [
      "training the network:  24%|██▍       | 24/100 [28:41<1:30:38, 71.56s/it]"
     ]
    },
    {
     "name": "stdout",
     "output_type": "stream",
     "text": [
      "epoch = 24: best validation OA = 0.9772\n"
     ]
    },
    {
     "name": "stderr",
     "output_type": "stream",
     "text": [
      "training the network:  25%|██▌       | 25/100 [29:53<1:29:31, 71.63s/it]"
     ]
    },
    {
     "name": "stdout",
     "output_type": "stream",
     "text": [
      "epoch = 25: best validation OA = 0.9774\n"
     ]
    },
    {
     "name": "stderr",
     "output_type": "stream",
     "text": [
      "training the network:  27%|██▋       | 27/100 [32:16<1:27:10, 71.64s/it]"
     ]
    },
    {
     "name": "stdout",
     "output_type": "stream",
     "text": [
      "epoch = 27: best validation OA = 0.9776\n"
     ]
    },
    {
     "name": "stderr",
     "output_type": "stream",
     "text": [
      "training the network:  29%|██▉       | 29/100 [35:25<1:24:50, 71.70s/it]"
     ]
    },
    {
     "name": "stdout",
     "output_type": "stream",
     "text": [
      "train at epoch 30/100, loss=0.051514\n"
     ]
    },
    {
     "name": "stderr",
     "output_type": "stream",
     "text": [
      "training the network:  30%|███       | 30/100 [35:52<1:23:41, 71.73s/it]"
     ]
    },
    {
     "name": "stdout",
     "output_type": "stream",
     "text": [
      "epoch = 30: best validation OA = 0.9782\n"
     ]
    },
    {
     "name": "stderr",
     "output_type": "stream",
     "text": [
      "training the network:  35%|███▌      | 35/100 [41:50<1:17:42, 71.73s/it]"
     ]
    },
    {
     "name": "stdout",
     "output_type": "stream",
     "text": [
      "epoch = 35: best validation OA = 0.9784\n"
     ]
    },
    {
     "name": "stderr",
     "output_type": "stream",
     "text": [
      "training the network:  36%|███▌      | 36/100 [43:02<1:16:31, 71.74s/it]"
     ]
    },
    {
     "name": "stdout",
     "output_type": "stream",
     "text": [
      "epoch = 36: best validation OA = 0.9785\n"
     ]
    },
    {
     "name": "stderr",
     "output_type": "stream",
     "text": [
      "training the network:  37%|███▋      | 37/100 [44:14<1:15:18, 71.73s/it]"
     ]
    },
    {
     "name": "stdout",
     "output_type": "stream",
     "text": [
      "epoch = 37: best validation OA = 0.9789\n"
     ]
    },
    {
     "name": "stderr",
     "output_type": "stream",
     "text": [
      "training the network:  38%|███▊      | 38/100 [45:25<1:14:05, 71.71s/it]"
     ]
    },
    {
     "name": "stdout",
     "output_type": "stream",
     "text": [
      "epoch = 38: best validation OA = 0.9790\n"
     ]
    },
    {
     "name": "stderr",
     "output_type": "stream",
     "text": [
      "training the network:  39%|███▉      | 39/100 [46:37<1:12:54, 71.71s/it]"
     ]
    },
    {
     "name": "stdout",
     "output_type": "stream",
     "text": [
      "epoch = 39: best validation OA = 0.9796\n"
     ]
    },
    {
     "name": "stderr",
     "output_type": "stream",
     "text": [
      "training the network:  39%|███▉      | 39/100 [47:22<1:12:54, 71.71s/it]"
     ]
    },
    {
     "name": "stdout",
     "output_type": "stream",
     "text": [
      "train at epoch 40/100, loss=0.046104\n"
     ]
    },
    {
     "name": "stderr",
     "output_type": "stream",
     "text": [
      "training the network:  41%|████      | 41/100 [49:01<1:10:36, 71.80s/it]"
     ]
    },
    {
     "name": "stdout",
     "output_type": "stream",
     "text": [
      "epoch = 41: best validation OA = 0.9799\n"
     ]
    },
    {
     "name": "stderr",
     "output_type": "stream",
     "text": [
      "training the network:  43%|████▎     | 43/100 [51:24<1:08:10, 71.76s/it]"
     ]
    },
    {
     "name": "stdout",
     "output_type": "stream",
     "text": [
      "epoch = 43: best validation OA = 0.9805\n"
     ]
    },
    {
     "name": "stderr",
     "output_type": "stream",
     "text": [
      "training the network:  49%|████▉     | 49/100 [58:33<1:00:48, 71.53s/it]"
     ]
    },
    {
     "name": "stdout",
     "output_type": "stream",
     "text": [
      "epoch = 49: best validation OA = 0.9808\n"
     ]
    },
    {
     "name": "stderr",
     "output_type": "stream",
     "text": [
      "training the network:  49%|████▉     | 49/100 [59:18<1:00:48, 71.53s/it]"
     ]
    },
    {
     "name": "stdout",
     "output_type": "stream",
     "text": [
      "train at epoch 50/100, loss=0.042231\n"
     ]
    },
    {
     "name": "stderr",
     "output_type": "stream",
     "text": [
      "training the network:  51%|█████     | 51/100 [1:00:57<58:28, 71.60s/it]"
     ]
    },
    {
     "name": "stdout",
     "output_type": "stream",
     "text": [
      "epoch = 51: best validation OA = 0.9809\n"
     ]
    },
    {
     "name": "stderr",
     "output_type": "stream",
     "text": [
      "training the network:  56%|█████▌    | 56/100 [1:06:55<52:33, 71.68s/it]"
     ]
    },
    {
     "name": "stdout",
     "output_type": "stream",
     "text": [
      "epoch = 56: best validation OA = 0.9811\n"
     ]
    },
    {
     "name": "stderr",
     "output_type": "stream",
     "text": [
      "training the network:  57%|█████▋    | 57/100 [1:08:07<51:22, 71.69s/it]"
     ]
    },
    {
     "name": "stdout",
     "output_type": "stream",
     "text": [
      "epoch = 57: best validation OA = 0.9813\n"
     ]
    },
    {
     "name": "stderr",
     "output_type": "stream",
     "text": [
      "training the network:  59%|█████▉    | 59/100 [1:10:31<49:00, 71.72s/it]"
     ]
    },
    {
     "name": "stdout",
     "output_type": "stream",
     "text": [
      "epoch = 59: best validation OA = 0.9819\n"
     ]
    },
    {
     "name": "stderr",
     "output_type": "stream",
     "text": [
      "training the network:  59%|█████▉    | 59/100 [1:11:15<49:00, 71.72s/it]"
     ]
    },
    {
     "name": "stdout",
     "output_type": "stream",
     "text": [
      "train at epoch 60/100, loss=0.037999\n"
     ]
    },
    {
     "name": "stderr",
     "output_type": "stream",
     "text": [
      "training the network:  68%|██████▊   | 68/100 [1:21:16<38:16, 71.76s/it]"
     ]
    },
    {
     "name": "stdout",
     "output_type": "stream",
     "text": [
      "epoch = 68: best validation OA = 0.9823\n"
     ]
    },
    {
     "name": "stderr",
     "output_type": "stream",
     "text": [
      "training the network:  69%|██████▉   | 69/100 [1:23:13<37:04, 71.76s/it]"
     ]
    },
    {
     "name": "stdout",
     "output_type": "stream",
     "text": [
      "train at epoch 70/100, loss=0.034624\n"
     ]
    },
    {
     "name": "stderr",
     "output_type": "stream",
     "text": [
      "training the network:  74%|███████▍  | 74/100 [1:28:26<30:59, 71.51s/it]"
     ]
    },
    {
     "name": "stdout",
     "output_type": "stream",
     "text": [
      "epoch = 74: best validation OA = 0.9823\n"
     ]
    },
    {
     "name": "stderr",
     "output_type": "stream",
     "text": [
      "training the network:  79%|███████▉  | 79/100 [1:35:09<25:05, 71.70s/it]"
     ]
    },
    {
     "name": "stdout",
     "output_type": "stream",
     "text": [
      "train at epoch 80/100, loss=0.031957\n"
     ]
    },
    {
     "name": "stderr",
     "output_type": "stream",
     "text": [
      "training the network:  80%|████████  | 80/100 [1:35:36<23:53, 71.67s/it]"
     ]
    },
    {
     "name": "stdout",
     "output_type": "stream",
     "text": [
      "epoch = 80: best validation OA = 0.9828\n"
     ]
    },
    {
     "name": "stderr",
     "output_type": "stream",
     "text": [
      "training the network:  83%|████████▎ | 83/100 [1:39:11<20:18, 71.70s/it]"
     ]
    },
    {
     "name": "stdout",
     "output_type": "stream",
     "text": [
      "epoch = 83: best validation OA = 0.9828\n"
     ]
    },
    {
     "name": "stderr",
     "output_type": "stream",
     "text": [
      "training the network:  84%|████████▍ | 84/100 [1:40:23<19:08, 71.75s/it]"
     ]
    },
    {
     "name": "stdout",
     "output_type": "stream",
     "text": [
      "epoch = 84: best validation OA = 0.9830\n"
     ]
    },
    {
     "name": "stderr",
     "output_type": "stream",
     "text": [
      "training the network:  89%|████████▉ | 89/100 [1:46:22<13:09, 71.76s/it]"
     ]
    },
    {
     "name": "stdout",
     "output_type": "stream",
     "text": [
      "epoch = 89: best validation OA = 0.9832\n"
     ]
    },
    {
     "name": "stderr",
     "output_type": "stream",
     "text": [
      "training the network:  89%|████████▉ | 89/100 [1:47:06<13:09, 71.76s/it]"
     ]
    },
    {
     "name": "stdout",
     "output_type": "stream",
     "text": [
      "train at epoch 90/100, loss=0.029414\n"
     ]
    },
    {
     "name": "stderr",
     "output_type": "stream",
     "text": [
      "training the network:  99%|█████████▉| 99/100 [1:59:03<01:11, 71.61s/it]"
     ]
    },
    {
     "name": "stdout",
     "output_type": "stream",
     "text": [
      "train at epoch 100/100, loss=0.027959\n"
     ]
    },
    {
     "name": "stderr",
     "output_type": "stream",
     "text": [
      "training the network: 100%|██████████| 100/100 [1:59:30<00:00, 71.70s/it]\n",
      "/gpfs/home1/jmt30269/Group-Aware-Hierarchical-Transformer/train.py:58: FutureWarning: You are using `torch.load` with `weights_only=False` (the current default value), which uses the default pickle module implicitly. It is possible to construct malicious pickle data which will execute arbitrary code during unpickling (See https://github.com/pytorch/pytorch/blob/main/SECURITY.md#untrusted-models for more details). In a future release, the default value for `weights_only` will be flipped to `True`. This limits the functions that could be executed during unpickling. Arbitrary objects will no longer be allowed to be loaded via this mode unless they are explicitly allowlisted by the user via `torch.serialization.add_safe_globals`. We recommend you start setting `weights_only=True` for any use case where you don't have full control of the loaded file. Please open an issue on GitHub for any issues related to this experimental feature.\n",
      "  network.load_state_dict(torch.load(model_dir + \"/model_best.pth\"))\n",
      "inference on the HSI: 112092it [05:58, 312.59it/s]                            \n"
     ]
    },
    {
     "name": "stdout",
     "output_type": "stream",
     "text": [
      "Confusion matrix :\n",
      "[[ 168320   30653]\n",
      " [  25039 3082488]]---\n",
      "Accuracy : 98.32%\n",
      "---\n",
      "class acc :\n",
      "\tAKK: 84.59\n",
      "\tBackground: 99.19\n",
      "---\n",
      "AA: 91.89%\n",
      "Kappa: 84.91\n",
      "\n",
      "0.095 for training, 0.095 for validation and 0.81 testing\n",
      "running an experiment with the proposed model\n",
      "run 1 / 1\n",
      "class train val test\n",
      "AKK 22774 22774 194178\n",
      "Background 355680 355681 3032647\n",
      "model save dir : ./checkpoints/proposed/gs/0.19/7_0\n"
     ]
    },
    {
     "name": "stderr",
     "output_type": "stream",
     "text": [
      "training the network:   0%|          | 0/100 [00:50<?, ?it/s]"
     ]
    },
    {
     "name": "stdout",
     "output_type": "stream",
     "text": [
      "train at epoch 1/100, loss=0.101031\n"
     ]
    },
    {
     "name": "stderr",
     "output_type": "stream",
     "text": [
      "training the network:   1%|          | 1/100 [01:19<2:11:58, 79.99s/it]"
     ]
    },
    {
     "name": "stdout",
     "output_type": "stream",
     "text": [
      "epoch = 1: best validation OA = 0.9679\n"
     ]
    },
    {
     "name": "stderr",
     "output_type": "stream",
     "text": [
      "training the network:   2%|▏         | 2/100 [02:39<2:10:08, 79.68s/it]"
     ]
    },
    {
     "name": "stdout",
     "output_type": "stream",
     "text": [
      "epoch = 2: best validation OA = 0.9699\n"
     ]
    },
    {
     "name": "stderr",
     "output_type": "stream",
     "text": [
      "training the network:   4%|▍         | 4/100 [05:19<2:08:03, 80.04s/it]"
     ]
    },
    {
     "name": "stdout",
     "output_type": "stream",
     "text": [
      "epoch = 4: best validation OA = 0.9720\n"
     ]
    },
    {
     "name": "stderr",
     "output_type": "stream",
     "text": [
      "training the network:   6%|▌         | 6/100 [08:00<2:05:34, 80.15s/it]"
     ]
    },
    {
     "name": "stdout",
     "output_type": "stream",
     "text": [
      "epoch = 6: best validation OA = 0.9724\n"
     ]
    },
    {
     "name": "stderr",
     "output_type": "stream",
     "text": [
      "training the network:   7%|▋         | 7/100 [09:20<2:04:13, 80.14s/it]"
     ]
    },
    {
     "name": "stdout",
     "output_type": "stream",
     "text": [
      "epoch = 7: best validation OA = 0.9736\n"
     ]
    },
    {
     "name": "stderr",
     "output_type": "stream",
     "text": [
      "training the network:   9%|▉         | 9/100 [12:00<2:01:17, 79.97s/it]"
     ]
    },
    {
     "name": "stdout",
     "output_type": "stream",
     "text": [
      "epoch = 9: best validation OA = 0.9738\n"
     ]
    },
    {
     "name": "stderr",
     "output_type": "stream",
     "text": [
      "training the network:   9%|▉         | 9/100 [12:50<2:01:17, 79.97s/it]"
     ]
    },
    {
     "name": "stdout",
     "output_type": "stream",
     "text": [
      "train at epoch 10/100, loss=0.066523\n"
     ]
    },
    {
     "name": "stderr",
     "output_type": "stream",
     "text": [
      "training the network:  10%|█         | 10/100 [13:20<2:00:08, 80.09s/it]"
     ]
    },
    {
     "name": "stdout",
     "output_type": "stream",
     "text": [
      "epoch = 10: best validation OA = 0.9743\n"
     ]
    },
    {
     "name": "stderr",
     "output_type": "stream",
     "text": [
      "training the network:  13%|█▎        | 13/100 [17:20<1:56:09, 80.11s/it]"
     ]
    },
    {
     "name": "stdout",
     "output_type": "stream",
     "text": [
      "epoch = 13: best validation OA = 0.9753\n"
     ]
    },
    {
     "name": "stderr",
     "output_type": "stream",
     "text": [
      "training the network:  14%|█▍        | 14/100 [18:41<1:54:53, 80.16s/it]"
     ]
    },
    {
     "name": "stdout",
     "output_type": "stream",
     "text": [
      "epoch = 14: best validation OA = 0.9760\n"
     ]
    },
    {
     "name": "stderr",
     "output_type": "stream",
     "text": [
      "training the network:  19%|█▉        | 19/100 [26:11<1:48:11, 80.14s/it]"
     ]
    },
    {
     "name": "stdout",
     "output_type": "stream",
     "text": [
      "train at epoch 20/100, loss=0.056732\n"
     ]
    },
    {
     "name": "stderr",
     "output_type": "stream",
     "text": [
      "training the network:  20%|██        | 20/100 [26:41<1:46:50, 80.13s/it]"
     ]
    },
    {
     "name": "stdout",
     "output_type": "stream",
     "text": [
      "epoch = 20: best validation OA = 0.9770\n"
     ]
    },
    {
     "name": "stderr",
     "output_type": "stream",
     "text": [
      "training the network:  22%|██▏       | 22/100 [29:21<1:44:08, 80.11s/it]"
     ]
    },
    {
     "name": "stdout",
     "output_type": "stream",
     "text": [
      "epoch = 22: best validation OA = 0.9775\n"
     ]
    },
    {
     "name": "stderr",
     "output_type": "stream",
     "text": [
      "training the network:  23%|██▎       | 23/100 [30:41<1:42:34, 79.93s/it]"
     ]
    },
    {
     "name": "stdout",
     "output_type": "stream",
     "text": [
      "epoch = 23: best validation OA = 0.9778\n"
     ]
    },
    {
     "name": "stderr",
     "output_type": "stream",
     "text": [
      "training the network:  26%|██▌       | 26/100 [34:41<1:38:45, 80.07s/it]"
     ]
    },
    {
     "name": "stdout",
     "output_type": "stream",
     "text": [
      "epoch = 26: best validation OA = 0.9789\n"
     ]
    },
    {
     "name": "stderr",
     "output_type": "stream",
     "text": [
      "training the network:  29%|██▉       | 29/100 [39:32<1:34:54, 80.20s/it]"
     ]
    },
    {
     "name": "stdout",
     "output_type": "stream",
     "text": [
      "train at epoch 30/100, loss=0.050160\n"
     ]
    },
    {
     "name": "stderr",
     "output_type": "stream",
     "text": [
      "training the network:  33%|███▎      | 33/100 [44:02<1:29:29, 80.14s/it]"
     ]
    },
    {
     "name": "stdout",
     "output_type": "stream",
     "text": [
      "epoch = 33: best validation OA = 0.9790\n"
     ]
    },
    {
     "name": "stderr",
     "output_type": "stream",
     "text": [
      "training the network:  35%|███▌      | 35/100 [46:42<1:26:46, 80.09s/it]"
     ]
    },
    {
     "name": "stdout",
     "output_type": "stream",
     "text": [
      "epoch = 35: best validation OA = 0.9795\n"
     ]
    },
    {
     "name": "stderr",
     "output_type": "stream",
     "text": [
      "training the network:  38%|███▊      | 38/100 [50:43<1:22:47, 80.12s/it]"
     ]
    },
    {
     "name": "stdout",
     "output_type": "stream",
     "text": [
      "epoch = 38: best validation OA = 0.9798\n"
     ]
    },
    {
     "name": "stderr",
     "output_type": "stream",
     "text": [
      "training the network:  39%|███▉      | 39/100 [52:03<1:21:28, 80.14s/it]"
     ]
    },
    {
     "name": "stdout",
     "output_type": "stream",
     "text": [
      "epoch = 39: best validation OA = 0.9800\n"
     ]
    },
    {
     "name": "stderr",
     "output_type": "stream",
     "text": [
      "training the network:  39%|███▉      | 39/100 [52:53<1:21:28, 80.14s/it]"
     ]
    },
    {
     "name": "stdout",
     "output_type": "stream",
     "text": [
      "train at epoch 40/100, loss=0.044897\n"
     ]
    },
    {
     "name": "stderr",
     "output_type": "stream",
     "text": [
      "training the network:  43%|████▎     | 43/100 [57:23<1:16:08, 80.15s/it]"
     ]
    },
    {
     "name": "stdout",
     "output_type": "stream",
     "text": [
      "epoch = 43: best validation OA = 0.9807\n"
     ]
    },
    {
     "name": "stderr",
     "output_type": "stream",
     "text": [
      "training the network:  46%|████▌     | 46/100 [1:01:23<1:12:02, 80.04s/it]"
     ]
    },
    {
     "name": "stdout",
     "output_type": "stream",
     "text": [
      "epoch = 46: best validation OA = 0.9809\n"
     ]
    },
    {
     "name": "stderr",
     "output_type": "stream",
     "text": [
      "training the network:  48%|████▊     | 48/100 [1:04:03<1:09:25, 80.11s/it]"
     ]
    },
    {
     "name": "stdout",
     "output_type": "stream",
     "text": [
      "epoch = 48: best validation OA = 0.9813\n"
     ]
    },
    {
     "name": "stderr",
     "output_type": "stream",
     "text": [
      "training the network:  49%|████▉     | 49/100 [1:06:14<1:08:08, 80.17s/it]"
     ]
    },
    {
     "name": "stdout",
     "output_type": "stream",
     "text": [
      "train at epoch 50/100, loss=0.040051\n"
     ]
    },
    {
     "name": "stderr",
     "output_type": "stream",
     "text": [
      "training the network:  51%|█████     | 51/100 [1:08:04<1:05:26, 80.14s/it]"
     ]
    },
    {
     "name": "stdout",
     "output_type": "stream",
     "text": [
      "epoch = 51: best validation OA = 0.9814\n"
     ]
    },
    {
     "name": "stderr",
     "output_type": "stream",
     "text": [
      "training the network:  53%|█████▎    | 53/100 [1:10:44<1:02:49, 80.20s/it]"
     ]
    },
    {
     "name": "stdout",
     "output_type": "stream",
     "text": [
      "epoch = 53: best validation OA = 0.9821\n"
     ]
    },
    {
     "name": "stderr",
     "output_type": "stream",
     "text": [
      "training the network:  57%|█████▋    | 57/100 [1:16:05<57:27, 80.18s/it]  "
     ]
    },
    {
     "name": "stdout",
     "output_type": "stream",
     "text": [
      "epoch = 57: best validation OA = 0.9821\n"
     ]
    },
    {
     "name": "stderr",
     "output_type": "stream",
     "text": [
      "training the network:  59%|█████▉    | 59/100 [1:19:36<54:49, 80.24s/it]"
     ]
    },
    {
     "name": "stdout",
     "output_type": "stream",
     "text": [
      "train at epoch 60/100, loss=0.037082\n"
     ]
    },
    {
     "name": "stderr",
     "output_type": "stream",
     "text": [
      "training the network:  63%|██████▎   | 63/100 [1:24:07<49:29, 80.25s/it]"
     ]
    },
    {
     "name": "stdout",
     "output_type": "stream",
     "text": [
      "epoch = 63: best validation OA = 0.9824\n"
     ]
    },
    {
     "name": "stderr",
     "output_type": "stream",
     "text": [
      "training the network:  66%|██████▌   | 66/100 [1:28:08<45:27, 80.23s/it]"
     ]
    },
    {
     "name": "stdout",
     "output_type": "stream",
     "text": [
      "epoch = 66: best validation OA = 0.9824\n"
     ]
    },
    {
     "name": "stderr",
     "output_type": "stream",
     "text": [
      "training the network:  68%|██████▊   | 68/100 [1:30:47<42:39, 79.97s/it]"
     ]
    },
    {
     "name": "stdout",
     "output_type": "stream",
     "text": [
      "epoch = 68: best validation OA = 0.9828\n"
     ]
    },
    {
     "name": "stderr",
     "output_type": "stream",
     "text": [
      "training the network:  69%|██████▉   | 69/100 [1:32:57<41:22, 80.08s/it]"
     ]
    },
    {
     "name": "stdout",
     "output_type": "stream",
     "text": [
      "train at epoch 70/100, loss=0.033669\n"
     ]
    },
    {
     "name": "stderr",
     "output_type": "stream",
     "text": [
      "training the network:  72%|███████▏  | 72/100 [1:36:08<37:25, 80.19s/it]"
     ]
    },
    {
     "name": "stdout",
     "output_type": "stream",
     "text": [
      "epoch = 72: best validation OA = 0.9832\n"
     ]
    },
    {
     "name": "stderr",
     "output_type": "stream",
     "text": [
      "training the network:  75%|███████▌  | 75/100 [1:40:08<33:24, 80.18s/it]"
     ]
    },
    {
     "name": "stdout",
     "output_type": "stream",
     "text": [
      "epoch = 75: best validation OA = 0.9835\n"
     ]
    },
    {
     "name": "stderr",
     "output_type": "stream",
     "text": [
      "training the network:  79%|███████▉  | 79/100 [1:45:29<28:03, 80.17s/it]"
     ]
    },
    {
     "name": "stdout",
     "output_type": "stream",
     "text": [
      "epoch = 79: best validation OA = 0.9837\n"
     ]
    },
    {
     "name": "stderr",
     "output_type": "stream",
     "text": [
      "training the network:  79%|███████▉  | 79/100 [1:46:19<28:03, 80.17s/it]"
     ]
    },
    {
     "name": "stdout",
     "output_type": "stream",
     "text": [
      "train at epoch 80/100, loss=0.030793\n"
     ]
    },
    {
     "name": "stderr",
     "output_type": "stream",
     "text": [
      "training the network:  87%|████████▋ | 87/100 [1:56:11<17:23, 80.24s/it]"
     ]
    },
    {
     "name": "stdout",
     "output_type": "stream",
     "text": [
      "epoch = 87: best validation OA = 0.9838\n"
     ]
    },
    {
     "name": "stderr",
     "output_type": "stream",
     "text": [
      "training the network:  88%|████████▊ | 88/100 [1:57:31<16:02, 80.25s/it]"
     ]
    },
    {
     "name": "stdout",
     "output_type": "stream",
     "text": [
      "epoch = 88: best validation OA = 0.9843\n"
     ]
    },
    {
     "name": "stderr",
     "output_type": "stream",
     "text": [
      "training the network:  89%|████████▉ | 89/100 [1:59:41<14:42, 80.20s/it]"
     ]
    },
    {
     "name": "stdout",
     "output_type": "stream",
     "text": [
      "train at epoch 90/100, loss=0.028757\n"
     ]
    },
    {
     "name": "stderr",
     "output_type": "stream",
     "text": [
      "training the network:  99%|█████████▉| 99/100 [2:13:02<01:20, 80.13s/it]"
     ]
    },
    {
     "name": "stdout",
     "output_type": "stream",
     "text": [
      "train at epoch 100/100, loss=0.027103\n"
     ]
    },
    {
     "name": "stderr",
     "output_type": "stream",
     "text": [
      "training the network: 100%|██████████| 100/100 [2:13:32<00:00, 80.13s/it]\n",
      "/gpfs/home1/jmt30269/Group-Aware-Hierarchical-Transformer/train.py:58: FutureWarning: You are using `torch.load` with `weights_only=False` (the current default value), which uses the default pickle module implicitly. It is possible to construct malicious pickle data which will execute arbitrary code during unpickling (See https://github.com/pytorch/pytorch/blob/main/SECURITY.md#untrusted-models for more details). In a future release, the default value for `weights_only` will be flipped to `True`. This limits the functions that could be executed during unpickling. Arbitrary objects will no longer be allowed to be loaded via this mode unless they are explicitly allowlisted by the user via `torch.serialization.add_safe_globals`. We recommend you start setting `weights_only=True` for any use case where you don't have full control of the loaded file. Please open an issue on GitHub for any issues related to this experimental feature.\n",
      "  network.load_state_dict(torch.load(model_dir + \"/model_best.pth\"))\n",
      "inference on the HSI: 112092it [05:59, 311.45it/s]                            \n"
     ]
    },
    {
     "name": "stdout",
     "output_type": "stream",
     "text": [
      "Confusion matrix :\n",
      "[[ 169307   24871]\n",
      " [  26994 3005653]]---\n",
      "Accuracy : 98.39%\n",
      "---\n",
      "class acc :\n",
      "\tAKK: 87.19\n",
      "\tBackground: 99.11\n",
      "---\n",
      "AA: 93.15%\n",
      "Kappa: 85.86\n",
      "\n"
     ]
    }
   ],
   "source": [
    "device = torch.device(\"cuda:{}\".format(opts.device))\n",
    "print(\"model = {}\".format(opts.model))    \n",
    "print(\"dataset = {}\".format(opts.dataset_name))\n",
    "print(\"dataset folder = {}\".format(opts.dataset_dir))\n",
    "print(\"patch size = {}\".format(opts.patch_size))\n",
    "print(\"batch size = {}\".format(opts.bs))\n",
    "print(\"total epoch = {}\".format(opts.epoch))\n",
    "opts.epoch=100\n",
    "for i in np.arange(0.05, 0.2, 0.02):\n",
    "    opts.ratio=i\n",
    "    print(\"{} for training, {} for validation and {} testing\".format(opts.ratio / 2, opts.ratio / 2, 1 - opts.ratio))\n",
    "\n",
    "    # load data\n",
    "    image, gt, labels = load_mat_hsi(opts.dataset_name, opts.dataset_dir,opts.dataset_file_name)\n",
    "    \n",
    "    num_classes = len(labels)\n",
    "    num_bands = image.shape[-1]\n",
    "    \n",
    "    # random seeds\n",
    "    seeds = [202201, 202202, 202203, 202204, 202205]\n",
    "    \n",
    "    # empty list to storing results\n",
    "    results = []\n",
    "    \n",
    "    for run in range(opts.num_run):\n",
    "        np.random.seed(seeds[run])\n",
    "        print(\"running an experiment with the {} model\".format(opts.model))\n",
    "        print(\"run {} / {}\".format(run+1, opts.num_run))\n",
    "    \n",
    "        # get train_gt, val_gt and test_gt\n",
    "        trainval_gt, test_gt = sample_gt(gt, opts.ratio, seeds[run])\n",
    "        train_gt, val_gt = sample_gt(trainval_gt, 0.5, seeds[run])\n",
    "        del trainval_gt\n",
    "    \n",
    "        train_set = HSIDataset(image, train_gt, patch_size=opts.patch_size, data_aug=True)\n",
    "        val_set = HSIDataset(image, val_gt, patch_size=opts.patch_size, data_aug=False)\n",
    "    \n",
    "        train_loader = torch.utils.data.DataLoader(train_set, opts.bs, drop_last=False, shuffle=True)\n",
    "        val_loader = torch.utils.data.DataLoader(val_set, opts.bs, drop_last=False, shuffle=False)\n",
    "    \n",
    "        # load model and loss\n",
    "        model = get_model(opts.model, opts.dataset_name, opts.patch_size)\n",
    "    \n",
    "        if run == 0:\n",
    "            split_info_print(train_gt, val_gt, test_gt, labels)\n",
    "            # print(\"network information:\")\n",
    "            # with torch.no_grad():\n",
    "            #     summary(model, torch.zeros((1, 1, num_bands, opts.patch_size, opts.patch_size)))\n",
    "        \n",
    "        model = model.to(device)\n",
    "        \n",
    "        optimizer, scheduler = load_scheduler(opts.model, model)\n",
    "    \n",
    "        criterion = nn.CrossEntropyLoss()\n",
    "    \n",
    "        # where to save checkpoint model\n",
    "        model_dir = \"./checkpoints/\" + opts.model + '/' + opts.dataset_name + '/'+ str(opts.ratio)+'/' + str(opts.patch_size)+'_'+str(run)\n",
    "        print(f'model save dir : {model_dir}')\n",
    "        try:\n",
    "            train(model, optimizer, criterion, train_loader, val_loader, opts.epoch, model_dir, device, scheduler)\n",
    "        except KeyboardInterrupt:\n",
    "            print('\"ctrl+c\" is pused, the training is over')\n",
    "    \n",
    "        # test the model\n",
    "        probabilities = test(model, model_dir, image, opts.patch_size, num_classes, device)\n",
    "        \n",
    "        prediction = np.argmax(probabilities, axis=-1)\n",
    "    \n",
    "        # computing metrics\n",
    "        run_results = metrics(prediction, test_gt, n_classes=num_classes)  # only for test set\n",
    "        results.append(run_results)\n",
    "        show_results(run_results, label_values=labels)\n",
    "    \n",
    "        del model, train_set, train_loader, val_set, val_loader\n",
    "    \n",
    "    if opts.num_run > 1:\n",
    "        show_results(results, label_values=labels, agregated=True)"
   ]
  },
  {
   "cell_type": "markdown",
   "id": "5a46e937-b4b8-4b64-a1f3-cb3a33519e84",
   "metadata": {},
   "source": [
    "## test per size"
   ]
  },
  {
   "cell_type": "code",
   "execution_count": 32,
   "id": "48352ce9-934d-4070-a780-0f28a59294c9",
   "metadata": {},
   "outputs": [
    {
     "name": "stdout",
     "output_type": "stream",
     "text": [
      "['7_0_dyt', '7_1_dyt', '7_2_dyt', '7_3_dyt', '7_4_dyt', '7_5_dyt', '7_6_dyt', '7_7_dyt', '7_8_dyt', '7_9_dyt']\n"
     ]
    }
   ],
   "source": [
    "import os\n",
    "base_path='/home1/jmt30269/Group-Aware-Hierarchical-Transformer/checkpoints/proposed/gs/0.03/'\n",
    "list_dir=os.listdir(base_path)\n",
    "list_dir.sort()\n",
    "list_dir = [item for item in list_dir if '_dyt' in item]\n",
    "print(list_dir)"
   ]
  },
  {
   "cell_type": "code",
   "execution_count": 33,
   "id": "57cd972d-ef52-4e6c-a19a-6fc89e27c131",
   "metadata": {},
   "outputs": [],
   "source": [
    "def color_results(arr2d, palette):\n",
    "    arr_3d = np.zeros((arr2d.shape[0], arr2d.shape[1], 3), dtype=np.uint8)\n",
    "    for c, i in palette.items():\n",
    "        m = arr2d == c\n",
    "        arr_3d[m] = i\n",
    "    return arr_3d"
   ]
  },
  {
   "cell_type": "code",
   "execution_count": 36,
   "id": "84a13a86-01cb-436b-bb41-5bf610bb8559",
   "metadata": {},
   "outputs": [
    {
     "name": "stdout",
     "output_type": "stream",
     "text": [
      "/home1/jmt30269/Group-Aware-Hierarchical-Transformer/checkpoints/proposed/gs/0.03/7_0_dyt\n"
     ]
    },
    {
     "name": "stderr",
     "output_type": "stream",
     "text": [
      "/tmp/ipykernel_237760/2730789655.py:25: FutureWarning: You are using `torch.load` with `weights_only=False` (the current default value), which uses the default pickle module implicitly. It is possible to construct malicious pickle data which will execute arbitrary code during unpickling (See https://github.com/pytorch/pytorch/blob/main/SECURITY.md#untrusted-models for more details). In a future release, the default value for `weights_only` will be flipped to `True`. This limits the functions that could be executed during unpickling. Arbitrary objects will no longer be allowed to be loaded via this mode unless they are explicitly allowlisted by the user via `torch.serialization.add_safe_globals`. We recommend you start setting `weights_only=True` for any use case where you don't have full control of the loaded file. Please open an issue on GitHub for any issues related to this experimental feature.\n",
      "  state_dict = torch.load(os.path.join(opts.weights, 'model_best.pth'))\n",
      "/gpfs/home1/jmt30269/Group-Aware-Hierarchical-Transformer/train.py:58: FutureWarning: You are using `torch.load` with `weights_only=False` (the current default value), which uses the default pickle module implicitly. It is possible to construct malicious pickle data which will execute arbitrary code during unpickling (See https://github.com/pytorch/pytorch/blob/main/SECURITY.md#untrusted-models for more details). In a future release, the default value for `weights_only` will be flipped to `True`. This limits the functions that could be executed during unpickling. Arbitrary objects will no longer be allowed to be loaded via this mode unless they are explicitly allowlisted by the user via `torch.serialization.add_safe_globals`. We recommend you start setting `weights_only=True` for any use case where you don't have full control of the loaded file. Please open an issue on GitHub for any issues related to this experimental feature.\n",
      "  network.load_state_dict(torch.load(model_dir + \"/model_best.pth\"))\n",
      "inference on the HSI: 112092it [05:30, 338.76it/s]                            \n"
     ]
    },
    {
     "name": "stdout",
     "output_type": "stream",
     "text": [
      "Confusion matrix :\n",
      "[[ 180047   59679]\n",
      " [  41972 3702036]]---\n",
      "Accuracy : 97.45%\n",
      "---\n",
      "class acc :\n",
      "\tAKK: 75.11\n",
      "\tBackground: 98.88\n",
      "---\n",
      "AA: 86.99%\n",
      "Kappa: 76.63\n",
      "\n",
      "/home1/jmt30269/Group-Aware-Hierarchical-Transformer/checkpoints/proposed/gs/0.03/7_1_dyt\n"
     ]
    },
    {
     "name": "stderr",
     "output_type": "stream",
     "text": [
      "/tmp/ipykernel_237760/2730789655.py:25: FutureWarning: You are using `torch.load` with `weights_only=False` (the current default value), which uses the default pickle module implicitly. It is possible to construct malicious pickle data which will execute arbitrary code during unpickling (See https://github.com/pytorch/pytorch/blob/main/SECURITY.md#untrusted-models for more details). In a future release, the default value for `weights_only` will be flipped to `True`. This limits the functions that could be executed during unpickling. Arbitrary objects will no longer be allowed to be loaded via this mode unless they are explicitly allowlisted by the user via `torch.serialization.add_safe_globals`. We recommend you start setting `weights_only=True` for any use case where you don't have full control of the loaded file. Please open an issue on GitHub for any issues related to this experimental feature.\n",
      "  state_dict = torch.load(os.path.join(opts.weights, 'model_best.pth'))\n",
      "/gpfs/home1/jmt30269/Group-Aware-Hierarchical-Transformer/train.py:58: FutureWarning: You are using `torch.load` with `weights_only=False` (the current default value), which uses the default pickle module implicitly. It is possible to construct malicious pickle data which will execute arbitrary code during unpickling (See https://github.com/pytorch/pytorch/blob/main/SECURITY.md#untrusted-models for more details). In a future release, the default value for `weights_only` will be flipped to `True`. This limits the functions that could be executed during unpickling. Arbitrary objects will no longer be allowed to be loaded via this mode unless they are explicitly allowlisted by the user via `torch.serialization.add_safe_globals`. We recommend you start setting `weights_only=True` for any use case where you don't have full control of the loaded file. Please open an issue on GitHub for any issues related to this experimental feature.\n",
      "  network.load_state_dict(torch.load(model_dir + \"/model_best.pth\"))\n",
      "inference on the HSI: 112092it [05:31, 338.10it/s]                            \n"
     ]
    },
    {
     "name": "stdout",
     "output_type": "stream",
     "text": [
      "Confusion matrix :\n",
      "[[ 170925   68801]\n",
      " [  35852 3708156]]---\n",
      "Accuracy : 97.37%\n",
      "---\n",
      "class acc :\n",
      "\tAKK: 71.30\n",
      "\tBackground: 99.04\n",
      "---\n",
      "AA: 85.17%\n",
      "Kappa: 75.18\n",
      "\n",
      "/home1/jmt30269/Group-Aware-Hierarchical-Transformer/checkpoints/proposed/gs/0.03/7_2_dyt\n"
     ]
    },
    {
     "name": "stderr",
     "output_type": "stream",
     "text": [
      "/tmp/ipykernel_237760/2730789655.py:25: FutureWarning: You are using `torch.load` with `weights_only=False` (the current default value), which uses the default pickle module implicitly. It is possible to construct malicious pickle data which will execute arbitrary code during unpickling (See https://github.com/pytorch/pytorch/blob/main/SECURITY.md#untrusted-models for more details). In a future release, the default value for `weights_only` will be flipped to `True`. This limits the functions that could be executed during unpickling. Arbitrary objects will no longer be allowed to be loaded via this mode unless they are explicitly allowlisted by the user via `torch.serialization.add_safe_globals`. We recommend you start setting `weights_only=True` for any use case where you don't have full control of the loaded file. Please open an issue on GitHub for any issues related to this experimental feature.\n",
      "  state_dict = torch.load(os.path.join(opts.weights, 'model_best.pth'))\n",
      "/gpfs/home1/jmt30269/Group-Aware-Hierarchical-Transformer/train.py:58: FutureWarning: You are using `torch.load` with `weights_only=False` (the current default value), which uses the default pickle module implicitly. It is possible to construct malicious pickle data which will execute arbitrary code during unpickling (See https://github.com/pytorch/pytorch/blob/main/SECURITY.md#untrusted-models for more details). In a future release, the default value for `weights_only` will be flipped to `True`. This limits the functions that could be executed during unpickling. Arbitrary objects will no longer be allowed to be loaded via this mode unless they are explicitly allowlisted by the user via `torch.serialization.add_safe_globals`. We recommend you start setting `weights_only=True` for any use case where you don't have full control of the loaded file. Please open an issue on GitHub for any issues related to this experimental feature.\n",
      "  network.load_state_dict(torch.load(model_dir + \"/model_best.pth\"))\n",
      "inference on the HSI: 112092it [05:29, 340.13it/s]                            \n"
     ]
    },
    {
     "name": "stdout",
     "output_type": "stream",
     "text": [
      "Confusion matrix :\n",
      "[[ 174928   64798]\n",
      " [  40879 3703129]]---\n",
      "Accuracy : 97.35%\n",
      "---\n",
      "class acc :\n",
      "\tAKK: 72.97\n",
      "\tBackground: 98.91\n",
      "---\n",
      "AA: 85.94%\n",
      "Kappa: 75.40\n",
      "\n",
      "/home1/jmt30269/Group-Aware-Hierarchical-Transformer/checkpoints/proposed/gs/0.03/7_3_dyt\n"
     ]
    },
    {
     "name": "stderr",
     "output_type": "stream",
     "text": [
      "/tmp/ipykernel_237760/2730789655.py:25: FutureWarning: You are using `torch.load` with `weights_only=False` (the current default value), which uses the default pickle module implicitly. It is possible to construct malicious pickle data which will execute arbitrary code during unpickling (See https://github.com/pytorch/pytorch/blob/main/SECURITY.md#untrusted-models for more details). In a future release, the default value for `weights_only` will be flipped to `True`. This limits the functions that could be executed during unpickling. Arbitrary objects will no longer be allowed to be loaded via this mode unless they are explicitly allowlisted by the user via `torch.serialization.add_safe_globals`. We recommend you start setting `weights_only=True` for any use case where you don't have full control of the loaded file. Please open an issue on GitHub for any issues related to this experimental feature.\n",
      "  state_dict = torch.load(os.path.join(opts.weights, 'model_best.pth'))\n",
      "/gpfs/home1/jmt30269/Group-Aware-Hierarchical-Transformer/train.py:58: FutureWarning: You are using `torch.load` with `weights_only=False` (the current default value), which uses the default pickle module implicitly. It is possible to construct malicious pickle data which will execute arbitrary code during unpickling (See https://github.com/pytorch/pytorch/blob/main/SECURITY.md#untrusted-models for more details). In a future release, the default value for `weights_only` will be flipped to `True`. This limits the functions that could be executed during unpickling. Arbitrary objects will no longer be allowed to be loaded via this mode unless they are explicitly allowlisted by the user via `torch.serialization.add_safe_globals`. We recommend you start setting `weights_only=True` for any use case where you don't have full control of the loaded file. Please open an issue on GitHub for any issues related to this experimental feature.\n",
      "  network.load_state_dict(torch.load(model_dir + \"/model_best.pth\"))\n",
      "inference on the HSI: 112092it [05:30, 339.44it/s]                            \n"
     ]
    },
    {
     "name": "stdout",
     "output_type": "stream",
     "text": [
      "Confusion matrix :\n",
      "[[ 186174   53552]\n",
      " [  50602 3693406]]---\n",
      "Accuracy : 97.39%\n",
      "---\n",
      "class acc :\n",
      "\tAKK: 77.66\n",
      "\tBackground: 98.65\n",
      "---\n",
      "AA: 88.15%\n",
      "Kappa: 76.75\n",
      "\n",
      "/home1/jmt30269/Group-Aware-Hierarchical-Transformer/checkpoints/proposed/gs/0.03/7_4_dyt\n"
     ]
    },
    {
     "name": "stderr",
     "output_type": "stream",
     "text": [
      "/tmp/ipykernel_237760/2730789655.py:25: FutureWarning: You are using `torch.load` with `weights_only=False` (the current default value), which uses the default pickle module implicitly. It is possible to construct malicious pickle data which will execute arbitrary code during unpickling (See https://github.com/pytorch/pytorch/blob/main/SECURITY.md#untrusted-models for more details). In a future release, the default value for `weights_only` will be flipped to `True`. This limits the functions that could be executed during unpickling. Arbitrary objects will no longer be allowed to be loaded via this mode unless they are explicitly allowlisted by the user via `torch.serialization.add_safe_globals`. We recommend you start setting `weights_only=True` for any use case where you don't have full control of the loaded file. Please open an issue on GitHub for any issues related to this experimental feature.\n",
      "  state_dict = torch.load(os.path.join(opts.weights, 'model_best.pth'))\n",
      "/gpfs/home1/jmt30269/Group-Aware-Hierarchical-Transformer/train.py:58: FutureWarning: You are using `torch.load` with `weights_only=False` (the current default value), which uses the default pickle module implicitly. It is possible to construct malicious pickle data which will execute arbitrary code during unpickling (See https://github.com/pytorch/pytorch/blob/main/SECURITY.md#untrusted-models for more details). In a future release, the default value for `weights_only` will be flipped to `True`. This limits the functions that could be executed during unpickling. Arbitrary objects will no longer be allowed to be loaded via this mode unless they are explicitly allowlisted by the user via `torch.serialization.add_safe_globals`. We recommend you start setting `weights_only=True` for any use case where you don't have full control of the loaded file. Please open an issue on GitHub for any issues related to this experimental feature.\n",
      "  network.load_state_dict(torch.load(model_dir + \"/model_best.pth\"))\n",
      "inference on the HSI: 112092it [05:31, 338.36it/s]                            \n"
     ]
    },
    {
     "name": "stdout",
     "output_type": "stream",
     "text": [
      "Confusion matrix :\n",
      "[[ 174599   65127]\n",
      " [  41766 3702242]]---\n",
      "Accuracy : 97.32%\n",
      "---\n",
      "class acc :\n",
      "\tAKK: 72.83\n",
      "\tBackground: 98.88\n",
      "---\n",
      "AA: 85.86%\n",
      "Kappa: 75.14\n",
      "\n",
      "/home1/jmt30269/Group-Aware-Hierarchical-Transformer/checkpoints/proposed/gs/0.03/7_5_dyt\n"
     ]
    },
    {
     "name": "stderr",
     "output_type": "stream",
     "text": [
      "/tmp/ipykernel_237760/2730789655.py:25: FutureWarning: You are using `torch.load` with `weights_only=False` (the current default value), which uses the default pickle module implicitly. It is possible to construct malicious pickle data which will execute arbitrary code during unpickling (See https://github.com/pytorch/pytorch/blob/main/SECURITY.md#untrusted-models for more details). In a future release, the default value for `weights_only` will be flipped to `True`. This limits the functions that could be executed during unpickling. Arbitrary objects will no longer be allowed to be loaded via this mode unless they are explicitly allowlisted by the user via `torch.serialization.add_safe_globals`. We recommend you start setting `weights_only=True` for any use case where you don't have full control of the loaded file. Please open an issue on GitHub for any issues related to this experimental feature.\n",
      "  state_dict = torch.load(os.path.join(opts.weights, 'model_best.pth'))\n",
      "/gpfs/home1/jmt30269/Group-Aware-Hierarchical-Transformer/train.py:58: FutureWarning: You are using `torch.load` with `weights_only=False` (the current default value), which uses the default pickle module implicitly. It is possible to construct malicious pickle data which will execute arbitrary code during unpickling (See https://github.com/pytorch/pytorch/blob/main/SECURITY.md#untrusted-models for more details). In a future release, the default value for `weights_only` will be flipped to `True`. This limits the functions that could be executed during unpickling. Arbitrary objects will no longer be allowed to be loaded via this mode unless they are explicitly allowlisted by the user via `torch.serialization.add_safe_globals`. We recommend you start setting `weights_only=True` for any use case where you don't have full control of the loaded file. Please open an issue on GitHub for any issues related to this experimental feature.\n",
      "  network.load_state_dict(torch.load(model_dir + \"/model_best.pth\"))\n",
      "inference on the HSI: 112092it [05:31, 337.85it/s]                            \n"
     ]
    },
    {
     "name": "stdout",
     "output_type": "stream",
     "text": [
      "Confusion matrix :\n",
      "[[ 175390   64336]\n",
      " [  37900 3706108]]---\n",
      "Accuracy : 97.43%\n",
      "---\n",
      "class acc :\n",
      "\tAKK: 73.16\n",
      "\tBackground: 98.99\n",
      "---\n",
      "AA: 86.08%\n",
      "Kappa: 76.08\n",
      "\n",
      "/home1/jmt30269/Group-Aware-Hierarchical-Transformer/checkpoints/proposed/gs/0.03/7_6_dyt\n"
     ]
    },
    {
     "name": "stderr",
     "output_type": "stream",
     "text": [
      "/tmp/ipykernel_237760/2730789655.py:25: FutureWarning: You are using `torch.load` with `weights_only=False` (the current default value), which uses the default pickle module implicitly. It is possible to construct malicious pickle data which will execute arbitrary code during unpickling (See https://github.com/pytorch/pytorch/blob/main/SECURITY.md#untrusted-models for more details). In a future release, the default value for `weights_only` will be flipped to `True`. This limits the functions that could be executed during unpickling. Arbitrary objects will no longer be allowed to be loaded via this mode unless they are explicitly allowlisted by the user via `torch.serialization.add_safe_globals`. We recommend you start setting `weights_only=True` for any use case where you don't have full control of the loaded file. Please open an issue on GitHub for any issues related to this experimental feature.\n",
      "  state_dict = torch.load(os.path.join(opts.weights, 'model_best.pth'))\n",
      "/gpfs/home1/jmt30269/Group-Aware-Hierarchical-Transformer/train.py:58: FutureWarning: You are using `torch.load` with `weights_only=False` (the current default value), which uses the default pickle module implicitly. It is possible to construct malicious pickle data which will execute arbitrary code during unpickling (See https://github.com/pytorch/pytorch/blob/main/SECURITY.md#untrusted-models for more details). In a future release, the default value for `weights_only` will be flipped to `True`. This limits the functions that could be executed during unpickling. Arbitrary objects will no longer be allowed to be loaded via this mode unless they are explicitly allowlisted by the user via `torch.serialization.add_safe_globals`. We recommend you start setting `weights_only=True` for any use case where you don't have full control of the loaded file. Please open an issue on GitHub for any issues related to this experimental feature.\n",
      "  network.load_state_dict(torch.load(model_dir + \"/model_best.pth\"))\n",
      "inference on the HSI: 112092it [05:31, 337.67it/s]                            \n"
     ]
    },
    {
     "name": "stdout",
     "output_type": "stream",
     "text": [
      "Confusion matrix :\n",
      "[[ 187838   51888]\n",
      " [  53511 3690497]]---\n",
      "Accuracy : 97.35%\n",
      "---\n",
      "class acc :\n",
      "\tAKK: 78.36\n",
      "\tBackground: 98.57\n",
      "---\n",
      "AA: 88.46%\n",
      "Kappa: 76.68\n",
      "\n",
      "/home1/jmt30269/Group-Aware-Hierarchical-Transformer/checkpoints/proposed/gs/0.03/7_7_dyt\n"
     ]
    },
    {
     "name": "stderr",
     "output_type": "stream",
     "text": [
      "/tmp/ipykernel_237760/2730789655.py:25: FutureWarning: You are using `torch.load` with `weights_only=False` (the current default value), which uses the default pickle module implicitly. It is possible to construct malicious pickle data which will execute arbitrary code during unpickling (See https://github.com/pytorch/pytorch/blob/main/SECURITY.md#untrusted-models for more details). In a future release, the default value for `weights_only` will be flipped to `True`. This limits the functions that could be executed during unpickling. Arbitrary objects will no longer be allowed to be loaded via this mode unless they are explicitly allowlisted by the user via `torch.serialization.add_safe_globals`. We recommend you start setting `weights_only=True` for any use case where you don't have full control of the loaded file. Please open an issue on GitHub for any issues related to this experimental feature.\n",
      "  state_dict = torch.load(os.path.join(opts.weights, 'model_best.pth'))\n",
      "/gpfs/home1/jmt30269/Group-Aware-Hierarchical-Transformer/train.py:58: FutureWarning: You are using `torch.load` with `weights_only=False` (the current default value), which uses the default pickle module implicitly. It is possible to construct malicious pickle data which will execute arbitrary code during unpickling (See https://github.com/pytorch/pytorch/blob/main/SECURITY.md#untrusted-models for more details). In a future release, the default value for `weights_only` will be flipped to `True`. This limits the functions that could be executed during unpickling. Arbitrary objects will no longer be allowed to be loaded via this mode unless they are explicitly allowlisted by the user via `torch.serialization.add_safe_globals`. We recommend you start setting `weights_only=True` for any use case where you don't have full control of the loaded file. Please open an issue on GitHub for any issues related to this experimental feature.\n",
      "  network.load_state_dict(torch.load(model_dir + \"/model_best.pth\"))\n",
      "inference on the HSI: 112092it [05:31, 338.09it/s]                            \n"
     ]
    },
    {
     "name": "stdout",
     "output_type": "stream",
     "text": [
      "Confusion matrix :\n",
      "[[ 173534   66192]\n",
      " [  38074 3705934]]---\n",
      "Accuracy : 97.38%\n",
      "---\n",
      "class acc :\n",
      "\tAKK: 72.39\n",
      "\tBackground: 98.98\n",
      "---\n",
      "AA: 85.69%\n",
      "Kappa: 75.52\n",
      "\n",
      "/home1/jmt30269/Group-Aware-Hierarchical-Transformer/checkpoints/proposed/gs/0.03/7_8_dyt\n"
     ]
    },
    {
     "name": "stderr",
     "output_type": "stream",
     "text": [
      "/tmp/ipykernel_237760/2730789655.py:25: FutureWarning: You are using `torch.load` with `weights_only=False` (the current default value), which uses the default pickle module implicitly. It is possible to construct malicious pickle data which will execute arbitrary code during unpickling (See https://github.com/pytorch/pytorch/blob/main/SECURITY.md#untrusted-models for more details). In a future release, the default value for `weights_only` will be flipped to `True`. This limits the functions that could be executed during unpickling. Arbitrary objects will no longer be allowed to be loaded via this mode unless they are explicitly allowlisted by the user via `torch.serialization.add_safe_globals`. We recommend you start setting `weights_only=True` for any use case where you don't have full control of the loaded file. Please open an issue on GitHub for any issues related to this experimental feature.\n",
      "  state_dict = torch.load(os.path.join(opts.weights, 'model_best.pth'))\n",
      "/gpfs/home1/jmt30269/Group-Aware-Hierarchical-Transformer/train.py:58: FutureWarning: You are using `torch.load` with `weights_only=False` (the current default value), which uses the default pickle module implicitly. It is possible to construct malicious pickle data which will execute arbitrary code during unpickling (See https://github.com/pytorch/pytorch/blob/main/SECURITY.md#untrusted-models for more details). In a future release, the default value for `weights_only` will be flipped to `True`. This limits the functions that could be executed during unpickling. Arbitrary objects will no longer be allowed to be loaded via this mode unless they are explicitly allowlisted by the user via `torch.serialization.add_safe_globals`. We recommend you start setting `weights_only=True` for any use case where you don't have full control of the loaded file. Please open an issue on GitHub for any issues related to this experimental feature.\n",
      "  network.load_state_dict(torch.load(model_dir + \"/model_best.pth\"))\n",
      "inference on the HSI: 112092it [05:30, 339.39it/s]                            \n"
     ]
    },
    {
     "name": "stdout",
     "output_type": "stream",
     "text": [
      "Confusion matrix :\n",
      "[[ 177499   62227]\n",
      " [  42520 3701488]]---\n",
      "Accuracy : 97.37%\n",
      "---\n",
      "class acc :\n",
      "\tAKK: 74.04\n",
      "\tBackground: 98.86\n",
      "---\n",
      "AA: 86.45%\n",
      "Kappa: 75.82\n",
      "\n",
      "/home1/jmt30269/Group-Aware-Hierarchical-Transformer/checkpoints/proposed/gs/0.03/7_9_dyt\n"
     ]
    },
    {
     "name": "stderr",
     "output_type": "stream",
     "text": [
      "/tmp/ipykernel_237760/2730789655.py:25: FutureWarning: You are using `torch.load` with `weights_only=False` (the current default value), which uses the default pickle module implicitly. It is possible to construct malicious pickle data which will execute arbitrary code during unpickling (See https://github.com/pytorch/pytorch/blob/main/SECURITY.md#untrusted-models for more details). In a future release, the default value for `weights_only` will be flipped to `True`. This limits the functions that could be executed during unpickling. Arbitrary objects will no longer be allowed to be loaded via this mode unless they are explicitly allowlisted by the user via `torch.serialization.add_safe_globals`. We recommend you start setting `weights_only=True` for any use case where you don't have full control of the loaded file. Please open an issue on GitHub for any issues related to this experimental feature.\n",
      "  state_dict = torch.load(os.path.join(opts.weights, 'model_best.pth'))\n",
      "/gpfs/home1/jmt30269/Group-Aware-Hierarchical-Transformer/train.py:58: FutureWarning: You are using `torch.load` with `weights_only=False` (the current default value), which uses the default pickle module implicitly. It is possible to construct malicious pickle data which will execute arbitrary code during unpickling (See https://github.com/pytorch/pytorch/blob/main/SECURITY.md#untrusted-models for more details). In a future release, the default value for `weights_only` will be flipped to `True`. This limits the functions that could be executed during unpickling. Arbitrary objects will no longer be allowed to be loaded via this mode unless they are explicitly allowlisted by the user via `torch.serialization.add_safe_globals`. We recommend you start setting `weights_only=True` for any use case where you don't have full control of the loaded file. Please open an issue on GitHub for any issues related to this experimental feature.\n",
      "  network.load_state_dict(torch.load(model_dir + \"/model_best.pth\"))\n",
      "inference on the HSI: 112092it [05:31, 338.07it/s]                            \n"
     ]
    },
    {
     "name": "stdout",
     "output_type": "stream",
     "text": [
      "Confusion matrix :\n",
      "[[ 170332   69394]\n",
      " [  35555 3708453]]---\n",
      "Accuracy : 97.37%\n",
      "---\n",
      "class acc :\n",
      "\tAKK: 71.05\n",
      "\tBackground: 99.05\n",
      "---\n",
      "AA: 85.05%\n",
      "Kappa: 75.06\n",
      "\n"
     ]
    }
   ],
   "source": [
    "for ratio in list_dir:\n",
    "    opts.weights=base_path+ratio\n",
    "    print(opts.weights)\n",
    "    # load data\n",
    "    image, gt, labels = load_mat_hsi(opts.dataset_name, opts.dataset_dir,opts.dataset_file_name)\n",
    "    \n",
    "    num_classes = len(labels)\n",
    "    num_bands = image.shape[-1]\n",
    "\n",
    "    # empty list to storing results\n",
    "    results = []\n",
    "    \n",
    "    palette = {0: (0, 0, 0)}\n",
    "    for k, color in enumerate(sns.color_palette(\"hls\", num_classes + 1)):\n",
    "        palette[k + 1] = tuple(np.asarray(255 * np.array(color), dtype='uint8'))\n",
    "    \n",
    "    # load model and weights\n",
    "    model = get_model(opts.model, opts.dataset_name, opts.patch_size)\n",
    "    # print('loading weights from %s' % opts.weights + '/model_best.pth')\n",
    "    model = model.to(device)\n",
    "    model.load_state_dict(torch.load(os.path.join(opts.weights, 'model_best.pth')))\n",
    "    model.eval()\n",
    "    \n",
    "    # testing model: metric for the whole HSI, including train, val, and test\n",
    "    probabilities = test(model, opts.weights, image, opts.patch_size, num_classes, device=device)\n",
    "    prediction = np.argmax(probabilities, axis=-1)\n",
    "    \n",
    "    run_results = metrics(prediction, gt, n_classes=num_classes)\n",
    "    \n",
    "    prediction[gt < 0] = -1\n",
    "    \n",
    "    # color results\n",
    "    colored_gt = color_results(gt+1, palette)\n",
    "    colored_pred = color_results(prediction+1, palette)\n",
    "    \n",
    "    outfile = os.path.join(opts.outputs, opts.dataset_name,  opts.model)\n",
    "    os.makedirs(outfile, exist_ok=True)\n",
    "    \n",
    "    # imageio.imsave(os.path.join(outfile, opts.dataset_name + '_gt.png'), colored_gt)  # eps or png\n",
    "    imageio.imsave(os.path.join(outfile, opts.dataset_name+'_' + opts.model+\"_\"+ratio+ '_out.png'), colored_pred)  # or png\n",
    "    \n",
    "    prod = probabilities.reshape(-1,2)\n",
    "    gtt= gt.reshape(-1)\n",
    "    predd = prediction.reshape(-1)\n",
    "    gtt=gtt +1\n",
    "    predd=predd +1\n",
    "    df = pd.DataFrame({\n",
    "        'gt': gtt,\n",
    "        'prob_akk': prod[:, 0],  # 첫 번째 열\n",
    "        'prob_back': prod[:, 1],  # 두 번째 열\n",
    "        'pred': predd\n",
    "    })\n",
    "    df.to_csv(os.path.join(outfile, opts.dataset_name+'_' + opts.model+\"_\"+str(ratio)+\"_result.csv\"),index=False)\n",
    "    \n",
    "    show_results(run_results, label_values=labels)\n",
    "    del model\n"
   ]
  },
  {
   "cell_type": "code",
   "execution_count": null,
   "id": "4e6c887e-b8df-4c5c-9e06-65b8464e94d1",
   "metadata": {},
   "outputs": [],
   "source": []
  }
 ],
 "metadata": {
  "kernelspec": {
   "display_name": "Python 3",
   "language": "python",
   "name": "python3"
  },
  "language_info": {
   "codemirror_mode": {
    "name": "ipython",
    "version": 3
   },
   "file_extension": ".py",
   "mimetype": "text/x-python",
   "name": "python",
   "nbconvert_exporter": "python",
   "pygments_lexer": "ipython3",
   "version": "3.12.9"
  }
 },
 "nbformat": 4,
 "nbformat_minor": 5
}
